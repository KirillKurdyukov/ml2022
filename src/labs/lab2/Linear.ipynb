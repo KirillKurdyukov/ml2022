{
 "cells": [
  {
   "cell_type": "code",
   "execution_count": 1,
   "id": "7e96afe2",
   "metadata": {},
   "outputs": [],
   "source": [
    "import numpy as np\n",
    "import optuna\n",
    "import random as r\n",
    "import matplotlib.pyplot as plt"
   ]
  },
  {
   "cell_type": "code",
   "execution_count": 2,
   "id": "aa4ae5db",
   "metadata": {},
   "outputs": [],
   "source": [
    "def load_data_frame(file_name): \n",
    "    with open(file_name) as file: \n",
    "        m = int(next(file))\n",
    "        size_train = int(next(file))\n",
    "        \n",
    "        x_train = []\n",
    "        y_train = []\n",
    "        \n",
    "        for i in range(size_train): \n",
    "            vector = list(map(float, next(file).split()))\n",
    "            x_train.append(vector[:-1])\n",
    "            y_train.append(vector[-1])\n",
    "            x_train[i].append(1)\n",
    "            \n",
    "        size_test = int(next(file))\n",
    "        \n",
    "        x_test = []\n",
    "        y_test = []\n",
    "        \n",
    "        for i in range(size_test): \n",
    "            vector = list(map(float, next(file).split()))\n",
    "            x_test.append(vector[:-1])\n",
    "            y_test.append(vector[-1])\n",
    "            x_test[i].append(1)\n",
    "            \n",
    "        return np.array(x_train), np.array(y_train), np.array(x_test), np.array(y_test), m"
   ]
  },
  {
   "cell_type": "code",
   "execution_count": 3,
   "id": "86d5bb47",
   "metadata": {
    "scrolled": true
   },
   "outputs": [],
   "source": [
    "file_name = \"LR/1.txt\""
   ]
  },
  {
   "cell_type": "code",
   "execution_count": 4,
   "id": "43711bfe",
   "metadata": {},
   "outputs": [],
   "source": [
    "x_train, y_train, x_test, y_test, m = load_data_frame(file_name)"
   ]
  },
  {
   "cell_type": "code",
   "execution_count": 5,
   "id": "28beff08",
   "metadata": {},
   "outputs": [],
   "source": [
    "def normalize_objects(matrix, m): \n",
    "    for i in range(m): \n",
    "        mx = matrix[:, i].max()\n",
    "        mn = matrix[:, i].min()\n",
    "        for j in range(len(matrix)): \n",
    "            if (mn == mx):\n",
    "                matrix[j][i] = 0\n",
    "            else: \n",
    "                matrix[j][i] = (matrix[j][i] - mn) / (mx - mn)"
   ]
  },
  {
   "cell_type": "code",
   "execution_count": 6,
   "id": "1fa9eb28",
   "metadata": {},
   "outputs": [],
   "source": [
    "def normalize_tags(ys): \n",
    "    mx = ys.max()\n",
    "    mn = ys.min()\n",
    "    for i in range(len(ys)): \n",
    "        if (mn == mx): \n",
    "            ys[i] = 0\n",
    "        else:\n",
    "            ys[i] = (ys[i] - mn) / (mx - mn) "
   ]
  },
  {
   "cell_type": "code",
   "execution_count": 7,
   "id": "f33e0d0a",
   "metadata": {},
   "outputs": [],
   "source": [
    "normalize_objects(x_train, m)\n",
    "normalize_tags(y_train)\n",
    "\n",
    "normalize_objects(x_test, m)\n",
    "normalize_tags(y_test)"
   ]
  },
  {
   "cell_type": "code",
   "execution_count": 8,
   "id": "82b90aac",
   "metadata": {},
   "outputs": [],
   "source": [
    "def gradientMSE(x, w, y): \n",
    "    gradient = []\n",
    "    scalar = np.dot(x, w)\n",
    "    for i in range(len(w)): \n",
    "        gradient.append(2 * (scalar - y) * x[i])\n",
    "    return np.array(gradient)    "
   ]
  },
  {
   "cell_type": "code",
   "execution_count": 9,
   "id": "4e62d4cb",
   "metadata": {},
   "outputs": [],
   "source": [
    "def gradientSMAPE(x, w, y): \n",
    "    gradient = []\n",
    "    scalar = np.dot(x, w)\n",
    "    for i in range(len(w)):\n",
    "        numerator = abs(scalar - y)\n",
    "        denominator = abs(scalar) + abs(y) \n",
    "        module1 = x[i] * numerator / (scalar - y)\n",
    "        module2 = x[i] * scalar / abs(scalar)\n",
    "        gradient.append((module1 * denominator - numerator * module2) / (denominator * denominator))\n",
    "    return np.array(gradient)    "
   ]
  },
  {
   "cell_type": "code",
   "execution_count": 10,
   "id": "9b321746",
   "metadata": {},
   "outputs": [],
   "source": [
    "def init_L(w, function):\n",
    "    L = 0\n",
    "    for i in range(len(x_train)):\n",
    "        L += function(w, x_train[i], y_train[i])\n",
    "    return L / len(x_train)\n",
    "\n",
    "def gradient(xs, ys, steps, step, gradientFun, tau, alpha, delta): \n",
    "    r.seed(0)\n",
    "    w = []\n",
    "    n = len(xs)\n",
    "    left_bound = -1 / (2 * n)\n",
    "    right_bound = 1 / (2 * n)\n",
    "    for i in range(m + 1):\n",
    "        w.append(r.uniform(left_bound, right_bound))\n",
    "    w = np.array(w)\n",
    "    L = init_L(w, delta)\n",
    "    l_taus = []\n",
    "    eps = 1e-6\n",
    "    for i in range(steps):\n",
    "        mu = step / (i + 1)\n",
    "        j = r.randint(0, n - 1)\n",
    "        \n",
    "        l_tau = delta(w, xs[j], ys[j]) + (tau / 2) * (np.linalg.norm(w) ** 2)\n",
    "        l_taus.append(l_tau)\n",
    "        L_prev = L\n",
    "        L = (1 - alpha) * L + alpha * l_tau\n",
    "        \n",
    "        w_new = w * (1.0 - tau * mu) - mu * gradientFun(xs[j], w, ys[j])\n",
    "        \n",
    "        if (np.dot(w_new - w, w_new - w) < eps or abs(L - L_prev) < eps):\n",
    "            return w, l_taus  \n",
    "        \n",
    "        w = w_new\n",
    "    return w, l_taus     "
   ]
  },
  {
   "cell_type": "code",
   "execution_count": 11,
   "id": "58eafc2f",
   "metadata": {},
   "outputs": [],
   "source": [
    "def SMAPE(w, x, y):\n",
    "    scalar = np.dot(w, x)\n",
    "    if (abs(scalar) + abs(y) == 0):\n",
    "        return 0\n",
    "\n",
    "    return abs(scalar - y) / (abs(scalar) + abs(y))"
   ]
  },
  {
   "cell_type": "code",
   "execution_count": 12,
   "id": "60813eed",
   "metadata": {},
   "outputs": [],
   "source": [
    "def MSE(w, x, y):\n",
    "    scalar = np.dot(w, x)\n",
    "    \n",
    "    return (scalar - y) ** 2 "
   ]
  },
  {
   "cell_type": "code",
   "execution_count": 13,
   "id": "b10fb285",
   "metadata": {},
   "outputs": [],
   "source": [
    "def error_smape(w): \n",
    "    sum = 0\n",
    "    for i in range(len(x_test)):\n",
    "        sum += SMAPE(w, x_test[i], y_test[i])\n",
    "    return 100 * sum / len(x_test)     "
   ]
  },
  {
   "cell_type": "code",
   "execution_count": 14,
   "id": "2d8d48a6",
   "metadata": {},
   "outputs": [],
   "source": [
    "def error_mse(w):\n",
    "    sum = 0 \n",
    "    for i in range(len(x_test)):\n",
    "        sum += MSE(w, x_test[i], y_test[i]) \n",
    "    return sum / len(x_test) "
   ]
  },
  {
   "cell_type": "code",
   "execution_count": 15,
   "id": "12d38dc0",
   "metadata": {},
   "outputs": [],
   "source": [
    "def error_nrmse(w):\n",
    "    return (error_mse(w) ** 0.5) / (y_test.max() - y_test.min())   "
   ]
  },
  {
   "cell_type": "code",
   "execution_count": 16,
   "id": "c47418b5",
   "metadata": {},
   "outputs": [],
   "source": [
    "def ema(list, alpha):\n",
    "    ema = [0]\n",
    "    for elem in list:\n",
    "        ema.append((elem * alpha) + ema[-1] * (1 - alpha))\n",
    "    return ema"
   ]
  },
  {
   "cell_type": "code",
   "execution_count": 17,
   "id": "bcbdcefc",
   "metadata": {},
   "outputs": [],
   "source": [
    "def graf_l_taus(tau, alpha, step, gradientFun, delta):\n",
    "    w, l_taus = gradient(x_train, y_train, 2000, step, gradientFun, tau, alpha, delta)\n",
    "    \n",
    "    ema_X = list(range(len(l_taus) + 1))\n",
    "    ema_Y = ema(l_taus, 0.2)\n",
    "\n",
    "    original_X = list(range(len(l_taus)))\n",
    "    original_Y = l_taus\n",
    "\n",
    "    plt.xlabel('Number of objects')\n",
    "    plt.ylabel('Error')\n",
    "    plt.plot(original_X, original_Y, label='Original')\n",
    "    plt.plot(ema_X, ema_Y, label='EMA')\n",
    "    plt.legend()\n",
    "    plt.show()"
   ]
  },
  {
   "cell_type": "code",
   "execution_count": 18,
   "id": "77c11df0",
   "metadata": {},
   "outputs": [],
   "source": [
    "def objective_gradient(trial, gradientFun, error_function, delta):\n",
    "    tau = trial.suggest_uniform(\"tau\", 0, 10)\n",
    "    alpha = trial.suggest_uniform(\"alpha\", 0.1, 0.9)\n",
    "    step = trial.suggest_uniform(\"step\", 0.001, 1)\n",
    "    \n",
    "    w, _ = gradient(x_train, y_train, 2000, step, gradientFun, tau, alpha, delta)\n",
    "    \n",
    "    return error_function(w)"
   ]
  },
  {
   "cell_type": "code",
   "execution_count": 19,
   "id": "1211df5a",
   "metadata": {},
   "outputs": [
    {
     "name": "stderr",
     "output_type": "stream",
     "text": [
      "\u001b[32m[I 2022-03-23 17:52:56,988]\u001b[0m A new study created in memory with name: no-name-06686d00-d649-4166-b1a7-6a1ab3939e1c\u001b[0m\n",
      "\u001b[32m[I 2022-03-23 17:52:56,998]\u001b[0m Trial 0 finished with value: 99.99991805375305 and parameters: {'tau': 3.00330103723173, 'alpha': 0.15868543184088227, 'step': 0.20439907352120507}. Best is trial 0 with value: 99.99991805375305.\u001b[0m\n",
      "\u001b[32m[I 2022-03-23 17:52:57,120]\u001b[0m Trial 1 finished with value: 4.551182060887094 and parameters: {'tau': 9.451046236203425, 'alpha': 0.18445767047517192, 'step': 0.12317505926349509}. Best is trial 1 with value: 4.551182060887094.\u001b[0m\n",
      "\u001b[32m[I 2022-03-23 17:52:57,135]\u001b[0m Trial 2 finished with value: 99.99641450215681 and parameters: {'tau': 6.6617055787589265, 'alpha': 0.32661248847272956, 'step': 0.9984435780361596}. Best is trial 1 with value: 4.551182060887094.\u001b[0m\n",
      "\u001b[32m[I 2022-03-23 17:52:57,247]\u001b[0m Trial 3 finished with value: 12.206854090491104 and parameters: {'tau': 7.246566239654627, 'alpha': 0.5844200687772672, 'step': 0.21411153885277212}. Best is trial 1 with value: 4.551182060887094.\u001b[0m\n",
      "\u001b[32m[I 2022-03-23 17:52:57,261]\u001b[0m Trial 4 finished with value: 100.0 and parameters: {'tau': 3.981912541932525, 'alpha': 0.5646419090412487, 'step': 0.7465348281766717}. Best is trial 1 with value: 4.551182060887094.\u001b[0m\n",
      "\u001b[32m[I 2022-03-23 17:52:57,306]\u001b[0m Trial 5 finished with value: 100.0 and parameters: {'tau': 2.500197163063941, 'alpha': 0.49385426740134797, 'step': 0.5531935099133982}. Best is trial 1 with value: 4.551182060887094.\u001b[0m\n",
      "\u001b[32m[I 2022-03-23 17:52:57,317]\u001b[0m Trial 6 finished with value: 100.0 and parameters: {'tau': 6.270918704940007, 'alpha': 0.32567253199109647, 'step': 0.8351882989271668}. Best is trial 1 with value: 4.551182060887094.\u001b[0m\n",
      "\u001b[32m[I 2022-03-23 17:52:57,335]\u001b[0m Trial 7 finished with value: 100.0 and parameters: {'tau': 8.41090581324035, 'alpha': 0.4135085523171005, 'step': 0.9559412274384762}. Best is trial 1 with value: 4.551182060887094.\u001b[0m\n",
      "\u001b[32m[I 2022-03-23 17:52:57,343]\u001b[0m Trial 8 finished with value: 99.99997710978286 and parameters: {'tau': 2.6744759090612824, 'alpha': 0.8199631758892864, 'step': 0.3335783304206861}. Best is trial 1 with value: 4.551182060887094.\u001b[0m\n",
      "\u001b[32m[I 2022-03-23 17:52:57,442]\u001b[0m Trial 9 finished with value: 91.08636948143305 and parameters: {'tau': 2.834498358579882, 'alpha': 0.6882645320583161, 'step': 0.8540823217868477}. Best is trial 1 with value: 4.551182060887094.\u001b[0m\n",
      "\u001b[32m[I 2022-03-23 17:52:57,457]\u001b[0m Trial 10 finished with value: 99.99978779685232 and parameters: {'tau': 9.603499382349678, 'alpha': 0.10868772173424895, 'step': 0.01934126931444005}. Best is trial 1 with value: 4.551182060887094.\u001b[0m\n",
      "\u001b[32m[I 2022-03-23 17:52:57,473]\u001b[0m Trial 11 finished with value: 99.99978779685232 and parameters: {'tau': 7.910846637621736, 'alpha': 0.6332245982565032, 'step': 0.009387327385491459}. Best is trial 1 with value: 4.551182060887094.\u001b[0m\n",
      "\u001b[32m[I 2022-03-23 17:52:57,503]\u001b[0m Trial 12 finished with value: 100.0 and parameters: {'tau': 9.390312072790291, 'alpha': 0.8123568444445247, 'step': 0.2582839209768012}. Best is trial 1 with value: 4.551182060887094.\u001b[0m\n",
      "\u001b[32m[I 2022-03-23 17:52:57,523]\u001b[0m Trial 13 finished with value: 99.99986154994951 and parameters: {'tau': 0.8346828905686046, 'alpha': 0.2410076479466397, 'step': 0.41644313518552184}. Best is trial 1 with value: 4.551182060887094.\u001b[0m\n",
      "\u001b[32m[I 2022-03-23 17:52:57,543]\u001b[0m Trial 14 finished with value: 99.99998495566315 and parameters: {'tau': 6.2129241088583935, 'alpha': 0.462388222919701, 'step': 0.1495455931957142}. Best is trial 1 with value: 4.551182060887094.\u001b[0m\n",
      "\u001b[32m[I 2022-03-23 17:52:57,569]\u001b[0m Trial 15 finished with value: 100.0 and parameters: {'tau': 7.698380325702469, 'alpha': 0.6904579871275226, 'step': 0.5391963859967532}. Best is trial 1 with value: 4.551182060887094.\u001b[0m\n",
      "\u001b[32m[I 2022-03-23 17:52:57,591]\u001b[0m Trial 16 finished with value: 99.99993479362739 and parameters: {'tau': 5.083710808601399, 'alpha': 0.37675596916132875, 'step': 0.13626932993586854}. Best is trial 1 with value: 4.551182060887094.\u001b[0m\n",
      "\u001b[32m[I 2022-03-23 17:52:57,617]\u001b[0m Trial 17 finished with value: 100.0 and parameters: {'tau': 8.760478481760533, 'alpha': 0.5717685914254383, 'step': 0.3725030774841229}. Best is trial 1 with value: 4.551182060887094.\u001b[0m\n",
      "\u001b[32m[I 2022-03-23 17:52:57,648]\u001b[0m Trial 18 finished with value: 100.0 and parameters: {'tau': 7.2348573307134005, 'alpha': 0.2296098390599527, 'step': 0.6452338346040578}. Best is trial 1 with value: 4.551182060887094.\u001b[0m\n",
      "\u001b[32m[I 2022-03-23 17:52:57,668]\u001b[0m Trial 19 finished with value: 99.99989281778011 and parameters: {'tau': 5.3284021383081095, 'alpha': 0.7437405222067914, 'step': 0.09288910883003895}. Best is trial 1 with value: 4.551182060887094.\u001b[0m\n",
      "\u001b[32m[I 2022-03-23 17:52:58,142]\u001b[0m Trial 20 finished with value: 3.9296765029359575 and parameters: {'tau': 9.848365976026733, 'alpha': 0.8774053403885469, 'step': 0.2758080516158593}. Best is trial 20 with value: 3.9296765029359575.\u001b[0m\n",
      "\u001b[32m[I 2022-03-23 17:52:58,161]\u001b[0m Trial 21 finished with value: 100.0 and parameters: {'tau': 9.823142644644935, 'alpha': 0.8676517272580273, 'step': 0.29372367273687183}. Best is trial 20 with value: 3.9296765029359575.\u001b[0m\n",
      "\u001b[32m[I 2022-03-23 17:52:58,185]\u001b[0m Trial 22 finished with value: 100.0 and parameters: {'tau': 8.862818531583589, 'alpha': 0.898250085485633, 'step': 0.42879198439757454}. Best is trial 20 with value: 3.9296765029359575.\u001b[0m\n",
      "\u001b[32m[I 2022-03-23 17:52:58,232]\u001b[0m Trial 23 finished with value: 99.83854211611464 and parameters: {'tau': 9.96019215268597, 'alpha': 0.5607096630286407, 'step': 0.21287687810585793}. Best is trial 20 with value: 3.9296765029359575.\u001b[0m\n",
      "\u001b[32m[I 2022-03-23 17:52:58,249]\u001b[0m Trial 24 finished with value: 99.99993290631834 and parameters: {'tau': 7.181749048910491, 'alpha': 0.7689519129126127, 'step': 0.09522200770814183}. Best is trial 20 with value: 3.9296765029359575.\u001b[0m\n",
      "\u001b[32m[I 2022-03-23 17:52:58,290]\u001b[0m Trial 25 finished with value: 99.83394186551897 and parameters: {'tau': 8.537540222097133, 'alpha': 0.6462616732967812, 'step': 0.2239818244475836}. Best is trial 20 with value: 3.9296765029359575.\u001b[0m\n",
      "\u001b[32m[I 2022-03-23 17:52:58,326]\u001b[0m Trial 26 finished with value: 100.0 and parameters: {'tau': 8.032821503517681, 'alpha': 0.24221739279052967, 'step': 0.30879871301106454}. Best is trial 20 with value: 3.9296765029359575.\u001b[0m\n",
      "\u001b[32m[I 2022-03-23 17:52:58,355]\u001b[0m Trial 27 finished with value: 100.0 and parameters: {'tau': 8.968959427881384, 'alpha': 0.42692396370364716, 'step': 0.4498526560995049}. Best is trial 20 with value: 3.9296765029359575.\u001b[0m\n",
      "\u001b[32m[I 2022-03-23 17:52:58,378]\u001b[0m Trial 28 finished with value: 99.99997896842774 and parameters: {'tau': 5.589243743896355, 'alpha': 0.34192977787876677, 'step': 0.16118545796836206}. Best is trial 20 with value: 3.9296765029359575.\u001b[0m\n",
      "\u001b[32m[I 2022-03-23 17:52:58,401]\u001b[0m Trial 29 finished with value: 99.99985632365167 and parameters: {'tau': 4.236977935961711, 'alpha': 0.17818091729226873, 'step': 0.07622598459740434}. Best is trial 20 with value: 3.9296765029359575.\u001b[0m\n",
      "\u001b[32m[I 2022-03-23 17:52:58,546]\u001b[0m Trial 30 finished with value: 3.9308525185040835 and parameters: {'tau': 7.284985057362008, 'alpha': 0.5318441999885295, 'step': 0.19136545699337287}. Best is trial 20 with value: 3.9296765029359575.\u001b[0m\n",
      "\u001b[32m[I 2022-03-23 17:52:58,579]\u001b[0m Trial 31 finished with value: 99.9543725800473 and parameters: {'tau': 9.22876887484029, 'alpha': 0.5329081133469378, 'step': 0.19616914483891523}. Best is trial 20 with value: 3.9296765029359575.\u001b[0m\n",
      "\u001b[32m[I 2022-03-23 17:52:58,698]\u001b[0m Trial 32 finished with value: 11.558294490296264 and parameters: {'tau': 7.0093377641921375, 'alpha': 0.6155534969587724, 'step': 0.26531982954949596}. Best is trial 20 with value: 3.9296765029359575.\u001b[0m\n",
      "\u001b[32m[I 2022-03-23 17:52:58,726]\u001b[0m Trial 33 finished with value: 100.0 and parameters: {'tau': 6.753171433235519, 'alpha': 0.4911106698433261, 'step': 0.27438945809528237}. Best is trial 20 with value: 3.9296765029359575.\u001b[0m\n",
      "\u001b[32m[I 2022-03-23 17:52:58,754]\u001b[0m Trial 34 finished with value: 100.0 and parameters: {'tau': 5.912026601755597, 'alpha': 0.6143615213631746, 'step': 0.3513178344795143}. Best is trial 20 with value: 3.9296765029359575.\u001b[0m\n"
     ]
    },
    {
     "name": "stderr",
     "output_type": "stream",
     "text": [
      "\u001b[32m[I 2022-03-23 17:52:58,771]\u001b[0m Trial 35 finished with value: 99.99984356124592 and parameters: {'tau': 4.313493537635466, 'alpha': 0.6864382988480202, 'step': 0.06092999270584479}. Best is trial 20 with value: 3.9296765029359575.\u001b[0m\n",
      "\u001b[32m[I 2022-03-23 17:52:58,892]\u001b[0m Trial 36 finished with value: 11.294805695117136 and parameters: {'tau': 6.728262000838411, 'alpha': 0.516783582645768, 'step': 0.16348007563227812}. Best is trial 20 with value: 3.9296765029359575.\u001b[0m\n",
      "\u001b[32m[I 2022-03-23 17:52:58,908]\u001b[0m Trial 37 finished with value: 99.99989442038687 and parameters: {'tau': 3.5602122257492295, 'alpha': 0.2904387797627058, 'step': 0.14114404606772676}. Best is trial 20 with value: 3.9296765029359575.\u001b[0m\n",
      "\u001b[32m[I 2022-03-23 17:52:58,933]\u001b[0m Trial 38 finished with value: 100.0 and parameters: {'tau': 8.171600702020125, 'alpha': 0.43554305650457886, 'step': 0.6335617787946236}. Best is trial 20 with value: 3.9296765029359575.\u001b[0m\n",
      "\u001b[32m[I 2022-03-23 17:52:58,955]\u001b[0m Trial 39 finished with value: 99.99978779685232 and parameters: {'tau': 0.5908888642786856, 'alpha': 0.5139671028829275, 'step': 0.18704092791646137}. Best is trial 20 with value: 3.9296765029359575.\u001b[0m\n",
      "\u001b[32m[I 2022-03-23 17:52:58,980]\u001b[0m Trial 40 finished with value: 99.99983495566069 and parameters: {'tau': 6.642798155846401, 'alpha': 0.10470866676574714, 'step': 0.033459395623206295}. Best is trial 20 with value: 3.9296765029359575.\u001b[0m\n",
      "\u001b[32m[I 2022-03-23 17:52:59,029]\u001b[0m Trial 41 finished with value: 100.0 and parameters: {'tau': 7.674206185824007, 'alpha': 0.4700048805182046, 'step': 0.2560566562074728}. Best is trial 20 with value: 3.9296765029359575.\u001b[0m\n",
      "\u001b[32m[I 2022-03-23 17:52:59,075]\u001b[0m Trial 42 finished with value: 100.0 and parameters: {'tau': 6.744702843220802, 'alpha': 0.5387217972546103, 'step': 0.37817871980803514}. Best is trial 20 with value: 3.9296765029359575.\u001b[0m\n",
      "\u001b[32m[I 2022-03-23 17:52:59,223]\u001b[0m Trial 43 finished with value: 5.526241303254479 and parameters: {'tau': 9.33538654761747, 'alpha': 0.5921257527472952, 'step': 0.11792156967707947}. Best is trial 20 with value: 3.9296765029359575.\u001b[0m\n",
      "\u001b[32m[I 2022-03-23 17:52:59,348]\u001b[0m Trial 44 finished with value: 3.9460134058873524 and parameters: {'tau': 9.440757027059966, 'alpha': 0.3718615815579819, 'step': 0.10913372275070295}. Best is trial 20 with value: 3.9296765029359575.\u001b[0m\n",
      "\u001b[32m[I 2022-03-23 17:52:59,461]\u001b[0m Trial 45 finished with value: 7.886022793916927 and parameters: {'tau': 9.440832347456569, 'alpha': 0.3789033243575478, 'step': 0.11988866241975836}. Best is trial 20 with value: 3.9296765029359575.\u001b[0m\n",
      "\u001b[32m[I 2022-03-23 17:52:59,475]\u001b[0m Trial 46 finished with value: 99.99978779685232 and parameters: {'tau': 9.147870267709283, 'alpha': 0.17174608343832987, 'step': 0.0018524303253344976}. Best is trial 20 with value: 3.9296765029359575.\u001b[0m\n",
      "\u001b[32m[I 2022-03-23 17:52:59,492]\u001b[0m Trial 47 finished with value: 99.99992054100873 and parameters: {'tau': 8.410183401021458, 'alpha': 0.3742222997131782, 'step': 0.07438512848687598}. Best is trial 20 with value: 3.9296765029359575.\u001b[0m\n",
      "\u001b[32m[I 2022-03-23 17:52:59,520]\u001b[0m Trial 48 finished with value: 100.0 and parameters: {'tau': 9.991410721816468, 'alpha': 0.3021044174610893, 'step': 0.23680199975853225}. Best is trial 20 with value: 3.9296765029359575.\u001b[0m\n",
      "\u001b[32m[I 2022-03-23 17:52:59,540]\u001b[0m Trial 49 finished with value: 99.99978779685232 and parameters: {'tau': 1.6596948868631318, 'alpha': 0.1425080667577744, 'step': 0.041069957369158264}. Best is trial 20 with value: 3.9296765029359575.\u001b[0m\n",
      "\u001b[32m[I 2022-03-23 17:52:59,664]\u001b[0m Trial 50 finished with value: 4.280243308146779 and parameters: {'tau': 9.570370137537866, 'alpha': 0.8075540623350095, 'step': 0.11672906174629998}. Best is trial 20 with value: 3.9296765029359575.\u001b[0m\n",
      "\u001b[32m[I 2022-03-23 17:52:59,679]\u001b[0m Trial 51 finished with value: 99.99999311068912 and parameters: {'tau': 9.385912342297123, 'alpha': 0.8527960304012419, 'step': 0.10308425355708432}. Best is trial 20 with value: 3.9296765029359575.\u001b[0m\n",
      "\u001b[32m[I 2022-03-23 17:52:59,717]\u001b[0m Trial 52 finished with value: 100.0 and parameters: {'tau': 9.538765792846434, 'alpha': 0.7897707914819451, 'step': 0.19333391086184148}. Best is trial 20 with value: 3.9296765029359575.\u001b[0m\n",
      "\u001b[32m[I 2022-03-23 17:52:59,834]\u001b[0m Trial 53 finished with value: 4.129465272954961 and parameters: {'tau': 8.633295186310315, 'alpha': 0.8373655030911307, 'step': 0.13227969670613826}. Best is trial 20 with value: 3.9296765029359575.\u001b[0m\n",
      "\u001b[32m[I 2022-03-23 17:52:59,856]\u001b[0m Trial 54 finished with value: 100.0 and parameters: {'tau': 8.795742868381033, 'alpha': 0.8417368423751014, 'step': 0.3203488678290095}. Best is trial 20 with value: 3.9296765029359575.\u001b[0m\n",
      "\u001b[32m[I 2022-03-23 17:52:59,967]\u001b[0m Trial 55 finished with value: 7.219486435346075 and parameters: {'tau': 7.641495229947372, 'alpha': 0.8979742879417343, 'step': 0.17264557483588172}. Best is trial 20 with value: 3.9296765029359575.\u001b[0m\n",
      "\u001b[32m[I 2022-03-23 17:52:59,982]\u001b[0m Trial 56 finished with value: 99.99987586110198 and parameters: {'tau': 8.49255994970185, 'alpha': 0.724161748943694, 'step': 0.04887119196342754}. Best is trial 20 with value: 3.9296765029359575.\u001b[0m\n",
      "\u001b[32m[I 2022-03-23 17:53:00,008]\u001b[0m Trial 57 finished with value: 100.0 and parameters: {'tau': 9.66822756974326, 'alpha': 0.8147160766444226, 'step': 0.22862186714138044}. Best is trial 20 with value: 3.9296765029359575.\u001b[0m\n",
      "\u001b[32m[I 2022-03-23 17:53:00,126]\u001b[0m Trial 58 finished with value: 5.77753237013673 and parameters: {'tau': 8.223200873650892, 'alpha': 0.20834577342657906, 'step': 0.12845162412039474}. Best is trial 20 with value: 3.9296765029359575.\u001b[0m\n",
      "\u001b[32m[I 2022-03-23 17:53:00,145]\u001b[0m Trial 59 finished with value: 100.0 and parameters: {'tau': 8.979182474042785, 'alpha': 0.7826132425016679, 'step': 0.8405492047725796}. Best is trial 20 with value: 3.9296765029359575.\u001b[0m\n",
      "\u001b[32m[I 2022-03-23 17:53:00,169]\u001b[0m Trial 60 finished with value: 100.0 and parameters: {'tau': 9.751685627972, 'alpha': 0.7495909306638353, 'step': 0.4710915764719902}. Best is trial 20 with value: 3.9296765029359575.\u001b[0m\n",
      "\u001b[32m[I 2022-03-23 17:53:00,187]\u001b[0m Trial 61 finished with value: 99.99999645614103 and parameters: {'tau': 9.0832418965513, 'alpha': 0.8771286191458999, 'step': 0.10825457750047697}. Best is trial 20 with value: 3.9296765029359575.\u001b[0m\n",
      "\u001b[32m[I 2022-03-23 17:53:00,224]\u001b[0m Trial 62 finished with value: 100.0 and parameters: {'tau': 8.662185781159456, 'alpha': 0.5919382222244083, 'step': 0.14439525829481542}. Best is trial 20 with value: 3.9296765029359575.\u001b[0m\n",
      "\u001b[32m[I 2022-03-23 17:53:00,247]\u001b[0m Trial 63 finished with value: 100.0 and parameters: {'tau': 9.405631699478878, 'alpha': 0.8311171035985523, 'step': 0.939331482414107}. Best is trial 20 with value: 3.9296765029359575.\u001b[0m\n",
      "\u001b[32m[I 2022-03-23 17:53:00,265]\u001b[0m Trial 64 finished with value: 99.99994753997221 and parameters: {'tau': 9.725127217832934, 'alpha': 0.8090744292244739, 'step': 0.07740936968953147}. Best is trial 20 with value: 3.9296765029359575.\u001b[0m\n",
      "\u001b[32m[I 2022-03-23 17:53:00,300]\u001b[0m Trial 65 finished with value: 100.0 and parameters: {'tau': 9.995190826544311, 'alpha': 0.648961659503592, 'step': 0.20763170972608022}. Best is trial 20 with value: 3.9296765029359575.\u001b[0m\n",
      "\u001b[32m[I 2022-03-23 17:53:00,319]\u001b[0m Trial 66 finished with value: 99.99998045628149 and parameters: {'tau': 7.945623126870654, 'alpha': 0.7147613002501638, 'step': 0.11426609105834955}. Best is trial 20 with value: 3.9296765029359575.\u001b[0m\n",
      "\u001b[32m[I 2022-03-23 17:53:00,439]\u001b[0m Trial 67 finished with value: 4.786187535928265 and parameters: {'tau': 9.206599362638723, 'alpha': 0.2684008600830269, 'step': 0.1685599081078905}. Best is trial 20 with value: 3.9296765029359575.\u001b[0m\n",
      "\u001b[32m[I 2022-03-23 17:53:00,474]\u001b[0m Trial 68 finished with value: 100.0 and parameters: {'tau': 7.480610263083652, 'alpha': 0.28052276095433254, 'step': 0.2916030981657913}. Best is trial 20 with value: 3.9296765029359575.\u001b[0m\n",
      "\u001b[32m[I 2022-03-23 17:53:00,508]\u001b[0m Trial 69 finished with value: 100.0 and parameters: {'tau': 8.751950086402017, 'alpha': 0.2542390964050981, 'step': 0.16920552481976348}. Best is trial 20 with value: 3.9296765029359575.\u001b[0m\n"
     ]
    },
    {
     "name": "stderr",
     "output_type": "stream",
     "text": [
      "\u001b[32m[I 2022-03-23 17:53:00,547]\u001b[0m Trial 70 finished with value: 100.0 and parameters: {'tau': 8.39332693890998, 'alpha': 0.19885192182714378, 'step': 0.23997110975485364}. Best is trial 20 with value: 3.9296765029359575.\u001b[0m\n",
      "\u001b[32m[I 2022-03-23 17:53:00,578]\u001b[0m Trial 71 finished with value: 99.59360948846277 and parameters: {'tau': 9.17477411604793, 'alpha': 0.34448729338369166, 'step': 0.14103183672614553}. Best is trial 20 with value: 3.9296765029359575.\u001b[0m\n",
      "\u001b[32m[I 2022-03-23 17:53:00,595]\u001b[0m Trial 72 finished with value: 99.9998340008177 and parameters: {'tau': 9.3162836029697, 'alpha': 0.13413581977105962, 'step': 0.02337454745498413}. Best is trial 20 with value: 3.9296765029359575.\u001b[0m\n",
      "\u001b[32m[I 2022-03-23 17:53:00,613]\u001b[0m Trial 73 finished with value: 99.99995391021838 and parameters: {'tau': 9.60427680781978, 'alpha': 0.8651298018103042, 'step': 0.081508767476756}. Best is trial 20 with value: 3.9296765029359575.\u001b[0m\n",
      "\u001b[32m[I 2022-03-23 17:53:00,643]\u001b[0m Trial 74 finished with value: 100.0 and parameters: {'tau': 8.997019871305323, 'alpha': 0.262834590470875, 'step': 0.18509441547828698}. Best is trial 20 with value: 3.9296765029359575.\u001b[0m\n",
      "\u001b[32m[I 2022-03-23 17:53:00,665]\u001b[0m Trial 75 finished with value: 100.0 and parameters: {'tau': 8.712673635047125, 'alpha': 0.40786478369921575, 'step': 0.7342847980918403}. Best is trial 20 with value: 3.9296765029359575.\u001b[0m\n",
      "\u001b[32m[I 2022-03-23 17:53:00,682]\u001b[0m Trial 76 finished with value: 99.99990564294905 and parameters: {'tau': 9.689952912022997, 'alpha': 0.4542133374656508, 'step': 0.05731587895680146}. Best is trial 20 with value: 3.9296765029359575.\u001b[0m\n",
      "\u001b[32m[I 2022-03-23 17:53:00,800]\u001b[0m Trial 77 finished with value: 8.840157289880008 and parameters: {'tau': 7.96523681866217, 'alpha': 0.48045372490808635, 'step': 0.2083363526692176}. Best is trial 20 with value: 3.9296765029359575.\u001b[0m\n",
      "\u001b[32m[I 2022-03-23 17:53:00,912]\u001b[0m Trial 78 finished with value: 3.5524162481721753 and parameters: {'tau': 9.201610920916265, 'alpha': 0.5536754125373763, 'step': 0.15119510031227432}. Best is trial 78 with value: 3.5524162481721753.\u001b[0m\n",
      "\u001b[32m[I 2022-03-23 17:53:01,021]\u001b[0m Trial 79 finished with value: 5.611219567627472 and parameters: {'tau': 8.348899710932082, 'alpha': 0.3279452767063582, 'step': 0.14762722003602624}. Best is trial 78 with value: 3.5524162481721753.\u001b[0m\n",
      "\u001b[32m[I 2022-03-23 17:53:01,049]\u001b[0m Trial 80 finished with value: 100.0 and parameters: {'tau': 9.006622215590905, 'alpha': 0.22546136270074574, 'step': 0.2800509853982236}. Best is trial 78 with value: 3.5524162481721753.\u001b[0m\n",
      "\u001b[32m[I 2022-03-23 17:53:01,064]\u001b[0m Trial 81 finished with value: 99.99998938177089 and parameters: {'tau': 9.305550534028052, 'alpha': 0.5988542974618534, 'step': 0.10208639899784692}. Best is trial 78 with value: 3.5524162481721753.\u001b[0m\n",
      "\u001b[32m[I 2022-03-23 17:53:01,178]\u001b[0m Trial 82 finished with value: 5.8776388403594275 and parameters: {'tau': 9.995213891523484, 'alpha': 0.5637005095220714, 'step': 0.12821460730929035}. Best is trial 78 with value: 3.5524162481721753.\u001b[0m\n",
      "\u001b[32m[I 2022-03-23 17:53:01,288]\u001b[0m Trial 83 finished with value: 9.103382336264572 and parameters: {'tau': 9.519318740446975, 'alpha': 0.5431433486517748, 'step': 0.18527655420369207}. Best is trial 78 with value: 3.5524162481721753.\u001b[0m\n",
      "\u001b[32m[I 2022-03-23 17:53:01,319]\u001b[0m Trial 84 finished with value: 99.91175398314688 and parameters: {'tau': 8.726449198563325, 'alpha': 0.6686270492446703, 'step': 0.16533740618200526}. Best is trial 78 with value: 3.5524162481721753.\u001b[0m\n",
      "\u001b[32m[I 2022-03-23 17:53:01,432]\u001b[0m Trial 85 finished with value: 6.872363804826643 and parameters: {'tau': 9.18313951332092, 'alpha': 0.5076723256593186, 'step': 0.25123538394130074}. Best is trial 78 with value: 3.5524162481721753.\u001b[0m\n",
      "\u001b[32m[I 2022-03-23 17:53:01,446]\u001b[0m Trial 86 finished with value: 99.99997732908832 and parameters: {'tau': 9.756116533867468, 'alpha': 0.5769198782349125, 'step': 0.09155082712338267}. Best is trial 78 with value: 3.5524162481721753.\u001b[0m\n",
      "\u001b[32m[I 2022-03-23 17:53:01,478]\u001b[0m Trial 87 finished with value: 100.0 and parameters: {'tau': 8.152319631659203, 'alpha': 0.8827562514937509, 'step': 0.2190589301356482}. Best is trial 78 with value: 3.5524162481721753.\u001b[0m\n",
      "\u001b[32m[I 2022-03-23 17:53:01,533]\u001b[0m Trial 88 finished with value: 100.0 and parameters: {'tau': 4.705312582201463, 'alpha': 0.39946074736884796, 'step': 0.5257108907871851}. Best is trial 78 with value: 3.5524162481721753.\u001b[0m\n",
      "\u001b[32m[I 2022-03-23 17:53:01,551]\u001b[0m Trial 89 finished with value: 100.0 and parameters: {'tau': 8.55855038683783, 'alpha': 0.44334184914442953, 'step': 0.5885827272245032}. Best is trial 78 with value: 3.5524162481721753.\u001b[0m\n",
      "\u001b[32m[I 2022-03-23 17:53:01,569]\u001b[0m Trial 90 finished with value: 99.99987113895948 and parameters: {'tau': 6.207871601074795, 'alpha': 0.8510588348085741, 'step': 0.06327254865248805}. Best is trial 78 with value: 3.5524162481721753.\u001b[0m\n",
      "\u001b[32m[I 2022-03-23 17:53:01,690]\u001b[0m Trial 91 finished with value: 5.356230041656502 and parameters: {'tau': 8.328895429490137, 'alpha': 0.30755995211236203, 'step': 0.1303469398133311}. Best is trial 78 with value: 3.5524162481721753.\u001b[0m\n",
      "\u001b[32m[I 2022-03-23 17:53:01,799]\u001b[0m Trial 92 finished with value: 5.017119854858238 and parameters: {'tau': 8.923641412062985, 'alpha': 0.2960446818606456, 'step': 0.11783243926236207}. Best is trial 78 with value: 3.5524162481721753.\u001b[0m\n",
      "\u001b[32m[I 2022-03-23 17:53:01,908]\u001b[0m Trial 93 finished with value: 5.7080307026601345 and parameters: {'tau': 8.85081467844424, 'alpha': 0.3066330683908007, 'step': 0.15511198652834904}. Best is trial 78 with value: 3.5524162481721753.\u001b[0m\n",
      "\u001b[32m[I 2022-03-23 17:53:01,922]\u001b[0m Trial 94 finished with value: 99.99978779685232 and parameters: {'tau': 7.786914563270971, 'alpha': 0.33153289830225513, 'step': 0.023025065429406286}. Best is trial 78 with value: 3.5524162481721753.\u001b[0m\n",
      "\u001b[32m[I 2022-03-23 17:53:02,037]\u001b[0m Trial 95 finished with value: 4.719643354314119 and parameters: {'tau': 9.522226925169836, 'alpha': 0.35560537102181256, 'step': 0.12147792319248102}. Best is trial 78 with value: 3.5524162481721753.\u001b[0m\n",
      "\u001b[32m[I 2022-03-23 17:53:02,052]\u001b[0m Trial 96 finished with value: 99.99997993565243 and parameters: {'tau': 9.50269528412403, 'alpha': 0.36094551781784123, 'step': 0.09528477613855106}. Best is trial 78 with value: 3.5524162481721753.\u001b[0m\n",
      "\u001b[32m[I 2022-03-23 17:53:02,068]\u001b[0m Trial 97 finished with value: 99.99988736233666 and parameters: {'tau': 9.842622643413652, 'alpha': 0.27588588306789263, 'step': 0.04767446601556921}. Best is trial 78 with value: 3.5524162481721753.\u001b[0m\n",
      "\u001b[32m[I 2022-03-23 17:53:02,098]\u001b[0m Trial 98 finished with value: 100.0 and parameters: {'tau': 9.158222709260308, 'alpha': 0.194044453145263, 'step': 0.18151153338895354}. Best is trial 78 with value: 3.5524162481721753.\u001b[0m\n",
      "\u001b[32m[I 2022-03-23 17:53:02,120]\u001b[0m Trial 99 finished with value: 100.0 and parameters: {'tau': 9.530570858506747, 'alpha': 0.7999954637436746, 'step': 0.3452392478124344}. Best is trial 78 with value: 3.5524162481721753.\u001b[0m\n"
     ]
    },
    {
     "name": "stdout",
     "output_type": "stream",
     "text": [
      "Number of finished trials: 100\n",
      "Best trial: {'tau': 9.201610920916265, 'alpha': 0.5536754125373763, 'step': 0.15119510031227432}\n",
      "Best score: 3.5524162481721753\n"
     ]
    }
   ],
   "source": [
    "studySMAPE = optuna.create_study(direction='minimize')\n",
    "studySMAPE.optimize(lambda trial : objective_gradient(trial, gradientSMAPE, error_smape, SMAPE), n_trials=100)\n",
    "\n",
    "print('Number of finished trials:', len(studySMAPE.trials))\n",
    "print('Best trial:', studySMAPE.best_trial.params)\n",
    "print('Best score:', studySMAPE.best_trial.value)"
   ]
  },
  {
   "cell_type": "code",
   "execution_count": 20,
   "id": "5b9842ff",
   "metadata": {},
   "outputs": [
    {
     "data": {
      "image/png": "[encoded data removed]",
      "text/plain": [
       "<Figure size 432x288 with 1 Axes>"
      ]
     },
     "metadata": {
      "needs_background": "light"
     },
     "output_type": "display_data"
    }
   ],
   "source": [
    "graf_l_taus(\n",
    "    studySMAPE.best_trial.params['tau'],\n",
    "    studySMAPE.best_trial.params['alpha'],\n",
    "    studySMAPE.best_trial.params['step'],\n",
    "    gradientSMAPE,\n",
    "    SMAPE\n",
    ")"
   ]
  },
  {
   "cell_type": "code",
   "execution_count": 21,
   "id": "f2fbb248",
   "metadata": {},
   "outputs": [
    {
     "name": "stderr",
     "output_type": "stream",
     "text": [
      "\u001b[32m[I 2022-03-23 17:53:20,017]\u001b[0m A new study created in memory with name: no-name-347aa26f-63ef-45cc-88bb-1c6f88ca7dea\u001b[0m\n",
      "\u001b[32m[I 2022-03-23 17:53:20,136]\u001b[0m Trial 0 finished with value: 0.1545736016594723 and parameters: {'tau': 4.967587562038855, 'alpha': 0.2982183741523622, 'step': 0.349021561420222}. Best is trial 0 with value: 0.1545736016594723.\u001b[0m\n",
      "\u001b[32m[I 2022-03-23 17:53:20,142]\u001b[0m Trial 1 finished with value: 0.6218650978146553 and parameters: {'tau': 0.091709225903438, 'alpha': 0.21314406322217821, 'step': 0.5230790376170444}. Best is trial 0 with value: 0.1545736016594723.\u001b[0m\n",
      "\u001b[32m[I 2022-03-23 17:53:20,180]\u001b[0m Trial 2 finished with value: 0.7826280629102171 and parameters: {'tau': 2.5701437707726607, 'alpha': 0.40968238736815743, 'step': 0.9029919104569712}. Best is trial 0 with value: 0.1545736016594723.\u001b[0m\n",
      "\u001b[32m[I 2022-03-23 17:53:20,188]\u001b[0m Trial 3 finished with value: 0.6218650978146553 and parameters: {'tau': 4.058186755497743, 'alpha': 0.5190933179355441, 'step': 0.004865284338124146}. Best is trial 0 with value: 0.1545736016594723.\u001b[0m\n",
      "\u001b[32m[I 2022-03-23 17:53:20,298]\u001b[0m Trial 4 finished with value: 0.05454416341723579 and parameters: {'tau': 8.163107567667918, 'alpha': 0.7044914437348708, 'step': 0.14107480971933026}. Best is trial 4 with value: 0.05454416341723579.\u001b[0m\n",
      "\u001b[32m[I 2022-03-23 17:53:20,305]\u001b[0m Trial 5 finished with value: 0.621550813334671 and parameters: {'tau': 3.9963714666955874, 'alpha': 0.10844289077768653, 'step': 0.12304863369747462}. Best is trial 4 with value: 0.05454416341723579.\u001b[0m\n",
      "\u001b[32m[I 2022-03-23 17:53:20,320]\u001b[0m Trial 6 finished with value: 0.6400009976710591 and parameters: {'tau': 9.485723508354855, 'alpha': 0.8180401983913884, 'step': 0.4802738101344905}. Best is trial 4 with value: 0.05454416341723579.\u001b[0m\n",
      "\u001b[32m[I 2022-03-23 17:53:20,329]\u001b[0m Trial 7 finished with value: 0.6216369885631353 and parameters: {'tau': 4.557874872892019, 'alpha': 0.6871476384582642, 'step': 0.0783051290549671}. Best is trial 4 with value: 0.05454416341723579.\u001b[0m\n",
      "\u001b[32m[I 2022-03-23 17:53:20,345]\u001b[0m Trial 8 finished with value: 0.6289583157860077 and parameters: {'tau': 9.674374185091626, 'alpha': 0.6231733543150251, 'step': 0.8723324206572628}. Best is trial 4 with value: 0.05454416341723579.\u001b[0m\n",
      "\u001b[32m[I 2022-03-23 17:53:20,371]\u001b[0m Trial 9 finished with value: 0.7163283116826235 and parameters: {'tau': 5.838772082707618, 'alpha': 0.8484372752458759, 'step': 0.37638179382434994}. Best is trial 4 with value: 0.05454416341723579.\u001b[0m\n",
      "\u001b[32m[I 2022-03-23 17:53:20,413]\u001b[0m Trial 10 finished with value: 0.6883176613140042 and parameters: {'tau': 7.461555631304595, 'alpha': 0.695648707351402, 'step': 0.22273612639431023}. Best is trial 4 with value: 0.05454416341723579.\u001b[0m\n",
      "\u001b[32m[I 2022-03-23 17:53:20,440]\u001b[0m Trial 11 finished with value: 0.6827651006093728 and parameters: {'tau': 7.033941808296186, 'alpha': 0.3456064937616795, 'step': 0.3205422575082545}. Best is trial 4 with value: 0.05454416341723579.\u001b[0m\n",
      "\u001b[32m[I 2022-03-23 17:53:20,465]\u001b[0m Trial 12 finished with value: 0.6351010918835482 and parameters: {'tau': 7.734133709665987, 'alpha': 0.3276719994344625, 'step': 0.6371165431450411}. Best is trial 4 with value: 0.05454416341723579.\u001b[0m\n",
      "\u001b[32m[I 2022-03-23 17:53:20,526]\u001b[0m Trial 13 finished with value: 0.676864897575222 and parameters: {'tau': 6.040824282956949, 'alpha': 0.5171151225755735, 'step': 0.20638110222885303}. Best is trial 4 with value: 0.05454416341723579.\u001b[0m\n",
      "\u001b[32m[I 2022-03-23 17:53:20,572]\u001b[0m Trial 14 finished with value: 0.7318035089933557 and parameters: {'tau': 2.3392851205654237, 'alpha': 0.19023111442410365, 'step': 0.6917383375323604}. Best is trial 4 with value: 0.05454416341723579.\u001b[0m\n",
      "\u001b[32m[I 2022-03-23 17:53:20,606]\u001b[0m Trial 15 finished with value: 0.6929206365864766 and parameters: {'tau': 8.516964460811794, 'alpha': 0.619375599586612, 'step': 0.321983500022478}. Best is trial 4 with value: 0.05454416341723579.\u001b[0m\n",
      "\u001b[32m[I 2022-03-23 17:53:20,626]\u001b[0m Trial 16 finished with value: 0.6309635491499143 and parameters: {'tau': 5.691826625259268, 'alpha': 0.45232674068940554, 'step': 0.4306441664015431}. Best is trial 4 with value: 0.05454416341723579.\u001b[0m\n",
      "\u001b[32m[I 2022-03-23 17:53:20,645]\u001b[0m Trial 17 finished with value: 0.6216099713044522 and parameters: {'tau': 1.976060446822712, 'alpha': 0.7545536291466934, 'step': 0.20200783165628744}. Best is trial 4 with value: 0.05454416341723579.\u001b[0m\n",
      "\u001b[32m[I 2022-03-23 17:53:20,671]\u001b[0m Trial 18 finished with value: 0.6381875940569346 and parameters: {'tau': 6.6879810756174365, 'alpha': 0.8916378546367161, 'step': 0.6738533047946175}. Best is trial 4 with value: 0.05454416341723579.\u001b[0m\n",
      "\u001b[32m[I 2022-03-23 17:53:20,716]\u001b[0m Trial 19 finished with value: 0.7326417348182165 and parameters: {'tau': 8.590767604867397, 'alpha': 0.2774801172310539, 'step': 0.2683218100621124}. Best is trial 4 with value: 0.05454416341723579.\u001b[0m\n",
      "\u001b[32m[I 2022-03-23 17:53:20,755]\u001b[0m Trial 20 finished with value: 0.6769894133578377 and parameters: {'tau': 3.3227746096218196, 'alpha': 0.576407913004269, 'step': 0.5769707264248305}. Best is trial 4 with value: 0.05454416341723579.\u001b[0m\n",
      "\u001b[32m[I 2022-03-23 17:53:20,771]\u001b[0m Trial 21 finished with value: 0.6214574299430539 and parameters: {'tau': 4.957679793752842, 'alpha': 0.10200001800409841, 'step': 0.12866444914841982}. Best is trial 4 with value: 0.05454416341723579.\u001b[0m\n",
      "\u001b[32m[I 2022-03-23 17:53:20,788]\u001b[0m Trial 22 finished with value: 0.6214915307468963 and parameters: {'tau': 5.0065360371926415, 'alpha': 0.11513665232145065, 'step': 0.11675025275584283}. Best is trial 4 with value: 0.05454416341723579.\u001b[0m\n",
      "\u001b[32m[I 2022-03-23 17:53:20,807]\u001b[0m Trial 23 finished with value: 0.6218650978146553 and parameters: {'tau': 5.208544268779947, 'alpha': 0.22419028754042503, 'step': 0.026540729700828047}. Best is trial 4 with value: 0.05454416341723579.\u001b[0m\n",
      "\u001b[32m[I 2022-03-23 17:53:20,930]\u001b[0m Trial 24 finished with value: 0.07314988706736718 and parameters: {'tau': 6.387131811897034, 'alpha': 0.40447931907687873, 'step': 0.1638897613714814}. Best is trial 4 with value: 0.05454416341723579.\u001b[0m\n",
      "\u001b[32m[I 2022-03-23 17:53:20,951]\u001b[0m Trial 25 finished with value: 0.6442778187684759 and parameters: {'tau': 8.40345434995048, 'alpha': 0.3959542892248074, 'step': 0.39171099985111624}. Best is trial 4 with value: 0.05454416341723579.\u001b[0m\n",
      "\u001b[32m[I 2022-03-23 17:53:21,069]\u001b[0m Trial 26 finished with value: 0.12893725584412197 and parameters: {'tau': 6.519655691722413, 'alpha': 0.4665616989350213, 'step': 0.26811910678143375}. Best is trial 4 with value: 0.05454416341723579.\u001b[0m\n",
      "\u001b[32m[I 2022-03-23 17:53:21,097]\u001b[0m Trial 27 finished with value: 0.7434596218668449 and parameters: {'tau': 6.361898360691882, 'alpha': 0.4813494907585321, 'step': 0.2667556776111352}. Best is trial 4 with value: 0.05454416341723579.\u001b[0m\n",
      "\u001b[32m[I 2022-03-23 17:53:21,134]\u001b[0m Trial 28 finished with value: 0.6966867538780507 and parameters: {'tau': 7.747184928875672, 'alpha': 0.5671883878012802, 'step': 0.1839699610474685}. Best is trial 4 with value: 0.05454416341723579.\u001b[0m\n",
      "\u001b[32m[I 2022-03-23 17:53:21,151]\u001b[0m Trial 29 finished with value: 0.6214086466529528 and parameters: {'tau': 9.079823615002532, 'alpha': 0.4072728367088117, 'step': 0.07865985154968601}. Best is trial 4 with value: 0.05454416341723579.\u001b[0m\n",
      "\u001b[32m[I 2022-03-23 17:53:21,172]\u001b[0m Trial 30 finished with value: 0.6299147051119074 and parameters: {'tau': 6.97504196579131, 'alpha': 0.7480797494173765, 'step': 0.7964123315028873}. Best is trial 4 with value: 0.05454416341723579.\u001b[0m\n",
      "\u001b[32m[I 2022-03-23 17:53:21,206]\u001b[0m Trial 31 finished with value: 0.6906840418592387 and parameters: {'tau': 6.484953077841542, 'alpha': 0.3331806882480931, 'step': 0.31088729085340416}. Best is trial 4 with value: 0.05454416341723579.\u001b[0m\n",
      "\u001b[32m[I 2022-03-23 17:53:21,223]\u001b[0m Trial 32 finished with value: 0.6215206292885134 and parameters: {'tau': 1.126224151401817, 'alpha': 0.45519247337102337, 'step': 0.4785727041847424}. Best is trial 4 with value: 0.05454416341723579.\u001b[0m\n",
      "\u001b[32m[I 2022-03-23 17:53:21,283]\u001b[0m Trial 33 finished with value: 0.716254424036187 and parameters: {'tau': 5.589910609443338, 'alpha': 0.24504121795132783, 'step': 0.38320364314094035}. Best is trial 4 with value: 0.05454416341723579.\u001b[0m\n"
     ]
    },
    {
     "name": "stderr",
     "output_type": "stream",
     "text": [
      "\u001b[32m[I 2022-03-23 17:53:21,305]\u001b[0m Trial 34 finished with value: 0.621465480020915 and parameters: {'tau': 3.8240674242227306, 'alpha': 0.38335208150674327, 'step': 0.1635117227333459}. Best is trial 4 with value: 0.05454416341723579.\u001b[0m\n",
      "\u001b[32m[I 2022-03-23 17:53:21,329]\u001b[0m Trial 35 finished with value: 0.6218650978146553 and parameters: {'tau': 0.014426143023571925, 'alpha': 0.2930923136305702, 'step': 0.262836889574089}. Best is trial 4 with value: 0.05454416341723579.\u001b[0m\n",
      "\u001b[32m[I 2022-03-23 17:53:21,354]\u001b[0m Trial 36 finished with value: 0.6218650978146553 and parameters: {'tau': 7.32709780425219, 'alpha': 0.1849566069968666, 'step': 0.008341254438278795}. Best is trial 4 with value: 0.05454416341723579.\u001b[0m\n",
      "\u001b[32m[I 2022-03-23 17:53:21,389]\u001b[0m Trial 37 finished with value: 0.6425367537595423 and parameters: {'tau': 3.384069862117258, 'alpha': 0.5577477152670964, 'step': 0.9942313083197448}. Best is trial 4 with value: 0.05454416341723579.\u001b[0m\n",
      "\u001b[32m[I 2022-03-23 17:53:21,423]\u001b[0m Trial 38 finished with value: 0.659972664441256 and parameters: {'tau': 4.48509414807397, 'alpha': 0.4612551728995819, 'step': 0.5221974186908618}. Best is trial 4 with value: 0.05454416341723579.\u001b[0m\n",
      "\u001b[32m[I 2022-03-23 17:53:21,444]\u001b[0m Trial 39 finished with value: 0.6214540728917312 and parameters: {'tau': 9.950416489053117, 'alpha': 0.6311998970115039, 'step': 0.06463352458803553}. Best is trial 4 with value: 0.05454416341723579.\u001b[0m\n",
      "\u001b[32m[I 2022-03-23 17:53:21,575]\u001b[0m Trial 40 finished with value: 0.11445535246512403 and parameters: {'tau': 8.08276006413173, 'alpha': 0.37925221334051107, 'step': 0.13778423385036578}. Best is trial 4 with value: 0.05454416341723579.\u001b[0m\n",
      "\u001b[32m[I 2022-03-23 17:53:21,605]\u001b[0m Trial 41 finished with value: 0.6676644288518645 and parameters: {'tau': 7.8945798232661835, 'alpha': 0.378147392439494, 'step': 0.14556527872297423}. Best is trial 4 with value: 0.05454416341723579.\u001b[0m\n",
      "\u001b[32m[I 2022-03-23 17:53:21,726]\u001b[0m Trial 42 finished with value: 0.0978353910637268 and parameters: {'tau': 8.204827822482484, 'alpha': 0.4224123863605027, 'step': 0.2235827792145983}. Best is trial 4 with value: 0.05454416341723579.\u001b[0m\n",
      "\u001b[32m[I 2022-03-23 17:53:21,756]\u001b[0m Trial 43 finished with value: 0.7276524665555 and parameters: {'tau': 9.171237423453572, 'alpha': 0.42847409831345834, 'step': 0.24793587250972504}. Best is trial 4 with value: 0.05454416341723579.\u001b[0m\n",
      "\u001b[32m[I 2022-03-23 17:53:21,771]\u001b[0m Trial 44 finished with value: 0.6214955205692568 and parameters: {'tau': 8.951042652584235, 'alpha': 0.5047937655904657, 'step': 0.06460374985203399}. Best is trial 4 with value: 0.05454416341723579.\u001b[0m\n",
      "\u001b[32m[I 2022-03-23 17:53:21,789]\u001b[0m Trial 45 finished with value: 0.6213113815416138 and parameters: {'tau': 8.117440203492166, 'alpha': 0.34980830075982283, 'step': 0.10673717544210398}. Best is trial 4 with value: 0.05454416341723579.\u001b[0m\n",
      "\u001b[32m[I 2022-03-23 17:53:21,909]\u001b[0m Trial 46 finished with value: 0.08876513736999894 and parameters: {'tau': 7.307137921648696, 'alpha': 0.5414066854200226, 'step': 0.1740315743309554}. Best is trial 4 with value: 0.05454416341723579.\u001b[0m\n",
      "\u001b[32m[I 2022-03-23 17:53:22,022]\u001b[0m Trial 47 finished with value: 0.06731818245391412 and parameters: {'tau': 7.275203116046729, 'alpha': 0.6768544083868258, 'step': 0.16831156565098676}. Best is trial 4 with value: 0.05454416341723579.\u001b[0m\n",
      "\u001b[32m[I 2022-03-23 17:53:22,133]\u001b[0m Trial 48 finished with value: 0.04125780797584603 and parameters: {'tau': 7.29047703277182, 'alpha': 0.6681042563956772, 'step': 0.18860260577814325}. Best is trial 48 with value: 0.04125780797584603.\u001b[0m\n",
      "\u001b[32m[I 2022-03-23 17:53:22,154]\u001b[0m Trial 49 finished with value: 0.6501564199053769 and parameters: {'tau': 7.35831506393855, 'alpha': 0.6855469734336388, 'step': 0.3271013851329291}. Best is trial 48 with value: 0.04125780797584603.\u001b[0m\n",
      "\u001b[32m[I 2022-03-23 17:53:22,280]\u001b[0m Trial 50 finished with value: 0.0971477038347551 and parameters: {'tau': 6.997353750931101, 'alpha': 0.7817427976531033, 'step': 0.19306375455795677}. Best is trial 48 with value: 0.04125780797584603.\u001b[0m\n",
      "\u001b[32m[I 2022-03-23 17:53:22,402]\u001b[0m Trial 51 finished with value: 0.0671783656342583 and parameters: {'tau': 7.048473833315674, 'alpha': 0.7729093434487218, 'step': 0.18567695924655914}. Best is trial 48 with value: 0.04125780797584603.\u001b[0m\n",
      "\u001b[32m[I 2022-03-23 17:53:22,530]\u001b[0m Trial 52 finished with value: 0.06824209340635834 and parameters: {'tau': 7.422544050065471, 'alpha': 0.7094001533130478, 'step': 0.17165795130091457}. Best is trial 48 with value: 0.04125780797584603.\u001b[0m\n",
      "\u001b[32m[I 2022-03-23 17:53:22,546]\u001b[0m Trial 53 finished with value: 0.6214903815999155 and parameters: {'tau': 6.178608972551025, 'alpha': 0.7141579894117756, 'step': 0.0948939449315864}. Best is trial 48 with value: 0.04125780797584603.\u001b[0m\n",
      "\u001b[32m[I 2022-03-23 17:53:22,563]\u001b[0m Trial 54 finished with value: 0.6218650978146553 and parameters: {'tau': 6.73963734139732, 'alpha': 0.8116578490100824, 'step': 0.025879905411107684}. Best is trial 48 with value: 0.04125780797584603.\u001b[0m\n",
      "\u001b[32m[I 2022-03-23 17:53:22,603]\u001b[0m Trial 55 finished with value: 0.7765246216232022 and parameters: {'tau': 7.635977693635142, 'alpha': 0.6535523905673022, 'step': 0.24124938869537826}. Best is trial 48 with value: 0.04125780797584603.\u001b[0m\n",
      "\u001b[32m[I 2022-03-23 17:53:22,644]\u001b[0m Trial 56 finished with value: 0.7896948466019215 and parameters: {'tau': 6.05394064550755, 'alpha': 0.7349397289040495, 'step': 0.30197698036630666}. Best is trial 48 with value: 0.04125780797584603.\u001b[0m\n",
      "\u001b[32m[I 2022-03-23 17:53:22,763]\u001b[0m Trial 57 finished with value: 0.06560048493075367 and parameters: {'tau': 6.932029752552055, 'alpha': 0.8698545405303284, 'step': 0.1553526464960167}. Best is trial 48 with value: 0.04125780797584603.\u001b[0m\n",
      "\u001b[32m[I 2022-03-23 17:53:22,796]\u001b[0m Trial 58 finished with value: 0.7471399503897616 and parameters: {'tau': 6.9259480682664725, 'alpha': 0.8725366207799278, 'step': 0.22029983167003064}. Best is trial 48 with value: 0.04125780797584603.\u001b[0m\n",
      "\u001b[32m[I 2022-03-23 17:53:22,811]\u001b[0m Trial 59 finished with value: 0.6216756153409165 and parameters: {'tau': 8.454412548853927, 'alpha': 0.816055499891676, 'step': 0.0350663720461194}. Best is trial 48 with value: 0.04125780797584603.\u001b[0m\n",
      "\u001b[32m[I 2022-03-23 17:53:22,833]\u001b[0m Trial 60 finished with value: 0.636389582420541 and parameters: {'tau': 8.745115833136005, 'alpha': 0.7906159199739987, 'step': 0.3521005099974616}. Best is trial 48 with value: 0.04125780797584603.\u001b[0m\n",
      "\u001b[32m[I 2022-03-23 17:53:22,850]\u001b[0m Trial 61 finished with value: 0.6213156437037308 and parameters: {'tau': 5.545182645325181, 'alpha': 0.66770575377865, 'step': 0.1550467236701454}. Best is trial 48 with value: 0.04125780797584603.\u001b[0m\n",
      "\u001b[32m[I 2022-03-23 17:53:22,868]\u001b[0m Trial 62 finished with value: 0.6212923643192294 and parameters: {'tau': 7.210678764065587, 'alpha': 0.852139075418727, 'step': 0.1242871305652184}. Best is trial 48 with value: 0.04125780797584603.\u001b[0m\n",
      "\u001b[32m[I 2022-03-23 17:53:22,906]\u001b[0m Trial 63 finished with value: 0.6993441388354484 and parameters: {'tau': 7.561548784116871, 'alpha': 0.598321624297896, 'step': 0.19693485681569597}. Best is trial 48 with value: 0.04125780797584603.\u001b[0m\n",
      "\u001b[32m[I 2022-03-23 17:53:22,952]\u001b[0m Trial 64 finished with value: 0.8050618061110079 and parameters: {'tau': 6.611811754163493, 'alpha': 0.7165424245523416, 'step': 0.2906841367783842}. Best is trial 48 with value: 0.04125780797584603.\u001b[0m\n",
      "\u001b[32m[I 2022-03-23 17:53:22,969]\u001b[0m Trial 65 finished with value: 0.6213949944655524 and parameters: {'tau': 7.822878018233135, 'alpha': 0.78429683519125, 'step': 0.09402960035006441}. Best is trial 48 with value: 0.04125780797584603.\u001b[0m\n",
      "\u001b[32m[I 2022-03-23 17:53:22,988]\u001b[0m Trial 66 finished with value: 0.6212859731536545 and parameters: {'tau': 5.850602225718426, 'alpha': 0.8399320551481442, 'step': 0.15488949236468663}. Best is trial 48 with value: 0.04125780797584603.\u001b[0m\n",
      "\u001b[32m[I 2022-03-23 17:53:23,126]\u001b[0m Trial 67 finished with value: 0.039950334060502385 and parameters: {'tau': 6.27046814265302, 'alpha': 0.6545031411621678, 'step': 0.22539781751993604}. Best is trial 67 with value: 0.039950334060502385.\u001b[0m\n"
     ]
    },
    {
     "name": "stderr",
     "output_type": "stream",
     "text": [
      "\u001b[32m[I 2022-03-23 17:53:23,154]\u001b[0m Trial 68 finished with value: 0.670532182404229 and parameters: {'tau': 6.898608508473544, 'alpha': 0.6479996299213283, 'step': 0.4183214189961535}. Best is trial 67 with value: 0.039950334060502385.\u001b[0m\n",
      "\u001b[32m[I 2022-03-23 17:53:23,271]\u001b[0m Trial 69 finished with value: 0.0784052690510336 and parameters: {'tau': 5.313478139605189, 'alpha': 0.7621136883553115, 'step': 0.21630088900052083}. Best is trial 67 with value: 0.039950334060502385.\u001b[0m\n",
      "\u001b[32m[I 2022-03-23 17:53:23,286]\u001b[0m Trial 70 finished with value: 0.6215579363503859 and parameters: {'tau': 9.34886191416524, 'alpha': 0.601564033650464, 'step': 0.051407545356539075}. Best is trial 67 with value: 0.039950334060502385.\u001b[0m\n",
      "\u001b[32m[I 2022-03-23 17:53:23,334]\u001b[0m Trial 71 finished with value: 0.8377070424206238 and parameters: {'tau': 6.331746628610583, 'alpha': 0.6912388608009263, 'step': 0.1898684285886597}. Best is trial 67 with value: 0.039950334060502385.\u001b[0m\n",
      "\u001b[32m[I 2022-03-23 17:53:23,352]\u001b[0m Trial 72 finished with value: 0.621346762875372 and parameters: {'tau': 7.093342117381939, 'alpha': 0.7191345493159801, 'step': 0.11434126265458545}. Best is trial 67 with value: 0.039950334060502385.\u001b[0m\n",
      "\u001b[32m[I 2022-03-23 17:53:23,393]\u001b[0m Trial 73 finished with value: 0.7947097939111641 and parameters: {'tau': 7.64074138134736, 'alpha': 0.6802921168068484, 'step': 0.1489527643648827}. Best is trial 67 with value: 0.039950334060502385.\u001b[0m\n",
      "\u001b[32m[I 2022-03-23 17:53:23,519]\u001b[0m Trial 74 finished with value: 0.2553956630356917 and parameters: {'tau': 5.895684651439443, 'alpha': 0.7419083456940596, 'step': 0.23992902541782646}. Best is trial 67 with value: 0.039950334060502385.\u001b[0m\n",
      "\u001b[32m[I 2022-03-23 17:53:23,633]\u001b[0m Trial 75 finished with value: 0.045843681356581636 and parameters: {'tau': 6.7299968276590985, 'alpha': 0.889507466572812, 'step': 0.17351006873081762}. Best is trial 67 with value: 0.039950334060502385.\u001b[0m\n",
      "\u001b[32m[I 2022-03-23 17:53:23,650]\u001b[0m Trial 76 finished with value: 0.6214989456410799 and parameters: {'tau': 6.738299436500759, 'alpha': 0.896021252794635, 'step': 0.08502312081603107}. Best is trial 67 with value: 0.039950334060502385.\u001b[0m\n",
      "\u001b[32m[I 2022-03-23 17:53:23,680]\u001b[0m Trial 77 finished with value: 0.6998495296583801 and parameters: {'tau': 7.954929436168894, 'alpha': 0.8396672932468052, 'step': 0.28317107045481393}. Best is trial 67 with value: 0.039950334060502385.\u001b[0m\n",
      "\u001b[32m[I 2022-03-23 17:53:23,800]\u001b[0m Trial 78 finished with value: 0.08863285605405297 and parameters: {'tau': 8.271137603697932, 'alpha': 0.7708787326947479, 'step': 0.17885255213157528}. Best is trial 67 with value: 0.039950334060502385.\u001b[0m\n",
      "\u001b[32m[I 2022-03-23 17:53:23,838]\u001b[0m Trial 79 finished with value: 0.7144289935520713 and parameters: {'tau': 7.408197507525287, 'alpha': 0.8760835593421261, 'step': 0.21231993799790777}. Best is trial 67 with value: 0.039950334060502385.\u001b[0m\n",
      "\u001b[32m[I 2022-03-23 17:53:23,861]\u001b[0m Trial 80 finished with value: 0.6301515595100377 and parameters: {'tau': 8.68546567806811, 'alpha': 0.800434966083578, 'step': 0.7569026258905306}. Best is trial 67 with value: 0.039950334060502385.\u001b[0m\n",
      "\u001b[32m[I 2022-03-23 17:53:23,878]\u001b[0m Trial 81 finished with value: 0.6213739522571644 and parameters: {'tau': 6.20392343705239, 'alpha': 0.6380629881451487, 'step': 0.12387510575453764}. Best is trial 67 with value: 0.039950334060502385.\u001b[0m\n",
      "\u001b[32m[I 2022-03-23 17:53:23,920]\u001b[0m Trial 82 finished with value: 0.7933876582893145 and parameters: {'tau': 7.136773704226487, 'alpha': 0.705774579059971, 'step': 0.16245741435642944}. Best is trial 67 with value: 0.039950334060502385.\u001b[0m\n",
      "\u001b[32m[I 2022-03-23 17:53:24,051]\u001b[0m Trial 83 finished with value: 0.0581108049858901 and parameters: {'tau': 6.566071505316927, 'alpha': 0.6119886275638959, 'step': 0.2441518737757591}. Best is trial 67 with value: 0.039950334060502385.\u001b[0m\n",
      "\u001b[32m[I 2022-03-23 17:53:24,080]\u001b[0m Trial 84 finished with value: 0.7046231448818169 and parameters: {'tau': 6.609723221068393, 'alpha': 0.6069015391846474, 'step': 0.3507913597066634}. Best is trial 67 with value: 0.039950334060502385.\u001b[0m\n",
      "\u001b[32m[I 2022-03-23 17:53:24,198]\u001b[0m Trial 85 finished with value: 0.09741909826031321 and parameters: {'tau': 4.669032216918563, 'alpha': 0.6688327110627786, 'step': 0.24897057521959196}. Best is trial 67 with value: 0.039950334060502385.\u001b[0m\n",
      "\u001b[32m[I 2022-03-23 17:53:24,232]\u001b[0m Trial 86 finished with value: 0.6915834388847446 and parameters: {'tau': 7.4452469445633795, 'alpha': 0.7325847475385456, 'step': 0.22619063365096806}. Best is trial 67 with value: 0.039950334060502385.\u001b[0m\n",
      "\u001b[32m[I 2022-03-23 17:53:24,249]\u001b[0m Trial 87 finished with value: 0.6212670569628675 and parameters: {'tau': 6.877772732309743, 'alpha': 0.6239569174725959, 'step': 0.13606163897444634}. Best is trial 67 with value: 0.039950334060502385.\u001b[0m\n",
      "\u001b[32m[I 2022-03-23 17:53:24,289]\u001b[0m Trial 88 finished with value: 0.8642992229023986 and parameters: {'tau': 6.427603086291968, 'alpha': 0.8660923445839576, 'step': 0.18671529307443147}. Best is trial 67 with value: 0.039950334060502385.\u001b[0m\n",
      "\u001b[32m[I 2022-03-23 17:53:24,306]\u001b[0m Trial 89 finished with value: 0.6215001747626435 and parameters: {'tau': 5.413129005921632, 'alpha': 0.6606909177685741, 'step': 0.10548203747225067}. Best is trial 67 with value: 0.039950334060502385.\u001b[0m\n",
      "\u001b[32m[I 2022-03-23 17:53:24,330]\u001b[0m Trial 90 finished with value: 0.6329163846841614 and parameters: {'tau': 7.176563320814977, 'alpha': 0.5831414220218475, 'step': 0.579517344700091}. Best is trial 67 with value: 0.039950334060502385.\u001b[0m\n",
      "\u001b[32m[I 2022-03-23 17:53:24,462]\u001b[0m Trial 91 finished with value: 0.03817421889850621 and parameters: {'tau': 6.203728456396602, 'alpha': 0.5401750633540281, 'step': 0.1673198466574395}. Best is trial 91 with value: 0.03817421889850621.\u001b[0m\n",
      "\u001b[32m[I 2022-03-23 17:53:24,505]\u001b[0m Trial 92 finished with value: 0.753884501924448 and parameters: {'tau': 6.063913974297782, 'alpha': 0.5621371231417345, 'step': 0.2635215188923587}. Best is trial 91 with value: 0.03817421889850621.\u001b[0m\n",
      "\u001b[32m[I 2022-03-23 17:53:24,522]\u001b[0m Trial 93 finished with value: 0.6212332363900555 and parameters: {'tau': 5.768452054143968, 'alpha': 0.5307038515274375, 'step': 0.17140328989210624}. Best is trial 91 with value: 0.03817421889850621.\u001b[0m\n",
      "\u001b[32m[I 2022-03-23 17:53:24,539]\u001b[0m Trial 94 finished with value: 0.6214878308801002 and parameters: {'tau': 7.944924696170152, 'alpha': 0.6975303288309855, 'step': 0.07429951522282752}. Best is trial 91 with value: 0.03817421889850621.\u001b[0m\n",
      "\u001b[32m[I 2022-03-23 17:53:24,583]\u001b[0m Trial 95 finished with value: 0.7987456066768482 and parameters: {'tau': 7.630779655205204, 'alpha': 0.5846592992037227, 'step': 0.19744467103870997}. Best is trial 91 with value: 0.03817421889850621.\u001b[0m\n",
      "\u001b[32m[I 2022-03-23 17:53:24,603]\u001b[0m Trial 96 finished with value: 0.6212412544819553 and parameters: {'tau': 6.814135904562677, 'alpha': 0.6400600254445574, 'step': 0.14325850453934041}. Best is trial 91 with value: 0.03817421889850621.\u001b[0m\n",
      "\u001b[32m[I 2022-03-23 17:53:24,622]\u001b[0m Trial 97 finished with value: 0.6216988952270057 and parameters: {'tau': 0.7867958097637393, 'alpha': 0.8281702503365056, 'step': 0.3305051784305786}. Best is trial 91 with value: 0.03817421889850621.\u001b[0m\n",
      "\u001b[32m[I 2022-03-23 17:53:24,686]\u001b[0m Trial 98 finished with value: 0.7368363442074471 and parameters: {'tau': 6.543244346773404, 'alpha': 0.6808918558143524, 'step': 0.2794485910479708}. Best is trial 91 with value: 0.03817421889850621.\u001b[0m\n",
      "\u001b[32m[I 2022-03-23 17:53:24,812]\u001b[0m Trial 99 finished with value: 0.132691381403673 and parameters: {'tau': 6.251647398949862, 'alpha': 0.617766224293577, 'step': 0.23517371614494245}. Best is trial 91 with value: 0.03817421889850621.\u001b[0m\n"
     ]
    },
    {
     "name": "stdout",
     "output_type": "stream",
     "text": [
      "Number of finished trials: 100\n",
      "Best trial: {'tau': 6.203728456396602, 'alpha': 0.5401750633540281, 'step': 0.1673198466574395}\n",
      "Best score: 0.03817421889850621\n"
     ]
    }
   ],
   "source": [
    "studySMAPE = optuna.create_study(direction='minimize')\n",
    "studySMAPE.optimize(lambda trial : objective_gradient(trial, gradientSMAPE, error_nrmse, SMAPE), n_trials=100)\n",
    "\n",
    "print('Number of finished trials:', len(studySMAPE.trials))\n",
    "print('Best trial:', studySMAPE.best_trial.params)\n",
    "print('Best score:', studySMAPE.best_trial.value)"
   ]
  },
  {
   "cell_type": "code",
   "execution_count": 22,
   "id": "2d5092c0",
   "metadata": {},
   "outputs": [
    {
     "data": {
      "image/png": "[encoded data removed]",
      "text/plain": [
       "<Figure size 432x288 with 1 Axes>"
      ]
     },
     "metadata": {
      "needs_background": "light"
     },
     "output_type": "display_data"
    }
   ],
   "source": [
    "graf_l_taus(\n",
    "    studySMAPE.best_trial.params['tau'],\n",
    "    studySMAPE.best_trial.params['alpha'],\n",
    "    studySMAPE.best_trial.params['step'],\n",
    "    gradientSMAPE,\n",
    "    SMAPE\n",
    ")"
   ]
  },
  {
   "cell_type": "code",
   "execution_count": 23,
   "id": "e03bfd48",
   "metadata": {},
   "outputs": [
    {
     "name": "stderr",
     "output_type": "stream",
     "text": [
      "\u001b[32m[I 2022-03-23 17:54:32,486]\u001b[0m A new study created in memory with name: no-name-a504c799-0644-4b3c-834e-60260906c8e5\u001b[0m\n",
      "\u001b[32m[I 2022-03-23 17:54:32,923]\u001b[0m Trial 0 finished with value: 99.999979820386 and parameters: {'tau': 7.104519272410639, 'alpha': 0.8817466208232474, 'step': 0.3601638970386092}. Best is trial 0 with value: 99.999979820386.\u001b[0m\n",
      "\u001b[32m[I 2022-03-23 17:54:33,368]\u001b[0m Trial 1 finished with value: 99.99985193011905 and parameters: {'tau': 4.298207989352887, 'alpha': 0.8192524037851093, 'step': 0.2727133537491413}. Best is trial 1 with value: 99.99985193011905.\u001b[0m\n",
      "\u001b[32m[I 2022-03-23 17:54:33,790]\u001b[0m Trial 2 finished with value: 100.0 and parameters: {'tau': 5.444213223898567, 'alpha': 0.2899035371970182, 'step': 0.8359517758218473}. Best is trial 1 with value: 99.99985193011905.\u001b[0m\n",
      "\u001b[32m[I 2022-03-23 17:54:34,196]\u001b[0m Trial 3 finished with value: 100.0 and parameters: {'tau': 2.6000691770144435, 'alpha': 0.29382392343690517, 'step': 0.5330308265991311}. Best is trial 1 with value: 99.99985193011905.\u001b[0m\n",
      "\u001b[32m[I 2022-03-23 17:54:34,590]\u001b[0m Trial 4 finished with value: 99.99999999998869 and parameters: {'tau': 7.426946297737381, 'alpha': 0.142840963834501, 'step': 0.5537975353099174}. Best is trial 1 with value: 99.99985193011905.\u001b[0m\n",
      "\u001b[32m[I 2022-03-23 17:54:34,605]\u001b[0m Trial 5 finished with value: 21.0443393571846 and parameters: {'tau': 2.386836631224721, 'alpha': 0.8768394252504675, 'step': 0.047745015808154184}. Best is trial 5 with value: 21.0443393571846.\u001b[0m\n",
      "\u001b[32m[I 2022-03-23 17:54:35,005]\u001b[0m Trial 6 finished with value: 100.0 and parameters: {'tau': 2.2784619096192635, 'alpha': 0.8952949946557845, 'step': 0.941639793601627}. Best is trial 5 with value: 21.0443393571846.\u001b[0m\n",
      "\u001b[32m[I 2022-03-23 17:54:35,395]\u001b[0m Trial 7 finished with value: 99.9999920569436 and parameters: {'tau': 0.07107689040606213, 'alpha': 0.71572916808893, 'step': 0.2550770048170706}. Best is trial 5 with value: 21.0443393571846.\u001b[0m\n",
      "\u001b[32m[I 2022-03-23 17:54:35,562]\u001b[0m Trial 8 finished with value: 86.96351319053424 and parameters: {'tau': 1.0206618033570969, 'alpha': 0.3001874660894216, 'step': 0.09323487777867422}. Best is trial 5 with value: 21.0443393571846.\u001b[0m\n",
      "\u001b[32m[I 2022-03-23 17:54:35,969]\u001b[0m Trial 9 finished with value: 99.99999999999999 and parameters: {'tau': 8.734571527827619, 'alpha': 0.5668519923567762, 'step': 0.6779484602088297}. Best is trial 5 with value: 21.0443393571846.\u001b[0m\n",
      "\u001b[32m[I 2022-03-23 17:54:35,984]\u001b[0m Trial 10 finished with value: 23.570265458040236 and parameters: {'tau': 4.460006683592507, 'alpha': 0.5744732822575354, 'step': 0.013622735955510223}. Best is trial 5 with value: 21.0443393571846.\u001b[0m\n",
      "\u001b[32m[I 2022-03-23 17:54:36,009]\u001b[0m Trial 11 finished with value: 11.480178139214416 and parameters: {'tau': 3.8634020868279677, 'alpha': 0.5856268462133434, 'step': 0.04071594824136619}. Best is trial 11 with value: 11.480178139214416.\u001b[0m\n",
      "\u001b[32m[I 2022-03-23 17:54:36,424]\u001b[0m Trial 12 finished with value: 98.2717224180352 and parameters: {'tau': 2.8940631473705176, 'alpha': 0.6834705198088754, 'step': 0.15507443143353744}. Best is trial 11 with value: 11.480178139214416.\u001b[0m\n",
      "\u001b[32m[I 2022-03-23 17:54:36,440]\u001b[0m Trial 13 finished with value: 12.761226460405853 and parameters: {'tau': 5.484662557016498, 'alpha': 0.43698680271812157, 'step': 0.024293260115071366}. Best is trial 11 with value: 11.480178139214416.\u001b[0m\n",
      "\u001b[32m[I 2022-03-23 17:54:36,841]\u001b[0m Trial 14 finished with value: 99.99999850277871 and parameters: {'tau': 6.108774241673869, 'alpha': 0.4495605375158863, 'step': 0.36604842064545606}. Best is trial 11 with value: 11.480178139214416.\u001b[0m\n",
      "\u001b[32m[I 2022-03-23 17:54:37,251]\u001b[0m Trial 15 finished with value: 98.83435664828443 and parameters: {'tau': 3.7896863158287126, 'alpha': 0.48062373578534623, 'step': 0.1639260737164971}. Best is trial 11 with value: 11.480178139214416.\u001b[0m\n",
      "\u001b[32m[I 2022-03-23 17:54:37,648]\u001b[0m Trial 16 finished with value: 99.72669649934663 and parameters: {'tau': 9.553855324302106, 'alpha': 0.4068187490005015, 'step': 0.2501029469931151}. Best is trial 11 with value: 11.480178139214416.\u001b[0m\n",
      "\u001b[32m[I 2022-03-23 17:54:37,663]\u001b[0m Trial 17 finished with value: 39.36659777331098 and parameters: {'tau': 6.025806510216809, 'alpha': 0.6287078025238335, 'step': 0.003007182508319793}. Best is trial 11 with value: 11.480178139214416.\u001b[0m\n",
      "\u001b[32m[I 2022-03-23 17:54:38,061]\u001b[0m Trial 18 finished with value: 99.99999991420516 and parameters: {'tau': 7.287019155900739, 'alpha': 0.3998662037176588, 'step': 0.43104797402552325}. Best is trial 11 with value: 11.480178139214416.\u001b[0m\n",
      "\u001b[32m[I 2022-03-23 17:54:38,453]\u001b[0m Trial 19 finished with value: 98.85817698453604 and parameters: {'tau': 3.5532022082749872, 'alpha': 0.11128143611740426, 'step': 0.1631460710692793}. Best is trial 11 with value: 11.480178139214416.\u001b[0m\n",
      "\u001b[32m[I 2022-03-23 17:54:39,646]\u001b[0m Trial 20 finished with value: 100.0 and parameters: {'tau': 4.77001255978616, 'alpha': 0.5258291924229542, 'step': 0.7183316213026012}. Best is trial 11 with value: 11.480178139214416.\u001b[0m\n",
      "\u001b[32m[I 2022-03-23 17:54:39,747]\u001b[0m Trial 21 finished with value: 73.84807435099428 and parameters: {'tau': 1.6551514251672592, 'alpha': 0.7525381177446768, 'step': 0.08204955151823648}. Best is trial 11 with value: 11.480178139214416.\u001b[0m\n",
      "\u001b[32m[I 2022-03-23 17:54:39,838]\u001b[0m Trial 22 finished with value: 58.65614960029427 and parameters: {'tau': 3.3370577449152057, 'alpha': 0.7889162570149737, 'step': 0.07765201850643214}. Best is trial 11 with value: 11.480178139214416.\u001b[0m\n",
      "\u001b[32m[I 2022-03-23 17:54:40,245]\u001b[0m Trial 23 finished with value: 99.98629391133471 and parameters: {'tau': 1.2915095562736685, 'alpha': 0.3681748280041891, 'step': 0.19002512054095994}. Best is trial 11 with value: 11.480178139214416.\u001b[0m\n",
      "\u001b[32m[I 2022-03-23 17:54:40,259]\u001b[0m Trial 24 finished with value: 31.717689762206096 and parameters: {'tau': 5.7370719245502375, 'alpha': 0.6318196352011155, 'step': 0.004582145929132694}. Best is trial 11 with value: 11.480178139214416.\u001b[0m\n",
      "\u001b[32m[I 2022-03-23 17:54:41,187]\u001b[0m Trial 25 finished with value: 58.18937016411327 and parameters: {'tau': 2.2831628265115045, 'alpha': 0.6532458435737586, 'step': 0.0759660957786534}. Best is trial 11 with value: 11.480178139214416.\u001b[0m\n",
      "\u001b[32m[I 2022-03-23 17:54:41,720]\u001b[0m Trial 26 finished with value: 99.99992207480827 and parameters: {'tau': 5.165684334161494, 'alpha': 0.5338757755003269, 'step': 0.2990695060694023}. Best is trial 11 with value: 11.480178139214416.\u001b[0m\n",
      "\u001b[32m[I 2022-03-23 17:54:42,130]\u001b[0m Trial 27 finished with value: 97.40673587536028 and parameters: {'tau': 0.14337068317375223, 'alpha': 0.2102506272920281, 'step': 0.11678571608630862}. Best is trial 11 with value: 11.480178139214416.\u001b[0m\n",
      "\u001b[32m[I 2022-03-23 17:54:42,560]\u001b[0m Trial 28 finished with value: 99.99999999996618 and parameters: {'tau': 4.020386825333981, 'alpha': 0.8042782135362974, 'step': 0.4694150052664974}. Best is trial 11 with value: 11.480178139214416.\u001b[0m\n",
      "\u001b[32m[I 2022-03-23 17:54:42,960]\u001b[0m Trial 29 finished with value: 99.99998231811387 and parameters: {'tau': 7.883899576197305, 'alpha': 0.8529227397669837, 'step': 0.3702859023971248}. Best is trial 11 with value: 11.480178139214416.\u001b[0m\n",
      "\u001b[32m[I 2022-03-23 17:54:43,360]\u001b[0m Trial 30 finished with value: 99.4790388508756 and parameters: {'tau': 6.8280226602831116, 'alpha': 0.35370641469705577, 'step': 0.21853657891661055}. Best is trial 11 with value: 11.480178139214416.\u001b[0m\n",
      "\u001b[32m[I 2022-03-23 17:54:43,381]\u001b[0m Trial 31 finished with value: 10.136135080496858 and parameters: {'tau': 4.773080592200885, 'alpha': 0.5996986519919927, 'step': 0.02998011767412657}. Best is trial 31 with value: 10.136135080496858.\u001b[0m\n",
      "\u001b[32m[I 2022-03-23 17:54:43,403]\u001b[0m Trial 32 finished with value: 10.591788571881107 and parameters: {'tau': 4.759836080183398, 'alpha': 0.45078714694435507, 'step': 0.03858544242969775}. Best is trial 31 with value: 10.136135080496858.\u001b[0m\n",
      "\u001b[32m[I 2022-03-23 17:54:43,822]\u001b[0m Trial 33 finished with value: 77.30231865943719 and parameters: {'tau': 6.59343956312802, 'alpha': 0.47243686094452414, 'step': 0.13157922465648592}. Best is trial 31 with value: 10.136135080496858.\u001b[0m\n"
     ]
    },
    {
     "name": "stderr",
     "output_type": "stream",
     "text": [
      "\u001b[32m[I 2022-03-23 17:54:43,846]\u001b[0m Trial 34 finished with value: 11.540996372830344 and parameters: {'tau': 5.04330440156161, 'alpha': 0.5853888797520765, 'step': 0.04604508539753131}. Best is trial 31 with value: 10.136135080496858.\u001b[0m\n",
      "\u001b[32m[I 2022-03-23 17:54:44,286]\u001b[0m Trial 35 finished with value: 99.99996232393222 and parameters: {'tau': 4.5901518508270645, 'alpha': 0.5891127494043158, 'step': 0.3025056294248125}. Best is trial 31 with value: 10.136135080496858.\u001b[0m\n",
      "\u001b[32m[I 2022-03-23 17:54:44,685]\u001b[0m Trial 36 finished with value: 100.0 and parameters: {'tau': 5.129248331683517, 'alpha': 0.5217371154867296, 'step': 0.6009152593150642}. Best is trial 31 with value: 10.136135080496858.\u001b[0m\n",
      "\u001b[32m[I 2022-03-23 17:54:45,110]\u001b[0m Trial 37 finished with value: 99.97672349995528 and parameters: {'tau': 3.126064728688, 'alpha': 0.6980029883276062, 'step': 0.1993147015067303}. Best is trial 31 with value: 10.136135080496858.\u001b[0m\n",
      "\u001b[32m[I 2022-03-23 17:54:45,138]\u001b[0m Trial 38 finished with value: 13.48903189937894 and parameters: {'tau': 4.2737462006623375, 'alpha': 0.5954498739325441, 'step': 0.0609694952231358}. Best is trial 31 with value: 10.136135080496858.\u001b[0m\n",
      "\u001b[32m[I 2022-03-23 17:54:45,578]\u001b[0m Trial 39 finished with value: 73.99755440643081 and parameters: {'tau': 6.340832043137457, 'alpha': 0.7383215982345942, 'step': 0.11824310691221819}. Best is trial 31 with value: 10.136135080496858.\u001b[0m\n",
      "\u001b[32m[I 2022-03-23 17:54:45,971]\u001b[0m Trial 40 finished with value: 100.0 and parameters: {'tau': 4.7870994947009065, 'alpha': 0.6588940591813564, 'step': 0.8146275519882507}. Best is trial 31 with value: 10.136135080496858.\u001b[0m\n",
      "\u001b[32m[I 2022-03-23 17:54:45,990]\u001b[0m Trial 41 finished with value: 10.143274070738718 and parameters: {'tau': 5.2796194693045715, 'alpha': 0.4280151642666033, 'step': 0.038530395733307604}. Best is trial 31 with value: 10.136135080496858.\u001b[0m\n",
      "\u001b[32m[I 2022-03-23 17:54:46,014]\u001b[0m Trial 42 finished with value: 10.695819397512297 and parameters: {'tau': 5.498705943120283, 'alpha': 0.5487551646764928, 'step': 0.05445419107109245}. Best is trial 31 with value: 10.136135080496858.\u001b[0m\n",
      "\u001b[32m[I 2022-03-23 17:54:46,404]\u001b[0m Trial 43 finished with value: 78.87759685222319 and parameters: {'tau': 5.6853932840055, 'alpha': 0.5024567846102883, 'step': 0.11862337344086317}. Best is trial 31 with value: 10.136135080496858.\u001b[0m\n",
      "\u001b[32m[I 2022-03-23 17:54:46,808]\u001b[0m Trial 44 finished with value: 100.0 and parameters: {'tau': 4.043418805429279, 'alpha': 0.3291588278131237, 'step': 0.9758048376642379}. Best is trial 31 with value: 10.136135080496858.\u001b[0m\n",
      "\u001b[32m[I 2022-03-23 17:54:46,837]\u001b[0m Trial 45 finished with value: 11.114435917346194 and parameters: {'tau': 5.416439052133232, 'alpha': 0.24444227969570403, 'step': 0.046623485349791945}. Best is trial 31 with value: 10.136135080496858.\u001b[0m\n",
      "\u001b[32m[I 2022-03-23 17:54:47,240]\u001b[0m Trial 46 finished with value: 99.26427245110416 and parameters: {'tau': 7.787950167218234, 'alpha': 0.21241553222931803, 'step': 0.21415653003393023}. Best is trial 31 with value: 10.136135080496858.\u001b[0m\n",
      "\u001b[32m[I 2022-03-23 17:54:47,256]\u001b[0m Trial 47 finished with value: 47.1903959663408 and parameters: {'tau': 5.388485432391612, 'alpha': 0.22071631933585487, 'step': 0.0022795529261812678}. Best is trial 31 with value: 10.136135080496858.\u001b[0m\n",
      "\u001b[32m[I 2022-03-23 17:54:47,278]\u001b[0m Trial 48 finished with value: 10.32464096809334 and parameters: {'tau': 5.974592690126373, 'alpha': 0.2611762670258891, 'step': 0.046796412462795756}. Best is trial 31 with value: 10.136135080496858.\u001b[0m\n",
      "\u001b[32m[I 2022-03-23 17:54:47,688]\u001b[0m Trial 49 finished with value: 91.3101427966892 and parameters: {'tau': 5.97062205093529, 'alpha': 0.16448020033215455, 'step': 0.14949068675457183}. Best is trial 31 with value: 10.136135080496858.\u001b[0m\n",
      "\u001b[32m[I 2022-03-23 17:54:47,827]\u001b[0m Trial 50 finished with value: 60.7989492940404 and parameters: {'tau': 7.010890597991628, 'alpha': 0.41863608356154763, 'step': 0.09329566469277947}. Best is trial 31 with value: 10.136135080496858.\u001b[0m\n",
      "\u001b[32m[I 2022-03-23 17:54:47,849]\u001b[0m Trial 51 finished with value: 9.399183358620919 and parameters: {'tau': 6.569959008020646, 'alpha': 0.33018597155866286, 'step': 0.050377306969787185}. Best is trial 51 with value: 9.399183358620919.\u001b[0m\n",
      "\u001b[32m[I 2022-03-23 17:54:47,870]\u001b[0m Trial 52 finished with value: 9.181356003714331 and parameters: {'tau': 6.458035521823623, 'alpha': 0.26475486991822306, 'step': 0.04358853900344717}. Best is trial 52 with value: 9.181356003714331.\u001b[0m\n",
      "\u001b[32m[I 2022-03-23 17:54:48,042]\u001b[0m Trial 53 finished with value: 65.2177488149354 and parameters: {'tau': 6.459091272929159, 'alpha': 0.2863410637608265, 'step': 0.09604537851127345}. Best is trial 52 with value: 9.181356003714331.\u001b[0m\n",
      "\u001b[32m[I 2022-03-23 17:54:48,062]\u001b[0m Trial 54 finished with value: 7.640237211267159 and parameters: {'tau': 8.103511432194589, 'alpha': 0.27541878076020265, 'step': 0.037435687002126544}. Best is trial 54 with value: 7.640237211267159.\u001b[0m\n",
      "\u001b[32m[I 2022-03-23 17:54:48,456]\u001b[0m Trial 55 finished with value: 70.51732390968313 and parameters: {'tau': 8.651679402653858, 'alpha': 0.30565684602767856, 'step': 0.1480328617597421}. Best is trial 54 with value: 7.640237211267159.\u001b[0m\n",
      "\u001b[32m[I 2022-03-23 17:54:48,904]\u001b[0m Trial 56 finished with value: 99.94562449776811 and parameters: {'tau': 8.250023827406254, 'alpha': 0.265303146661944, 'step': 0.2536412688132127}. Best is trial 54 with value: 7.640237211267159.\u001b[0m\n",
      "\u001b[32m[I 2022-03-23 17:54:49,323]\u001b[0m Trial 57 finished with value: 93.4177074030358 and parameters: {'tau': 7.702399227883097, 'alpha': 0.36200890848403633, 'step': 0.17418294599720952}. Best is trial 54 with value: 7.640237211267159.\u001b[0m\n",
      "\u001b[32m[I 2022-03-23 17:54:49,337]\u001b[0m Trial 58 finished with value: 59.609266243326175 and parameters: {'tau': 7.3183280938515605, 'alpha': 0.3828005158714983, 'step': 0.0014679516602547349}. Best is trial 54 with value: 7.640237211267159.\u001b[0m\n",
      "\u001b[32m[I 2022-03-23 17:54:49,452]\u001b[0m Trial 59 finished with value: 46.07168409641923 and parameters: {'tau': 9.952122024950215, 'alpha': 0.1739334169145071, 'step': 0.09432832850923957}. Best is trial 54 with value: 7.640237211267159.\u001b[0m\n",
      "\u001b[32m[I 2022-03-23 17:54:49,474]\u001b[0m Trial 60 finished with value: 9.332951997981764 and parameters: {'tau': 6.77915272428789, 'alpha': 0.31902880549846124, 'step': 0.04684617063884654}. Best is trial 54 with value: 7.640237211267159.\u001b[0m\n",
      "\u001b[32m[I 2022-03-23 17:54:49,494]\u001b[0m Trial 61 finished with value: 10.44861385901905 and parameters: {'tau': 6.231888611471308, 'alpha': 0.31783492300426214, 'step': 0.02987981278458489}. Best is trial 54 with value: 7.640237211267159.\u001b[0m\n",
      "\u001b[32m[I 2022-03-23 17:54:49,541]\u001b[0m Trial 62 finished with value: 19.99588839140535 and parameters: {'tau': 6.731452238038308, 'alpha': 0.2553543636219504, 'step': 0.06652555149638961}. Best is trial 54 with value: 7.640237211267159.\u001b[0m\n",
      "\u001b[32m[I 2022-03-23 17:54:49,739]\u001b[0m Trial 63 finished with value: 58.191834719788346 and parameters: {'tau': 9.250212196451043, 'alpha': 0.34339920747580555, 'step': 0.11252822421508206}. Best is trial 54 with value: 7.640237211267159.\u001b[0m\n",
      "\u001b[32m[I 2022-03-23 17:54:49,755]\u001b[0m Trial 64 finished with value: 17.75865033613098 and parameters: {'tau': 5.903317453001247, 'alpha': 0.2832988073261324, 'step': 0.020684576334200528}. Best is trial 54 with value: 7.640237211267159.\u001b[0m\n",
      "\u001b[32m[I 2022-03-23 17:54:49,814]\u001b[0m Trial 65 finished with value: 41.11812529085362 and parameters: {'tau': 6.961429222141428, 'alpha': 0.17232733745102607, 'step': 0.07610731825041919}. Best is trial 54 with value: 7.640237211267159.\u001b[0m\n",
      "\u001b[32m[I 2022-03-23 17:54:50,239]\u001b[0m Trial 66 finished with value: 92.24004416698374 and parameters: {'tau': 8.406704078417025, 'alpha': 0.385549740501955, 'step': 0.17649252359717968}. Best is trial 54 with value: 7.640237211267159.\u001b[0m\n",
      "\u001b[32m[I 2022-03-23 17:54:50,659]\u001b[0m Trial 67 finished with value: 76.12543011162033 and parameters: {'tau': 7.52480570847877, 'alpha': 0.2323430385148088, 'step': 0.1389430258715866}. Best is trial 54 with value: 7.640237211267159.\u001b[0m\n",
      "\u001b[32m[I 2022-03-23 17:54:50,680]\u001b[0m Trial 68 finished with value: 10.919681452196448 and parameters: {'tau': 7.106847968411911, 'alpha': 0.19156189330206447, 'step': 0.0361597050895951}. Best is trial 54 with value: 7.640237211267159.\u001b[0m\n"
     ]
    },
    {
     "name": "stderr",
     "output_type": "stream",
     "text": [
      "\u001b[32m[I 2022-03-23 17:54:51,106]\u001b[0m Trial 69 finished with value: 99.92963042934353 and parameters: {'tau': 6.5187205110878095, 'alpha': 0.12239097964058535, 'step': 0.22744870773156092}. Best is trial 54 with value: 7.640237211267159.\u001b[0m\n",
      "\u001b[32m[I 2022-03-23 17:54:51,527]\u001b[0m Trial 70 finished with value: 99.99989750635521 and parameters: {'tau': 6.169414341450279, 'alpha': 0.33126542682523635, 'step': 0.32530757671645194}. Best is trial 54 with value: 7.640237211267159.\u001b[0m\n",
      "\u001b[32m[I 2022-03-23 17:54:51,544]\u001b[0m Trial 71 finished with value: 10.321780597061124 and parameters: {'tau': 5.734925360866133, 'alpha': 0.31738300998825586, 'step': 0.030036711510176027}. Best is trial 54 with value: 7.640237211267159.\u001b[0m\n",
      "\u001b[32m[I 2022-03-23 17:54:51,592]\u001b[0m Trial 72 finished with value: 30.012455905441737 and parameters: {'tau': 5.742030684611548, 'alpha': 0.28619722790045476, 'step': 0.0685286856476606}. Best is trial 54 with value: 7.640237211267159.\u001b[0m\n",
      "\u001b[32m[I 2022-03-23 17:54:51,610]\u001b[0m Trial 73 finished with value: 7.881190612459105 and parameters: {'tau': 8.050582918086755, 'alpha': 0.26649574753712796, 'step': 0.02861407826103291}. Best is trial 54 with value: 7.640237211267159.\u001b[0m\n",
      "\u001b[32m[I 2022-03-23 17:54:51,629]\u001b[0m Trial 74 finished with value: 8.837115371214665 and parameters: {'tau': 8.070927920744689, 'alpha': 0.3003560406402898, 'step': 0.026862546279523905}. Best is trial 54 with value: 7.640237211267159.\u001b[0m\n",
      "\u001b[32m[I 2022-03-23 17:54:51,817]\u001b[0m Trial 75 finished with value: 60.526576361693344 and parameters: {'tau': 8.03848663381271, 'alpha': 0.3470236504377001, 'step': 0.10327367981336727}. Best is trial 54 with value: 7.640237211267159.\u001b[0m\n",
      "\u001b[32m[I 2022-03-23 17:54:51,832]\u001b[0m Trial 76 finished with value: 18.898515149348977 and parameters: {'tau': 9.063466577915868, 'alpha': 0.4268159031092516, 'step': 0.02007461033466568}. Best is trial 54 with value: 7.640237211267159.\u001b[0m\n",
      "\u001b[32m[I 2022-03-23 17:54:52,244]\u001b[0m Trial 77 finished with value: 99.99999999996477 and parameters: {'tau': 8.159046459124303, 'alpha': 0.2682280748020863, 'step': 0.5526576160786746}. Best is trial 54 with value: 7.640237211267159.\u001b[0m\n",
      "\u001b[32m[I 2022-03-23 17:54:52,671]\u001b[0m Trial 78 finished with value: 66.89458717918943 and parameters: {'tau': 7.517423332253658, 'alpha': 0.4704838500878851, 'step': 0.12629130900348384}. Best is trial 54 with value: 7.640237211267159.\u001b[0m\n",
      "\u001b[32m[I 2022-03-23 17:54:53,075]\u001b[0m Trial 79 finished with value: 100.0 and parameters: {'tau': 8.770632776117615, 'alpha': 0.396625114153635, 'step': 0.8933566642264195}. Best is trial 54 with value: 7.640237211267159.\u001b[0m\n",
      "\u001b[32m[I 2022-03-23 17:54:53,171]\u001b[0m Trial 80 finished with value: 45.448419709288096 and parameters: {'tau': 8.550236804764921, 'alpha': 0.29993084240790646, 'step': 0.0875478415459687}. Best is trial 54 with value: 7.640237211267159.\u001b[0m\n",
      "\u001b[32m[I 2022-03-23 17:54:53,187]\u001b[0m Trial 81 finished with value: 15.564029975867925 and parameters: {'tau': 6.816251096549591, 'alpha': 0.3118340342187058, 'step': 0.022430505222738283}. Best is trial 54 with value: 7.640237211267159.\u001b[0m\n",
      "\u001b[32m[I 2022-03-23 17:54:53,218]\u001b[0m Trial 82 finished with value: 10.509254899796257 and parameters: {'tau': 4.975086741622269, 'alpha': 0.22837046897006053, 'step': 0.05994109000937771}. Best is trial 54 with value: 7.640237211267159.\u001b[0m\n",
      "\u001b[32m[I 2022-03-23 17:54:53,234]\u001b[0m Trial 83 finished with value: 31.72422812315362 and parameters: {'tau': 7.208933566867402, 'alpha': 0.36381264668723456, 'step': 0.0044007774312370684}. Best is trial 54 with value: 7.640237211267159.\u001b[0m\n",
      "\u001b[32m[I 2022-03-23 17:54:53,257]\u001b[0m Trial 84 finished with value: 11.306681231300239 and parameters: {'tau': 4.5311150311637, 'alpha': 0.2424059017076998, 'step': 0.04157225202926998}. Best is trial 54 with value: 7.640237211267159.\u001b[0m\n",
      "\u001b[32m[I 2022-03-23 17:54:53,296]\u001b[0m Trial 85 finished with value: 21.59276873439125 and parameters: {'tau': 8.953262553375852, 'alpha': 0.32710672630273396, 'step': 0.06405029994854108}. Best is trial 54 with value: 7.640237211267159.\u001b[0m\n",
      "\u001b[32m[I 2022-03-23 17:54:53,713]\u001b[0m Trial 86 finished with value: 99.99999999999797 and parameters: {'tau': 7.979679739551426, 'alpha': 0.2039076010521024, 'step': 0.6069879468361642}. Best is trial 54 with value: 7.640237211267159.\u001b[0m\n",
      "\u001b[32m[I 2022-03-23 17:54:53,733]\u001b[0m Trial 87 finished with value: 7.827215490756205 and parameters: {'tau': 4.219931665269809, 'alpha': 0.2801800239279828, 'step': 0.028132371030886595}. Best is trial 54 with value: 7.640237211267159.\u001b[0m\n",
      "\u001b[32m[I 2022-03-23 17:54:54,145]\u001b[0m Trial 88 finished with value: 94.13236534128612 and parameters: {'tau': 3.6766592478719384, 'alpha': 0.2832322630227002, 'step': 0.13628328195212014}. Best is trial 54 with value: 7.640237211267159.\u001b[0m\n",
      "\u001b[32m[I 2022-03-23 17:54:54,573]\u001b[0m Trial 89 finished with value: 99.99999999940854 and parameters: {'tau': 4.099121165801906, 'alpha': 0.3779290537651563, 'step': 0.42650466293403266}. Best is trial 54 with value: 7.640237211267159.\u001b[0m\n",
      "\u001b[32m[I 2022-03-23 17:54:55,118]\u001b[0m Trial 90 finished with value: 79.78030974218423 and parameters: {'tau': 4.385088544064562, 'alpha': 0.610437419097357, 'step': 0.10749929152393009}. Best is trial 54 with value: 7.640237211267159.\u001b[0m\n",
      "\u001b[32m[I 2022-03-23 17:54:55,138]\u001b[0m Trial 91 finished with value: 11.577904482848062 and parameters: {'tau': 4.942604106145093, 'alpha': 0.2548007329321724, 'step': 0.0359051616277814}. Best is trial 54 with value: 7.640237211267159.\u001b[0m\n",
      "\u001b[32m[I 2022-03-23 17:54:55,259]\u001b[0m Trial 92 finished with value: 56.54944986576291 and parameters: {'tau': 5.188393863012736, 'alpha': 0.30517376860112566, 'step': 0.08435819302044595}. Best is trial 54 with value: 7.640237211267159.\u001b[0m\n",
      "\u001b[32m[I 2022-03-23 17:54:55,277]\u001b[0m Trial 93 finished with value: 20.413759769579453 and parameters: {'tau': 5.553153264848715, 'alpha': 0.27161688661885136, 'step': 0.018338692347170338}. Best is trial 54 with value: 7.640237211267159.\u001b[0m\n",
      "\u001b[32m[I 2022-03-23 17:54:55,308]\u001b[0m Trial 94 finished with value: 10.519779427727684 and parameters: {'tau': 6.6191347813761965, 'alpha': 0.33761798334941934, 'step': 0.05116234175877216}. Best is trial 54 with value: 7.640237211267159.\u001b[0m\n",
      "\u001b[32m[I 2022-03-23 17:54:55,380]\u001b[0m Trial 95 finished with value: 40.97117593950162 and parameters: {'tau': 7.642568827738345, 'alpha': 0.19140259238519164, 'step': 0.07710088456319103}. Best is trial 54 with value: 7.640237211267159.\u001b[0m\n",
      "\u001b[32m[I 2022-03-23 17:54:55,394]\u001b[0m Trial 96 finished with value: 38.615503505616935 and parameters: {'tau': 5.281466093891222, 'alpha': 0.4544116476869879, 'step': 0.0030857932103527594}. Best is trial 54 with value: 7.640237211267159.\u001b[0m\n",
      "\u001b[32m[I 2022-03-23 17:54:55,411]\u001b[0m Trial 97 finished with value: 7.652856697165484 and parameters: {'tau': 6.387554566899777, 'alpha': 0.5030798478287932, 'step': 0.028791960256617663}. Best is trial 54 with value: 7.640237211267159.\u001b[0m\n",
      "\u001b[32m[I 2022-03-23 17:54:55,851]\u001b[0m Trial 98 finished with value: 99.14974778510964 and parameters: {'tau': 2.5642535305851126, 'alpha': 0.488008616177898, 'step': 0.15923796414795513}. Best is trial 54 with value: 7.640237211267159.\u001b[0m\n",
      "\u001b[32m[I 2022-03-23 17:54:56,275]\u001b[0m Trial 99 finished with value: 100.0 and parameters: {'tau': 3.5023668416805913, 'alpha': 0.5580711736251724, 'step': 0.765002369848218}. Best is trial 54 with value: 7.640237211267159.\u001b[0m\n"
     ]
    },
    {
     "name": "stdout",
     "output_type": "stream",
     "text": [
      "Number of finished trials: 100\n",
      "Best trial: {'tau': 8.103511432194589, 'alpha': 0.27541878076020265, 'step': 0.037435687002126544}\n",
      "Best score: 7.640237211267159\n"
     ]
    }
   ],
   "source": [
    "studyMSE = optuna.create_study(direction='minimize')\n",
    "studyMSE.optimize(lambda trial : objective_gradient(trial, gradientMSE, error_smape, MSE), n_trials=100)\n",
    "\n",
    "print('Number of finished trials:', len(studyMSE.trials))\n",
    "print('Best trial:', studyMSE.best_trial.params)\n",
    "print('Best score:', studyMSE.best_trial.value)"
   ]
  },
  {
   "cell_type": "code",
   "execution_count": 24,
   "id": "d1103772",
   "metadata": {},
   "outputs": [
    {
     "data": {
      "image/png": "[encoded data removed]",
      "text/plain": [
       "<Figure size 432x288 with 1 Axes>"
      ]
     },
     "metadata": {
      "needs_background": "light"
     },
     "output_type": "display_data"
    }
   ],
   "source": [
    "graf_l_taus(\n",
    "    studyMSE.best_trial.params['tau'],\n",
    "    studyMSE.best_trial.params['alpha'],\n",
    "    studyMSE.best_trial.params['step'],\n",
    "    gradientMSE,\n",
    "    MSE\n",
    ")"
   ]
  },
  {
   "cell_type": "code",
   "execution_count": 25,
   "id": "8101aa0a",
   "metadata": {},
   "outputs": [
    {
     "name": "stderr",
     "output_type": "stream",
     "text": [
      "\u001b[32m[I 2022-03-23 17:55:13,421]\u001b[0m A new study created in memory with name: no-name-213341dd-e192-4e87-99e7-b1f72caacaac\u001b[0m\n",
      "\u001b[32m[I 2022-03-23 17:55:13,834]\u001b[0m Trial 0 finished with value: 2.4534142440859505e+18 and parameters: {'tau': 8.982604468782398, 'alpha': 0.872663801732885, 'step': 0.7531892825871591}. Best is trial 0 with value: 2.4534142440859505e+18.\u001b[0m\n",
      "\u001b[32m[I 2022-03-23 17:55:14,234]\u001b[0m Trial 1 finished with value: 2098090524806.7778 and parameters: {'tau': 9.717450673688719, 'alpha': 0.7935432122040974, 'step': 0.5786428446425189}. Best is trial 1 with value: 2098090524806.7778.\u001b[0m\n",
      "\u001b[32m[I 2022-03-23 17:55:14,710]\u001b[0m Trial 2 finished with value: 14492858035.948797 and parameters: {'tau': 7.052601846739454, 'alpha': 0.33578853112055107, 'step': 0.44431646761771315}. Best is trial 2 with value: 14492858035.948797.\u001b[0m\n",
      "\u001b[32m[I 2022-03-23 17:55:14,858]\u001b[0m Trial 3 finished with value: 1.193425609706008 and parameters: {'tau': 7.205874056452486, 'alpha': 0.4802385605723595, 'step': 0.09492651665216852}. Best is trial 3 with value: 1.193425609706008.\u001b[0m\n",
      "\u001b[32m[I 2022-03-23 17:55:15,248]\u001b[0m Trial 4 finished with value: 7.941268603083839 and parameters: {'tau': 9.679778480983634, 'alpha': 0.1842111281180845, 'step': 0.176904820889826}. Best is trial 3 with value: 1.193425609706008.\u001b[0m\n",
      "\u001b[32m[I 2022-03-23 17:55:15,642]\u001b[0m Trial 5 finished with value: 1414546.5454109418 and parameters: {'tau': 9.204031614239659, 'alpha': 0.3466805214968679, 'step': 0.353569480337321}. Best is trial 3 with value: 1.193425609706008.\u001b[0m\n",
      "\u001b[32m[I 2022-03-23 17:55:16,029]\u001b[0m Trial 6 finished with value: 18904.200571486814 and parameters: {'tau': 7.783720872052285, 'alpha': 0.3131115041970919, 'step': 0.27187498646873204}. Best is trial 3 with value: 1.193425609706008.\u001b[0m\n",
      "\u001b[32m[I 2022-03-23 17:55:16,045]\u001b[0m Trial 7 finished with value: 0.11106508854305909 and parameters: {'tau': 7.962095444201612, 'alpha': 0.8484861837796562, 'step': 0.04644172694526072}. Best is trial 7 with value: 0.11106508854305909.\u001b[0m\n",
      "\u001b[32m[I 2022-03-23 17:55:16,431]\u001b[0m Trial 8 finished with value: 1.318143231308591e+18 and parameters: {'tau': 7.366445764134594, 'alpha': 0.2242408496229733, 'step': 0.7061161745954063}. Best is trial 7 with value: 0.11106508854305909.\u001b[0m\n",
      "\u001b[32m[I 2022-03-23 17:55:16,828]\u001b[0m Trial 9 finished with value: 2.3255506892690032e+30 and parameters: {'tau': 2.398806531089911, 'alpha': 0.1629606645344981, 'step': 0.8825361682940664}. Best is trial 7 with value: 0.11106508854305909.\u001b[0m\n",
      "\u001b[32m[I 2022-03-23 17:55:16,847]\u001b[0m Trial 10 finished with value: 0.28231173938480586 and parameters: {'tau': 4.6070292331897615, 'alpha': 0.6949689020404989, 'step': 0.014863966708927305}. Best is trial 7 with value: 0.11106508854305909.\u001b[0m\n",
      "\u001b[32m[I 2022-03-23 17:55:16,870]\u001b[0m Trial 11 finished with value: 0.1947378746662205 and parameters: {'tau': 4.147146527319576, 'alpha': 0.6862456422084316, 'step': 0.022887748496129935}. Best is trial 7 with value: 0.11106508854305909.\u001b[0m\n",
      "\u001b[32m[I 2022-03-23 17:55:16,894]\u001b[0m Trial 12 finished with value: 0.2723608585750188 and parameters: {'tau': 4.721798394103121, 'alpha': 0.6807973003496685, 'step': 0.016469483374672078}. Best is trial 7 with value: 0.11106508854305909.\u001b[0m\n",
      "\u001b[32m[I 2022-03-23 17:55:17,341]\u001b[0m Trial 13 finished with value: 130252.35941886684 and parameters: {'tau': 2.5432457957959533, 'alpha': 0.6217989981585976, 'step': 0.22153951981350697}. Best is trial 7 with value: 0.11106508854305909.\u001b[0m\n",
      "\u001b[32m[I 2022-03-23 17:55:17,750]\u001b[0m Trial 14 finished with value: 9.921548008537089 and parameters: {'tau': 5.73245550250415, 'alpha': 0.8904962425540563, 'step': 0.14013124496684384}. Best is trial 7 with value: 0.11106508854305909.\u001b[0m\n",
      "\u001b[32m[I 2022-03-23 17:55:18,155]\u001b[0m Trial 15 finished with value: 152449310027.94937 and parameters: {'tau': 0.20559840595802115, 'alpha': 0.5660771331766083, 'step': 0.3544678564364038}. Best is trial 7 with value: 0.11106508854305909.\u001b[0m\n",
      "\u001b[32m[I 2022-03-23 17:55:18,574]\u001b[0m Trial 16 finished with value: 4.151755705329698e+17 and parameters: {'tau': 3.178104776632603, 'alpha': 0.764648107779152, 'step': 0.5732865665492175}. Best is trial 7 with value: 0.11106508854305909.\u001b[0m\n",
      "\u001b[32m[I 2022-03-23 17:55:18,973]\u001b[0m Trial 17 finished with value: 1135374.8906249618 and parameters: {'tau': 5.768193024816107, 'alpha': 0.49273257007299837, 'step': 0.30041565086961597}. Best is trial 7 with value: 0.11106508854305909.\u001b[0m\n",
      "\u001b[32m[I 2022-03-23 17:55:19,200]\u001b[0m Trial 18 finished with value: 3.520958223775572 and parameters: {'tau': 3.79382168134085, 'alpha': 0.7882821403566332, 'step': 0.09671004402117445}. Best is trial 7 with value: 0.11106508854305909.\u001b[0m\n",
      "\u001b[32m[I 2022-03-23 17:55:19,613]\u001b[0m Trial 19 finished with value: 1.3979617380979032e+36 and parameters: {'tau': 1.2777823881590806, 'alpha': 0.5868691203080462, 'step': 0.9946303316888725}. Best is trial 7 with value: 0.11106508854305909.\u001b[0m\n",
      "\u001b[32m[I 2022-03-23 17:55:20,040]\u001b[0m Trial 20 finished with value: 289486632518.7761 and parameters: {'tau': 6.427262549597831, 'alpha': 0.7174811364909761, 'step': 0.4717362482308092}. Best is trial 7 with value: 0.11106508854305909.\u001b[0m\n",
      "\u001b[32m[I 2022-03-23 17:55:20,057]\u001b[0m Trial 21 finished with value: 0.44967570113621663 and parameters: {'tau': 4.597410367689654, 'alpha': 0.652595802889317, 'step': 0.0020308701692954845}. Best is trial 7 with value: 0.11106508854305909.\u001b[0m\n",
      "\u001b[32m[I 2022-03-23 17:55:20,085]\u001b[0m Trial 22 finished with value: 0.15288740646053942 and parameters: {'tau': 3.7476416605391463, 'alpha': 0.8321134685567592, 'step': 0.05733430905631173}. Best is trial 7 with value: 0.11106508854305909.\u001b[0m\n",
      "\u001b[32m[I 2022-03-23 17:55:20,552]\u001b[0m Trial 23 finished with value: 7.063143933384218 and parameters: {'tau': 3.401642219331823, 'alpha': 0.8406322645224494, 'step': 0.10764960212254304}. Best is trial 7 with value: 0.11106508854305909.\u001b[0m\n",
      "\u001b[32m[I 2022-03-23 17:55:20,973]\u001b[0m Trial 24 finished with value: 143273.94531842292 and parameters: {'tau': 1.7511556432688375, 'alpha': 0.7474073702906205, 'step': 0.21487124636071964}. Best is trial 7 with value: 0.11106508854305909.\u001b[0m\n",
      "\u001b[32m[I 2022-03-23 17:55:21,019]\u001b[0m Trial 25 finished with value: 0.3744558726066968 and parameters: {'tau': 5.525456331430954, 'alpha': 0.8266567032768561, 'step': 0.06906978239950856}. Best is trial 7 with value: 0.11106508854305909.\u001b[0m\n",
      "\u001b[32m[I 2022-03-23 17:55:21,427]\u001b[0m Trial 26 finished with value: 20.71575632642537 and parameters: {'tau': 8.208195423859747, 'alpha': 0.8943617734755323, 'step': 0.17500866527220535}. Best is trial 7 with value: 0.11106508854305909.\u001b[0m\n",
      "\u001b[32m[I 2022-03-23 17:55:21,831]\u001b[0m Trial 27 finished with value: 4587043.007927851 and parameters: {'tau': 4.019971022825294, 'alpha': 0.8086444266209345, 'step': 0.2899284633566534}. Best is trial 7 with value: 0.11106508854305909.\u001b[0m\n",
      "\u001b[32m[I 2022-03-23 17:55:22,243]\u001b[0m Trial 28 finished with value: 15178852558.850328 and parameters: {'tau': 5.120225580170031, 'alpha': 0.5465469830664211, 'step': 0.4023226534382789}. Best is trial 7 with value: 0.11106508854305909.\u001b[0m\n",
      "\u001b[32m[I 2022-03-23 17:55:22,269]\u001b[0m Trial 29 finished with value: 0.09107644206853922 and parameters: {'tau': 6.4558948781093095, 'alpha': 0.8555875595314186, 'step': 0.05873429323485411}. Best is trial 29 with value: 0.09107644206853922.\u001b[0m\n",
      "\u001b[32m[I 2022-03-23 17:55:22,695]\u001b[0m Trial 30 finished with value: 739.0148370764873 and parameters: {'tau': 8.469733017980644, 'alpha': 0.4176955703789113, 'step': 0.22611451040811248}. Best is trial 29 with value: 0.09107644206853922.\u001b[0m\n",
      "\u001b[32m[I 2022-03-23 17:55:22,726]\u001b[0m Trial 31 finished with value: 0.07739924999433073 and parameters: {'tau': 6.561331514993514, 'alpha': 0.849071091179926, 'step': 0.056849505277031184}. Best is trial 31 with value: 0.07739924999433073.\u001b[0m\n",
      "\u001b[32m[I 2022-03-23 17:55:23,154]\u001b[0m Trial 32 finished with value: 6.740109253579393 and parameters: {'tau': 6.6635162236555745, 'alpha': 0.8464634285202963, 'step': 0.14345870874947042}. Best is trial 31 with value: 0.07739924999433073.\u001b[0m\n",
      "\u001b[32m[I 2022-03-23 17:55:23,230]\u001b[0m Trial 33 finished with value: 0.7687174220542993 and parameters: {'tau': 6.389575123301984, 'alpha': 0.8969416230362199, 'step': 0.08010701361951406}. Best is trial 31 with value: 0.07739924999433073.\u001b[0m\n"
     ]
    },
    {
     "name": "stderr",
     "output_type": "stream",
     "text": [
      "\u001b[32m[I 2022-03-23 17:55:23,264]\u001b[0m Trial 34 finished with value: 0.25521505299850494 and parameters: {'tau': 7.953723847557844, 'alpha': 0.7739005625602898, 'step': 0.0653020799835564}. Best is trial 31 with value: 0.07739924999433073.\u001b[0m\n",
      "\u001b[32m[I 2022-03-23 17:55:23,664]\u001b[0m Trial 35 finished with value: 3.332868945760866e+16 and parameters: {'tau': 8.710272852910965, 'alpha': 0.8541688750234578, 'step': 0.6950860410398668}. Best is trial 31 with value: 0.07739924999433073.\u001b[0m\n",
      "\u001b[32m[I 2022-03-23 17:55:24,067]\u001b[0m Trial 36 finished with value: 39784248506421.75 and parameters: {'tau': 6.958700092169141, 'alpha': 0.7545116540360101, 'step': 0.545133319916341}. Best is trial 31 with value: 0.07739924999433073.\u001b[0m\n",
      "\u001b[32m[I 2022-03-23 17:55:24,472]\u001b[0m Trial 37 finished with value: 4.770322917951089 and parameters: {'tau': 9.180519504024545, 'alpha': 0.8141846953710953, 'step': 0.1648908629136085}. Best is trial 31 with value: 0.07739924999433073.\u001b[0m\n",
      "\u001b[32m[I 2022-03-23 17:55:24,879]\u001b[0m Trial 38 finished with value: 7964.804892292132 and parameters: {'tau': 7.414336284855345, 'alpha': 0.725529968014508, 'step': 0.24819833957569357}. Best is trial 31 with value: 0.07739924999433073.\u001b[0m\n",
      "\u001b[32m[I 2022-03-23 17:55:25,290]\u001b[0m Trial 39 finished with value: 4.724742249819995 and parameters: {'tau': 6.285506500841074, 'alpha': 0.8699631434925179, 'step': 0.13405432053994376}. Best is trial 31 with value: 0.07739924999433073.\u001b[0m\n",
      "\u001b[32m[I 2022-03-23 17:55:25,312]\u001b[0m Trial 40 finished with value: 0.1111114568745515 and parameters: {'tau': 7.730270851629286, 'alpha': 0.4317101118285127, 'step': 0.04915125819427309}. Best is trial 31 with value: 0.07739924999433073.\u001b[0m\n",
      "\u001b[32m[I 2022-03-23 17:55:25,336]\u001b[0m Trial 41 finished with value: 0.11192006518664026 and parameters: {'tau': 7.754461136892462, 'alpha': 0.40374023219954924, 'step': 0.04668400899451313}. Best is trial 31 with value: 0.07739924999433073.\u001b[0m\n",
      "\u001b[32m[I 2022-03-23 17:55:25,360]\u001b[0m Trial 42 finished with value: 0.097602650204666 and parameters: {'tau': 9.967205572538688, 'alpha': 0.43478697988400095, 'step': 0.05139086758524158}. Best is trial 31 with value: 0.07739924999433073.\u001b[0m\n",
      "\u001b[32m[I 2022-03-23 17:55:25,514]\u001b[0m Trial 43 finished with value: 0.8911848466247619 and parameters: {'tau': 9.593934769276677, 'alpha': 0.28081805890509237, 'step': 0.10525718030982079}. Best is trial 31 with value: 0.07739924999433073.\u001b[0m\n",
      "\u001b[32m[I 2022-03-23 17:55:25,927]\u001b[0m Trial 44 finished with value: 50.50439215654044 and parameters: {'tau': 8.904672973373364, 'alpha': 0.44238580093295643, 'step': 0.19305777280980296}. Best is trial 31 with value: 0.07739924999433073.\u001b[0m\n",
      "\u001b[32m[I 2022-03-23 17:55:25,943]\u001b[0m Trial 45 finished with value: 0.37532813781216146 and parameters: {'tau': 9.918007585019087, 'alpha': 0.37712998555926885, 'step': 0.003413879997075084}. Best is trial 31 with value: 0.07739924999433073.\u001b[0m\n",
      "\u001b[32m[I 2022-03-23 17:55:26,332]\u001b[0m Trial 46 finished with value: 1.556722877584777 and parameters: {'tau': 7.42045888886082, 'alpha': 0.5197506325060333, 'step': 0.12167627730133616}. Best is trial 31 with value: 0.07739924999433073.\u001b[0m\n",
      "\u001b[32m[I 2022-03-23 17:55:26,359]\u001b[0m Trial 47 finished with value: 0.11048825875301017 and parameters: {'tau': 6.862002351415698, 'alpha': 0.45668582651439993, 'step': 0.048484587194400984}. Best is trial 31 with value: 0.07739924999433073.\u001b[0m\n",
      "\u001b[32m[I 2022-03-23 17:55:26,795]\u001b[0m Trial 48 finished with value: 2.1128615978443764e+16 and parameters: {'tau': 6.866102936809746, 'alpha': 0.2773409202159639, 'step': 0.6318107034095554}. Best is trial 31 with value: 0.07739924999433073.\u001b[0m\n",
      "\u001b[32m[I 2022-03-23 17:55:27,210]\u001b[0m Trial 49 finished with value: 1.600194399043593e+21 and parameters: {'tau': 8.340738270419692, 'alpha': 0.4703970214709353, 'step': 0.8043301037694445}. Best is trial 31 with value: 0.07739924999433073.\u001b[0m\n",
      "\u001b[32m[I 2022-03-23 17:55:27,825]\u001b[0m Trial 50 finished with value: 14930043.462079471 and parameters: {'tau': 5.429809369366411, 'alpha': 0.35295818802500356, 'step': 0.3266848651831637}. Best is trial 31 with value: 0.07739924999433073.\u001b[0m\n",
      "\u001b[32m[I 2022-03-23 17:55:27,851]\u001b[0m Trial 51 finished with value: 0.12135125498680296 and parameters: {'tau': 5.938639414686673, 'alpha': 0.4577096302641035, 'step': 0.04560539290764525}. Best is trial 31 with value: 0.07739924999433073.\u001b[0m\n",
      "\u001b[32m[I 2022-03-23 17:55:27,869]\u001b[0m Trial 52 finished with value: 0.1319781169561106 and parameters: {'tau': 7.69043572493599, 'alpha': 0.5136069415419164, 'step': 0.03283405104719977}. Best is trial 31 with value: 0.07739924999433073.\u001b[0m\n",
      "\u001b[32m[I 2022-03-23 17:55:28,365]\u001b[0m Trial 53 finished with value: 3.3053930150607296 and parameters: {'tau': 9.463958780016663, 'alpha': 0.41188215858063926, 'step': 0.16245972928126087}. Best is trial 31 with value: 0.07739924999433073.\u001b[0m\n",
      "\u001b[32m[I 2022-03-23 17:55:28,520]\u001b[0m Trial 54 finished with value: 1.0062320168216827 and parameters: {'tau': 7.16170678044817, 'alpha': 0.6088819397526309, 'step': 0.0896341111485554}. Best is trial 31 with value: 0.07739924999433073.\u001b[0m\n",
      "\u001b[32m[I 2022-03-23 17:55:28,541]\u001b[0m Trial 55 finished with value: 0.12303359045947114 and parameters: {'tau': 6.125839698432083, 'alpha': 0.35128092189299237, 'step': 0.02643956955827808}. Best is trial 31 with value: 0.07739924999433073.\u001b[0m\n",
      "\u001b[32m[I 2022-03-23 17:55:29,045]\u001b[0m Trial 56 finished with value: 2.270724347333644 and parameters: {'tau': 6.620089385980432, 'alpha': 0.3133721866290576, 'step': 0.12210071074104097}. Best is trial 31 with value: 0.07739924999433073.\u001b[0m\n",
      "\u001b[32m[I 2022-03-23 17:55:29,568]\u001b[0m Trial 57 finished with value: 106.81628007916024 and parameters: {'tau': 8.046217035965299, 'alpha': 0.5404994780503188, 'step': 0.19378236240109142}. Best is trial 31 with value: 0.07739924999433073.\u001b[0m\n",
      "\u001b[32m[I 2022-03-23 17:55:29,584]\u001b[0m Trial 58 finished with value: 0.5195750113357305 and parameters: {'tau': 8.765984338767094, 'alpha': 0.3824074540863652, 'step': 0.0010957458266130232}. Best is trial 31 with value: 0.07739924999433073.\u001b[0m\n",
      "\u001b[32m[I 2022-03-23 17:55:29,655]\u001b[0m Trial 59 finished with value: 0.4520916432485715 and parameters: {'tau': 7.593175038984194, 'alpha': 0.10197197511431022, 'step': 0.07453691650761833}. Best is trial 31 with value: 0.07739924999433073.\u001b[0m\n",
      "\u001b[32m[I 2022-03-23 17:55:30,102]\u001b[0m Trial 60 finished with value: 1624123551.7165217 and parameters: {'tau': 6.942594426787736, 'alpha': 0.657864325998446, 'step': 0.4089490982058193}. Best is trial 31 with value: 0.07739924999433073.\u001b[0m\n",
      "\u001b[32m[I 2022-03-23 17:55:30,125]\u001b[0m Trial 61 finished with value: 0.110291418997664 and parameters: {'tau': 7.807285881432567, 'alpha': 0.4058419328774547, 'step': 0.04940279234380977}. Best is trial 31 with value: 0.07739924999433073.\u001b[0m\n",
      "\u001b[32m[I 2022-03-23 17:55:30,146]\u001b[0m Trial 62 finished with value: 0.10234262952362386 and parameters: {'tau': 8.400504129492445, 'alpha': 0.4293992909448907, 'step': 0.04377907426236332}. Best is trial 31 with value: 0.07739924999433073.\u001b[0m\n",
      "\u001b[32m[I 2022-03-23 17:55:30,274]\u001b[0m Trial 63 finished with value: 0.9058503120670306 and parameters: {'tau': 8.48073814608478, 'alpha': 0.497579907181184, 'step': 0.09462376006230948}. Best is trial 31 with value: 0.07739924999433073.\u001b[0m\n",
      "\u001b[32m[I 2022-03-23 17:55:30,710]\u001b[0m Trial 64 finished with value: 1.835379355837495 and parameters: {'tau': 9.178711859943203, 'alpha': 0.47731429021364147, 'step': 0.14927515469623673}. Best is trial 31 with value: 0.07739924999433073.\u001b[0m\n",
      "\u001b[32m[I 2022-03-23 17:55:31,128]\u001b[0m Trial 65 finished with value: 13416.248182961845 and parameters: {'tau': 7.197724822394743, 'alpha': 0.38725287150190224, 'step': 0.2533014694603405}. Best is trial 31 with value: 0.07739924999433073.\u001b[0m\n",
      "\u001b[32m[I 2022-03-23 17:55:31,150]\u001b[0m Trial 66 finished with value: 0.12463425516758063 and parameters: {'tau': 5.033551256336284, 'alpha': 0.7935635603927198, 'step': 0.03457627244567096}. Best is trial 31 with value: 0.07739924999433073.\u001b[0m\n",
      "\u001b[32m[I 2022-03-23 17:55:31,331]\u001b[0m Trial 67 finished with value: 0.8568006637259755 and parameters: {'tau': 9.956274865682328, 'alpha': 0.45140965532724614, 'step': 0.10862892189273626}. Best is trial 31 with value: 0.07739924999433073.\u001b[0m\n"
     ]
    },
    {
     "name": "stderr",
     "output_type": "stream",
     "text": [
      "\u001b[32m[I 2022-03-23 17:55:31,464]\u001b[0m Trial 68 finished with value: 0.6877494676366825 and parameters: {'tau': 7.973969191810241, 'alpha': 0.8678064812128172, 'step': 0.08508883942331613}. Best is trial 31 with value: 0.07739924999433073.\u001b[0m\n",
      "\u001b[32m[I 2022-03-23 17:55:31,503]\u001b[0m Trial 69 finished with value: 0.0810586677348352 and parameters: {'tau': 6.726502861054521, 'alpha': 0.25787688265732006, 'step': 0.058075756553298136}. Best is trial 31 with value: 0.07739924999433073.\u001b[0m\n",
      "\u001b[32m[I 2022-03-23 17:55:31,979]\u001b[0m Trial 70 finished with value: 1548.576892522143 and parameters: {'tau': 6.572737463019351, 'alpha': 0.21867622216821753, 'step': 0.21196336500778742}. Best is trial 31 with value: 0.07739924999433073.\u001b[0m\n",
      "\u001b[32m[I 2022-03-23 17:55:32,003]\u001b[0m Trial 71 finished with value: 0.09796516278587392 and parameters: {'tau': 5.973058825709469, 'alpha': 0.25216688318197517, 'step': 0.056410259054837514}. Best is trial 31 with value: 0.07739924999433073.\u001b[0m\n",
      "\u001b[32m[I 2022-03-23 17:55:32,042]\u001b[0m Trial 72 finished with value: 0.3542055039103601 and parameters: {'tau': 6.02782537481453, 'alpha': 0.2524322501641431, 'step': 0.06816627450909232}. Best is trial 31 with value: 0.07739924999433073.\u001b[0m\n",
      "\u001b[32m[I 2022-03-23 17:55:32,057]\u001b[0m Trial 73 finished with value: 0.24562652675356592 and parameters: {'tau': 5.497366674132198, 'alpha': 0.17093382468894733, 'step': 0.01933314988326665}. Best is trial 31 with value: 0.07739924999433073.\u001b[0m\n",
      "\u001b[32m[I 2022-03-23 17:55:32,469]\u001b[0m Trial 74 finished with value: 2.349859744711893 and parameters: {'tau': 6.843388605470625, 'alpha': 0.21548013696109997, 'step': 0.12684443594462655}. Best is trial 31 with value: 0.07739924999433073.\u001b[0m\n",
      "\u001b[32m[I 2022-03-23 17:55:32,496]\u001b[0m Trial 75 finished with value: 0.1153849655630668 and parameters: {'tau': 6.391489184523046, 'alpha': 0.30574702395729664, 'step': 0.059579434920436054}. Best is trial 31 with value: 0.07739924999433073.\u001b[0m\n",
      "\u001b[32m[I 2022-03-23 17:55:32,510]\u001b[0m Trial 76 finished with value: 0.42100365863495026 and parameters: {'tau': 5.247291751926621, 'alpha': 0.24370247103863166, 'step': 0.002491960352977385}. Best is trial 31 with value: 0.07739924999433073.\u001b[0m\n",
      "\u001b[32m[I 2022-03-23 17:55:32,986]\u001b[0m Trial 77 finished with value: 42.524668312538665 and parameters: {'tau': 5.6697759317095535, 'alpha': 0.1956938146747569, 'step': 0.1594192289050901}. Best is trial 31 with value: 0.07739924999433073.\u001b[0m\n",
      "\u001b[32m[I 2022-03-23 17:55:33,005]\u001b[0m Trial 78 finished with value: 0.13416394292208522 and parameters: {'tau': 4.625528836162311, 'alpha': 0.13469233184752794, 'step': 0.04162335229735492}. Best is trial 31 with value: 0.07739924999433073.\u001b[0m\n",
      "\u001b[32m[I 2022-03-23 17:55:33,177]\u001b[0m Trial 79 finished with value: 1.365418426152596 and parameters: {'tau': 7.318933205382307, 'alpha': 0.3395673302202507, 'step': 0.0995393961688766}. Best is trial 31 with value: 0.07739924999433073.\u001b[0m\n",
      "\u001b[32m[I 2022-03-23 17:55:33,602]\u001b[0m Trial 80 finished with value: 198.28010829199775 and parameters: {'tau': 6.128443101191845, 'alpha': 0.4299817958571204, 'step': 0.18302651327693226}. Best is trial 31 with value: 0.07739924999433073.\u001b[0m\n",
      "\u001b[32m[I 2022-03-23 17:55:33,640]\u001b[0m Trial 81 finished with value: 0.23503342394100926 and parameters: {'tau': 8.228549864378353, 'alpha': 0.3709787099075622, 'step': 0.06678255889040408}. Best is trial 31 with value: 0.07739924999433073.\u001b[0m\n",
      "\u001b[32m[I 2022-03-23 17:55:33,657]\u001b[0m Trial 82 finished with value: 0.10037675903560377 and parameters: {'tau': 6.7178025663287455, 'alpha': 0.31080375921748893, 'step': 0.029678918162470994}. Best is trial 31 with value: 0.07739924999433073.\u001b[0m\n",
      "\u001b[32m[I 2022-03-23 17:55:34,248]\u001b[0m Trial 83 finished with value: 7.448226251735943 and parameters: {'tau': 5.8373902647636955, 'alpha': 0.25624041997865754, 'step': 0.1367962283801082}. Best is trial 31 with value: 0.07739924999433073.\u001b[0m\n",
      "\u001b[32m[I 2022-03-23 17:55:34,271]\u001b[0m Trial 84 finished with value: 0.11801883352956029 and parameters: {'tau': 6.643530023617598, 'alpha': 0.3159684333137576, 'step': 0.027158175841024}. Best is trial 31 with value: 0.07739924999433073.\u001b[0m\n",
      "\u001b[32m[I 2022-03-23 17:55:34,383]\u001b[0m Trial 85 finished with value: 0.7002648734603961 and parameters: {'tau': 7.026414215732262, 'alpha': 0.2869547061456712, 'step': 0.08124927217425246}. Best is trial 31 with value: 0.07739924999433073.\u001b[0m\n",
      "\u001b[32m[I 2022-03-23 17:55:34,409]\u001b[0m Trial 86 finished with value: 0.1137795118780737 and parameters: {'tau': 7.452156393238604, 'alpha': 0.3648086202917371, 'step': 0.04801305367126517}. Best is trial 31 with value: 0.07739924999433073.\u001b[0m\n",
      "\u001b[32m[I 2022-03-23 17:55:34,785]\u001b[0m Trial 87 finished with value: 2.398919706923546 and parameters: {'tau': 6.2645129128272155, 'alpha': 0.40059653931079753, 'step': 0.11444528326915343}. Best is trial 31 with value: 0.07739924999433073.\u001b[0m\n",
      "\u001b[32m[I 2022-03-23 17:55:35,205]\u001b[0m Trial 88 finished with value: 2.4685084495372013e+29 and parameters: {'tau': 6.831181999467364, 'alpha': 0.32640867335440066, 'step': 0.9941086391547702}. Best is trial 31 with value: 0.07739924999433073.\u001b[0m\n",
      "\u001b[32m[I 2022-03-23 17:55:35,223]\u001b[0m Trial 89 finished with value: 0.10389598576050255 and parameters: {'tau': 9.405405475471625, 'alpha': 0.5650013158550189, 'step': 0.03526939676699862}. Best is trial 31 with value: 0.07739924999433073.\u001b[0m\n",
      "\u001b[32m[I 2022-03-23 17:55:35,240]\u001b[0m Trial 90 finished with value: 0.15906422410243184 and parameters: {'tau': 9.486474556729277, 'alpha': 0.2917517754106887, 'step': 0.025212644724993058}. Best is trial 31 with value: 0.07739924999433073.\u001b[0m\n",
      "\u001b[32m[I 2022-03-23 17:55:35,265]\u001b[0m Trial 91 finished with value: 0.10651915926167611 and parameters: {'tau': 9.714120467435546, 'alpha': 0.43144425044782847, 'step': 0.05406834463483124}. Best is trial 31 with value: 0.07739924999433073.\u001b[0m\n",
      "\u001b[32m[I 2022-03-23 17:55:35,325]\u001b[0m Trial 92 finished with value: 0.36676620833748896 and parameters: {'tau': 9.810602385270945, 'alpha': 0.5794322624470853, 'step': 0.07536724223231911}. Best is trial 31 with value: 0.07739924999433073.\u001b[0m\n",
      "\u001b[32m[I 2022-03-23 17:55:35,343]\u001b[0m Trial 93 finished with value: 0.486836031947592 and parameters: {'tau': 9.369312289893974, 'alpha': 0.4289882256270938, 'step': 0.0015137347501402165}. Best is trial 31 with value: 0.07739924999433073.\u001b[0m\n",
      "\u001b[32m[I 2022-03-23 17:55:35,480]\u001b[0m Trial 94 finished with value: 0.8422433462472955 and parameters: {'tau': 8.864472122412081, 'alpha': 0.48678424402551046, 'step': 0.09412919270337483}. Best is trial 31 with value: 0.07739924999433073.\u001b[0m\n",
      "\u001b[32m[I 2022-03-23 17:55:35,496]\u001b[0m Trial 95 finished with value: 0.12434020696953092 and parameters: {'tau': 9.7015698538772, 'alpha': 0.2610328865642446, 'step': 0.027149596401988392}. Best is trial 31 with value: 0.07739924999433073.\u001b[0m\n",
      "\u001b[32m[I 2022-03-23 17:55:35,521]\u001b[0m Trial 96 finished with value: 0.09636265613980963 and parameters: {'tau': 9.146029766512505, 'alpha': 0.5481413456472222, 'step': 0.056046180590378164}. Best is trial 31 with value: 0.07739924999433073.\u001b[0m\n",
      "\u001b[32m[I 2022-03-23 17:55:35,934]\u001b[0m Trial 97 finished with value: 1.23877298524345 and parameters: {'tau': 9.105576871343995, 'alpha': 0.5365659083151199, 'step': 0.14173727071939277}. Best is trial 31 with value: 0.07739924999433073.\u001b[0m\n",
      "\u001b[32m[I 2022-03-23 17:55:36,192]\u001b[0m Trial 98 finished with value: 0.8787412643252226 and parameters: {'tau': 9.336605036107194, 'alpha': 0.5548094471803902, 'step': 0.11644029693564914}. Best is trial 31 with value: 0.07739924999433073.\u001b[0m\n",
      "\u001b[32m[I 2022-03-23 17:55:36,221]\u001b[0m Trial 99 finished with value: 0.1328022735837356 and parameters: {'tau': 8.639954455322666, 'alpha': 0.7305620391653986, 'step': 0.059150846178628244}. Best is trial 31 with value: 0.07739924999433073.\u001b[0m\n"
     ]
    },
    {
     "name": "stdout",
     "output_type": "stream",
     "text": [
      "Number of finished trials: 100\n",
      "Best trial: {'tau': 6.561331514993514, 'alpha': 0.849071091179926, 'step': 0.056849505277031184}\n",
      "Best score: 0.07739924999433073\n"
     ]
    }
   ],
   "source": [
    "studyMSE = optuna.create_study(direction='minimize')\n",
    "studyMSE.optimize(lambda trial : objective_gradient(trial, gradientMSE, error_nrmse, MSE), n_trials=100)\n",
    "\n",
    "print('Number of finished trials:', len(studyMSE.trials))\n",
    "print('Best trial:', studyMSE.best_trial.params)\n",
    "print('Best score:', studyMSE.best_trial.value)"
   ]
  },
  {
   "cell_type": "code",
   "execution_count": 26,
   "id": "586df1ee",
   "metadata": {},
   "outputs": [
    {
     "data": {
      "image/png": "[encoded data removed]",
      "text/plain": [
       "<Figure size 432x288 with 1 Axes>"
      ]
     },
     "metadata": {
      "needs_background": "light"
     },
     "output_type": "display_data"
    }
   ],
   "source": [
    "graf_l_taus(\n",
    "    studyMSE.best_trial.params['tau'],\n",
    "    studyMSE.best_trial.params['alpha'],\n",
    "    studyMSE.best_trial.params['step'],\n",
    "    gradientMSE,\n",
    "    MSE\n",
    ")"
   ]
  },
  {
   "cell_type": "code",
   "execution_count": 27,
   "id": "45d633c3",
   "metadata": {},
   "outputs": [],
   "source": [
    "def least_squares_approximation(X, Y, tau):\n",
    "    temp, _ = X.T.shape\n",
    "    return np.linalg.inv(X.T @ X + np.identity(temp).dot(tau)) @ X.T @ Y"
   ]
  },
  {
   "cell_type": "code",
   "execution_count": 28,
   "id": "b53a6820",
   "metadata": {},
   "outputs": [],
   "source": [
    "def objective_lsa(trial, error_function):\n",
    "    tau = trial.suggest_uniform(\"tau\", 1e-9, 1)\n",
    "\n",
    "    w = least_squares_approximation(x_train, y_train, tau)\n",
    "\n",
    "    return error_function(w)"
   ]
  },
  {
   "cell_type": "code",
   "execution_count": 29,
   "id": "ab89d596",
   "metadata": {},
   "outputs": [
    {
     "name": "stderr",
     "output_type": "stream",
     "text": [
      "\u001b[32m[I 2022-03-23 17:55:58,738]\u001b[0m A new study created in memory with name: no-name-cd7dc991-280c-40e7-8c07-8afa3d655507\u001b[0m\n",
      "\u001b[32m[I 2022-03-23 17:55:58,769]\u001b[0m Trial 0 finished with value: 2.441771700968697 and parameters: {'tau': 0.23588308544537887}. Best is trial 0 with value: 2.441771700968697.\u001b[0m\n",
      "\u001b[32m[I 2022-03-23 17:55:58,796]\u001b[0m Trial 1 finished with value: 2.441811616656859 and parameters: {'tau': 0.3269789875712921}. Best is trial 0 with value: 2.441771700968697.\u001b[0m\n",
      "\u001b[32m[I 2022-03-23 17:55:58,817]\u001b[0m Trial 2 finished with value: 2.442861622573431 and parameters: {'tau': 0.9125380193783161}. Best is trial 0 with value: 2.441771700968697.\u001b[0m\n",
      "\u001b[32m[I 2022-03-23 17:55:58,840]\u001b[0m Trial 3 finished with value: 2.4417747696925 and parameters: {'tau': 0.2267892820792703}. Best is trial 0 with value: 2.441771700968697.\u001b[0m\n",
      "\u001b[32m[I 2022-03-23 17:55:58,863]\u001b[0m Trial 4 finished with value: 2.441773546253227 and parameters: {'tau': 0.26876246315302205}. Best is trial 0 with value: 2.441771700968697.\u001b[0m\n",
      "\u001b[32m[I 2022-03-23 17:55:58,885]\u001b[0m Trial 5 finished with value: 2.4428184699550957 and parameters: {'tau': 0.8919731906156941}. Best is trial 0 with value: 2.441771700968697.\u001b[0m\n",
      "\u001b[32m[I 2022-03-23 17:55:58,908]\u001b[0m Trial 6 finished with value: 2.444785245837064 and parameters: {'tau': 0.029091284035546203}. Best is trial 0 with value: 2.441771700968697.\u001b[0m\n",
      "\u001b[32m[I 2022-03-23 17:55:58,928]\u001b[0m Trial 7 finished with value: 2.4419849531820295 and parameters: {'tau': 0.4597198086877076}. Best is trial 0 with value: 2.441771700968697.\u001b[0m\n",
      "\u001b[32m[I 2022-03-23 17:55:58,946]\u001b[0m Trial 8 finished with value: 2.441785003892777 and parameters: {'tau': 0.2929719769363696}. Best is trial 0 with value: 2.441771700968697.\u001b[0m\n",
      "\u001b[32m[I 2022-03-23 17:55:58,964]\u001b[0m Trial 9 finished with value: 2.4427605767754 and parameters: {'tau': 0.8642593926235528}. Best is trial 0 with value: 2.441771700968697.\u001b[0m\n",
      "\u001b[32m[I 2022-03-23 17:55:58,989]\u001b[0m Trial 10 finished with value: 2.442367798291728 and parameters: {'tau': 0.6707578802379911}. Best is trial 0 with value: 2.441771700968697.\u001b[0m\n",
      "\u001b[32m[I 2022-03-23 17:55:59,015]\u001b[0m Trial 11 finished with value: 2.442259349714788 and parameters: {'tau': 0.09762923286622852}. Best is trial 0 with value: 2.441771700968697.\u001b[0m\n",
      "\u001b[32m[I 2022-03-23 17:55:59,037]\u001b[0m Trial 12 finished with value: 2.442043293856846 and parameters: {'tau': 0.4954842178980306}. Best is trial 0 with value: 2.441771700968697.\u001b[0m\n",
      "\u001b[32m[I 2022-03-23 17:55:59,061]\u001b[0m Trial 13 finished with value: 2.441816109168723 and parameters: {'tau': 0.18580701398687505}. Best is trial 0 with value: 2.441771700968697.\u001b[0m\n",
      "\u001b[32m[I 2022-03-23 17:55:59,082]\u001b[0m Trial 14 finished with value: 2.4418497534274692 and parameters: {'tau': 0.36296536457675566}. Best is trial 0 with value: 2.441771700968697.\u001b[0m\n",
      "\u001b[32m[I 2022-03-23 17:55:59,106]\u001b[0m Trial 15 finished with value: 2.4422964798541216 and parameters: {'tau': 0.6340504171376796}. Best is trial 0 with value: 2.441771700968697.\u001b[0m\n",
      "\u001b[32m[I 2022-03-23 17:55:59,130]\u001b[0m Trial 16 finished with value: 2.442000796776277 and parameters: {'tau': 0.12999049944356345}. Best is trial 0 with value: 2.441771700968697.\u001b[0m\n",
      "\u001b[32m[I 2022-03-23 17:55:59,152]\u001b[0m Trial 17 finished with value: 2.441890534644129 and parameters: {'tau': 0.3952963559195112}. Best is trial 0 with value: 2.441771700968697.\u001b[0m\n",
      "\u001b[32m[I 2022-03-23 17:55:59,175]\u001b[0m Trial 18 finished with value: 2.4423269225241575 and parameters: {'tau': 0.6498048391311009}. Best is trial 0 with value: 2.441771700968697.\u001b[0m\n",
      "\u001b[32m[I 2022-03-23 17:55:59,198]\u001b[0m Trial 19 finished with value: 2.4460221263152304 and parameters: {'tau': 0.020770285342129546}. Best is trial 0 with value: 2.441771700968697.\u001b[0m\n",
      "\u001b[32m[I 2022-03-23 17:55:59,219]\u001b[0m Trial 20 finished with value: 2.4417703055788045 and parameters: {'tau': 0.24538537866568155}. Best is trial 20 with value: 2.4417703055788045.\u001b[0m\n",
      "\u001b[32m[I 2022-03-23 17:55:59,238]\u001b[0m Trial 21 finished with value: 2.4417716577678017 and parameters: {'tau': 0.2360621448595751}. Best is trial 20 with value: 2.4417703055788045.\u001b[0m\n",
      "\u001b[32m[I 2022-03-23 17:55:59,260]\u001b[0m Trial 22 finished with value: 2.441921013069218 and parameters: {'tau': 0.14692212315874348}. Best is trial 20 with value: 2.4417703055788045.\u001b[0m\n",
      "\u001b[32m[I 2022-03-23 17:55:59,282]\u001b[0m Trial 23 finished with value: 2.441937119114909 and parameters: {'tau': 0.42835026685824035}. Best is trial 20 with value: 2.4417703055788045.\u001b[0m\n",
      "\u001b[32m[I 2022-03-23 17:55:59,307]\u001b[0m Trial 24 finished with value: 2.4417726173703085 and parameters: {'tau': 0.23255132960411595}. Best is trial 20 with value: 2.4417703055788045.\u001b[0m\n",
      "\u001b[32m[I 2022-03-23 17:55:59,328]\u001b[0m Trial 25 finished with value: 2.4421878757864706 and parameters: {'tau': 0.5765711949175714}. Best is trial 20 with value: 2.4417703055788045.\u001b[0m\n",
      "\u001b[32m[I 2022-03-23 17:55:59,349]\u001b[0m Trial 26 finished with value: 2.4423785123714263 and parameters: {'tau': 0.08809606527505831}. Best is trial 20 with value: 2.4417703055788045.\u001b[0m\n",
      "\u001b[32m[I 2022-03-23 17:55:59,370]\u001b[0m Trial 27 finished with value: 2.441824371178446 and parameters: {'tau': 0.33997961757733985}. Best is trial 20 with value: 2.4417703055788045.\u001b[0m\n",
      "\u001b[32m[I 2022-03-23 17:55:59,395]\u001b[0m Trial 28 finished with value: 2.4425709603567864 and parameters: {'tau': 0.7722685938316682}. Best is trial 20 with value: 2.4417703055788045.\u001b[0m\n",
      "\u001b[32m[I 2022-03-23 17:55:59,420]\u001b[0m Trial 29 finished with value: 2.4417953842640174 and parameters: {'tau': 0.3079317505897069}. Best is trial 20 with value: 2.4417703055788045.\u001b[0m\n",
      "\u001b[32m[I 2022-03-23 17:55:59,443]\u001b[0m Trial 30 finished with value: 2.4421119796920405 and parameters: {'tau': 0.5348438409091669}. Best is trial 20 with value: 2.4417703055788045.\u001b[0m\n",
      "\u001b[32m[I 2022-03-23 17:55:59,468]\u001b[0m Trial 31 finished with value: 2.4418016513446723 and parameters: {'tau': 0.19535150374811228}. Best is trial 20 with value: 2.4417703055788045.\u001b[0m\n",
      "\u001b[32m[I 2022-03-23 17:55:59,491]\u001b[0m Trial 32 finished with value: 2.441770510432553 and parameters: {'tau': 0.24282997335150314}. Best is trial 20 with value: 2.4417703055788045.\u001b[0m\n",
      "\u001b[32m[I 2022-03-23 17:55:59,514]\u001b[0m Trial 33 finished with value: 2.4417708176672126 and parameters: {'tau': 0.2569585532271652}. Best is trial 20 with value: 2.4417703055788045.\u001b[0m\n",
      "\u001b[32m[I 2022-03-23 17:55:59,537]\u001b[0m Trial 34 finished with value: 2.4417714779884645 and parameters: {'tau': 0.2608130627336467}. Best is trial 20 with value: 2.4417703055788045.\u001b[0m\n",
      "\u001b[32m[I 2022-03-23 17:55:59,562]\u001b[0m Trial 35 finished with value: 2.44185846612839 and parameters: {'tau': 0.37025034706540133}. Best is trial 20 with value: 2.4417703055788045.\u001b[0m\n",
      "\u001b[32m[I 2022-03-23 17:55:59,585]\u001b[0m Trial 36 finished with value: 2.4417794313564154 and parameters: {'tau': 0.2830310241493869}. Best is trial 20 with value: 2.4417703055788045.\u001b[0m\n",
      "\u001b[32m[I 2022-03-23 17:55:59,605]\u001b[0m Trial 37 finished with value: 2.4419007186751087 and parameters: {'tau': 0.15235511350569642}. Best is trial 20 with value: 2.4417703055788045.\u001b[0m\n",
      "\u001b[32m[I 2022-03-23 17:55:59,629]\u001b[0m Trial 38 finished with value: 2.4427283025881112 and parameters: {'tau': 0.06878960151153193}. Best is trial 20 with value: 2.4417703055788045.\u001b[0m\n",
      "\u001b[32m[I 2022-03-23 17:55:59,652]\u001b[0m Trial 39 finished with value: 2.4430387153643793 and parameters: {'tau': 0.9962329374511845}. Best is trial 20 with value: 2.4417703055788045.\u001b[0m\n",
      "\u001b[32m[I 2022-03-23 17:55:59,675]\u001b[0m Trial 40 finished with value: 2.4417706159636254 and parameters: {'tau': 0.2553877825416712}. Best is trial 20 with value: 2.4417703055788045.\u001b[0m\n",
      "\u001b[32m[I 2022-03-23 17:55:59,697]\u001b[0m Trial 41 finished with value: 2.4417707148629315 and parameters: {'tau': 0.25619281795687143}. Best is trial 20 with value: 2.4417703055788045.\u001b[0m\n",
      "\u001b[32m[I 2022-03-23 17:55:59,719]\u001b[0m Trial 42 finished with value: 2.4418226519038035 and parameters: {'tau': 0.18212586727515293}. Best is trial 20 with value: 2.4417703055788045.\u001b[0m\n",
      "\u001b[32m[I 2022-03-23 17:55:59,741]\u001b[0m Trial 43 finished with value: 2.441923822363023 and parameters: {'tau': 0.4192190881024379}. Best is trial 20 with value: 2.4417703055788045.\u001b[0m\n",
      "\u001b[32m[I 2022-03-23 17:55:59,764]\u001b[0m Trial 44 finished with value: 2.4418011650980427 and parameters: {'tau': 0.31514805023558545}. Best is trial 20 with value: 2.4417703055788045.\u001b[0m\n"
     ]
    },
    {
     "name": "stderr",
     "output_type": "stream",
     "text": [
      "\u001b[32m[I 2022-03-23 17:55:59,787]\u001b[0m Trial 45 finished with value: 2.4417783727656146 and parameters: {'tau': 0.21985832468566996}. Best is trial 20 with value: 2.4417703055788045.\u001b[0m\n",
      "\u001b[32m[I 2022-03-23 17:55:59,807]\u001b[0m Trial 46 finished with value: 2.44200288886379 and parameters: {'tau': 0.4710062900359266}. Best is trial 20 with value: 2.4417703055788045.\u001b[0m\n",
      "\u001b[32m[I 2022-03-23 17:55:59,827]\u001b[0m Trial 47 finished with value: 2.4417703901360706 and parameters: {'tau': 0.25303750018384524}. Best is trial 20 with value: 2.4417703055788045.\u001b[0m\n",
      "\u001b[32m[I 2022-03-23 17:55:59,848]\u001b[0m Trial 48 finished with value: 2.441822432217866 and parameters: {'tau': 0.3380816618447738}. Best is trial 20 with value: 2.4417703055788045.\u001b[0m\n",
      "\u001b[32m[I 2022-03-23 17:55:59,870]\u001b[0m Trial 49 finished with value: 2.4420456106023387 and parameters: {'tau': 0.12254754306314064}. Best is trial 20 with value: 2.4417703055788045.\u001b[0m\n",
      "\u001b[32m[I 2022-03-23 17:55:59,892]\u001b[0m Trial 50 finished with value: 2.4436895576511164 and parameters: {'tau': 0.042691189613957736}. Best is trial 20 with value: 2.4417703055788045.\u001b[0m\n",
      "\u001b[32m[I 2022-03-23 17:55:59,911]\u001b[0m Trial 51 finished with value: 2.441774820139692 and parameters: {'tau': 0.27247657411719917}. Best is trial 20 with value: 2.4417703055788045.\u001b[0m\n",
      "\u001b[32m[I 2022-03-23 17:55:59,933]\u001b[0m Trial 52 finished with value: 2.4417966702055085 and parameters: {'tau': 0.19927720201034593}. Best is trial 20 with value: 2.4417703055788045.\u001b[0m\n",
      "\u001b[32m[I 2022-03-23 17:55:59,954]\u001b[0m Trial 53 finished with value: 2.441770455203941 and parameters: {'tau': 0.2538208205370953}. Best is trial 20 with value: 2.4417703055788045.\u001b[0m\n",
      "\u001b[32m[I 2022-03-23 17:55:59,976]\u001b[0m Trial 54 finished with value: 2.441889738812251 and parameters: {'tau': 0.39470228755070264}. Best is trial 20 with value: 2.4417703055788045.\u001b[0m\n",
      "\u001b[32m[I 2022-03-23 17:55:59,994]\u001b[0m Trial 55 finished with value: 2.4418498393423365 and parameters: {'tau': 0.1694796858413569}. Best is trial 20 with value: 2.4417703055788045.\u001b[0m\n",
      "\u001b[32m[I 2022-03-23 17:56:00,018]\u001b[0m Trial 56 finished with value: 2.4417931043912606 and parameters: {'tau': 0.30490403643813935}. Best is trial 20 with value: 2.4417703055788045.\u001b[0m\n",
      "\u001b[32m[I 2022-03-23 17:56:00,040]\u001b[0m Trial 57 finished with value: 2.4421300020504315 and parameters: {'tau': 0.1110599812542731}. Best is trial 20 with value: 2.4417703055788045.\u001b[0m\n",
      "\u001b[32m[I 2022-03-23 17:56:00,062]\u001b[0m Trial 58 finished with value: 2.441775194143448 and parameters: {'tau': 0.2258411556318714}. Best is trial 20 with value: 2.4417703055788045.\u001b[0m\n",
      "\u001b[32m[I 2022-03-23 17:56:00,082]\u001b[0m Trial 59 finished with value: 2.441832074232486 and parameters: {'tau': 0.34729024293078165}. Best is trial 20 with value: 2.4417703055788045.\u001b[0m\n",
      "\u001b[32m[I 2022-03-23 17:56:00,105]\u001b[0m Trial 60 finished with value: 2.4417704036762413 and parameters: {'tau': 0.25319783513554256}. Best is trial 20 with value: 2.4417703055788045.\u001b[0m\n",
      "\u001b[32m[I 2022-03-23 17:56:00,128]\u001b[0m Trial 61 finished with value: 2.441770298719106 and parameters: {'tau': 0.2455057849965491}. Best is trial 61 with value: 2.441770298719106.\u001b[0m\n",
      "\u001b[32m[I 2022-03-23 17:56:00,150]\u001b[0m Trial 62 finished with value: 2.4417814739542263 and parameters: {'tau': 0.21519163009308073}. Best is trial 61 with value: 2.441770298719106.\u001b[0m\n",
      "\u001b[32m[I 2022-03-23 17:56:00,170]\u001b[0m Trial 63 finished with value: 2.44178582928859 and parameters: {'tau': 0.2942965547826506}. Best is trial 61 with value: 2.441770298719106.\u001b[0m\n",
      "\u001b[32m[I 2022-03-23 17:56:00,194]\u001b[0m Trial 64 finished with value: 2.441934131128336 and parameters: {'tau': 0.14370632693700472}. Best is trial 61 with value: 2.441770298719106.\u001b[0m\n",
      "\u001b[32m[I 2022-03-23 17:56:00,216]\u001b[0m Trial 65 finished with value: 2.4418630803874346 and parameters: {'tau': 0.374012918608438}. Best is trial 61 with value: 2.441770298719106.\u001b[0m\n",
      "\u001b[32m[I 2022-03-23 17:56:00,236]\u001b[0m Trial 66 finished with value: 2.4418416163145054 and parameters: {'tau': 0.1729432773495856}. Best is trial 61 with value: 2.441770298719106.\u001b[0m\n",
      "\u001b[32m[I 2022-03-23 17:56:00,259]\u001b[0m Trial 67 finished with value: 2.441770410256611 and parameters: {'tau': 0.24389376883993785}. Best is trial 61 with value: 2.441770298719106.\u001b[0m\n",
      "\u001b[32m[I 2022-03-23 17:56:00,281]\u001b[0m Trial 68 finished with value: 2.4418084214502214 and parameters: {'tau': 0.32349720586817576}. Best is trial 61 with value: 2.441770298719106.\u001b[0m\n",
      "\u001b[32m[I 2022-03-23 17:56:00,304]\u001b[0m Trial 69 finished with value: 2.4426410637013616 and parameters: {'tau': 0.07274706858163513}. Best is trial 61 with value: 2.441770298719106.\u001b[0m\n",
      "\u001b[32m[I 2022-03-23 17:56:00,328]\u001b[0m Trial 70 finished with value: 2.4419638793109635 and parameters: {'tau': 0.44615153096996873}. Best is trial 61 with value: 2.441770298719106.\u001b[0m\n",
      "\u001b[32m[I 2022-03-23 17:56:00,350]\u001b[0m Trial 71 finished with value: 2.4417710906577557 and parameters: {'tau': 0.2587184038425982}. Best is trial 61 with value: 2.441770298719106.\u001b[0m\n",
      "\u001b[32m[I 2022-03-23 17:56:00,373]\u001b[0m Trial 72 finished with value: 2.4417711716891795 and parameters: {'tau': 0.23833601661692938}. Best is trial 61 with value: 2.441770298719106.\u001b[0m\n",
      "\u001b[32m[I 2022-03-23 17:56:00,397]\u001b[0m Trial 73 finished with value: 2.4417837773388857 and parameters: {'tau': 0.2909467998647219}. Best is trial 61 with value: 2.441770298719106.\u001b[0m\n",
      "\u001b[32m[I 2022-03-23 17:56:00,418]\u001b[0m Trial 74 finished with value: 2.441783780303355 and parameters: {'tau': 0.21218185907844925}. Best is trial 61 with value: 2.441770298719106.\u001b[0m\n",
      "\u001b[32m[I 2022-03-23 17:56:00,440]\u001b[0m Trial 75 finished with value: 2.467326315924814 and parameters: {'tau': 0.0014113495834499612}. Best is trial 61 with value: 2.441770298719106.\u001b[0m\n",
      "\u001b[32m[I 2022-03-23 17:56:00,461]\u001b[0m Trial 76 finished with value: 2.4418664072038574 and parameters: {'tau': 0.1632018124762854}. Best is trial 61 with value: 2.441770298719106.\u001b[0m\n",
      "\u001b[32m[I 2022-03-23 17:56:00,482]\u001b[0m Trial 77 finished with value: 2.44177021742014 and parameters: {'tau': 0.24895668909536303}. Best is trial 77 with value: 2.44177021742014.\u001b[0m\n",
      "\u001b[32m[I 2022-03-23 17:56:00,502]\u001b[0m Trial 78 finished with value: 2.4418033682064975 and parameters: {'tau': 0.1940891555100647}. Best is trial 77 with value: 2.44177021742014.\u001b[0m\n",
      "\u001b[32m[I 2022-03-23 17:56:00,524]\u001b[0m Trial 79 finished with value: 2.442604734722963 and parameters: {'tau': 0.78881293829773}. Best is trial 77 with value: 2.44177021742014.\u001b[0m\n",
      "\u001b[32m[I 2022-03-23 17:56:00,543]\u001b[0m Trial 80 finished with value: 2.4418916980128853 and parameters: {'tau': 0.3961622293944772}. Best is trial 77 with value: 2.44177021742014.\u001b[0m\n",
      "\u001b[32m[I 2022-03-23 17:56:00,570]\u001b[0m Trial 81 finished with value: 2.441770280605707 and parameters: {'tau': 0.24585266138564288}. Best is trial 77 with value: 2.44177021742014.\u001b[0m\n",
      "\u001b[32m[I 2022-03-23 17:56:00,589]\u001b[0m Trial 82 finished with value: 2.4417710092337197 and parameters: {'tau': 0.23923316170190365}. Best is trial 77 with value: 2.44177021742014.\u001b[0m\n",
      "\u001b[32m[I 2022-03-23 17:56:00,609]\u001b[0m Trial 83 finished with value: 2.441779597825651 and parameters: {'tau': 0.28336245061478826}. Best is trial 77 with value: 2.44177021742014.\u001b[0m\n",
      "\u001b[32m[I 2022-03-23 17:56:00,628]\u001b[0m Trial 84 finished with value: 2.441812075357786 and parameters: {'tau': 0.32747061564403246}. Best is trial 77 with value: 2.44177021742014.\u001b[0m\n",
      "\u001b[32m[I 2022-03-23 17:56:00,647]\u001b[0m Trial 85 finished with value: 2.4417756016609675 and parameters: {'tau': 0.27452171544252146}. Best is trial 77 with value: 2.44177021742014.\u001b[0m\n",
      "\u001b[32m[I 2022-03-23 17:56:00,666]\u001b[0m Trial 86 finished with value: 2.4417992052771837 and parameters: {'tau': 0.19722748905591206}. Best is trial 77 with value: 2.44177021742014.\u001b[0m\n",
      "\u001b[32m[I 2022-03-23 17:56:00,688]\u001b[0m Trial 87 finished with value: 2.4418457119597456 and parameters: {'tau': 0.3594974079812781}. Best is trial 77 with value: 2.44177021742014.\u001b[0m\n",
      "\u001b[32m[I 2022-03-23 17:56:00,707]\u001b[0m Trial 88 finished with value: 2.4417707325949287 and parameters: {'tau': 0.2410024117112925}. Best is trial 77 with value: 2.44177021742014.\u001b[0m\n",
      "\u001b[32m[I 2022-03-23 17:56:00,726]\u001b[0m Trial 89 finished with value: 2.4419828514881488 and parameters: {'tau': 0.13332208003673118}. Best is trial 77 with value: 2.44177021742014.\u001b[0m\n"
     ]
    },
    {
     "name": "stderr",
     "output_type": "stream",
     "text": [
      "\u001b[32m[I 2022-03-23 17:56:00,746]\u001b[0m Trial 90 finished with value: 2.4422250886917256 and parameters: {'tau': 0.100813147454271}. Best is trial 77 with value: 2.44177021742014.\u001b[0m\n",
      "\u001b[32m[I 2022-03-23 17:56:00,765]\u001b[0m Trial 91 finished with value: 2.4417703405714213 and parameters: {'tau': 0.25234368277325464}. Best is trial 77 with value: 2.44177021742014.\u001b[0m\n",
      "\u001b[32m[I 2022-03-23 17:56:00,785]\u001b[0m Trial 92 finished with value: 2.441784950046356 and parameters: {'tau': 0.21076939114102725}. Best is trial 77 with value: 2.44177021742014.\u001b[0m\n",
      "\u001b[32m[I 2022-03-23 17:56:00,803]\u001b[0m Trial 93 finished with value: 2.4417985793748898 and parameters: {'tau': 0.3119930869387169}. Best is trial 77 with value: 2.44177021742014.\u001b[0m\n",
      "\u001b[32m[I 2022-03-23 17:56:00,823]\u001b[0m Trial 94 finished with value: 2.441771430106491 and parameters: {'tau': 0.2605755855089982}. Best is trial 77 with value: 2.44177021742014.\u001b[0m\n",
      "\u001b[32m[I 2022-03-23 17:56:00,843]\u001b[0m Trial 95 finished with value: 2.441839062277233 and parameters: {'tau': 0.17407449985733398}. Best is trial 77 with value: 2.44177021742014.\u001b[0m\n",
      "\u001b[32m[I 2022-03-23 17:56:00,863]\u001b[0m Trial 96 finished with value: 2.441786489095829 and parameters: {'tau': 0.2953332092566835}. Best is trial 77 with value: 2.44177021742014.\u001b[0m\n",
      "\u001b[32m[I 2022-03-23 17:56:00,884]\u001b[0m Trial 97 finished with value: 2.4417707060364364 and parameters: {'tau': 0.24119466793504815}. Best is trial 77 with value: 2.44177021742014.\u001b[0m\n",
      "\u001b[32m[I 2022-03-23 17:56:00,906]\u001b[0m Trial 98 finished with value: 2.44177573815063 and parameters: {'tau': 0.27486226187963625}. Best is trial 77 with value: 2.44177021742014.\u001b[0m\n",
      "\u001b[32m[I 2022-03-23 17:56:00,926]\u001b[0m Trial 99 finished with value: 2.442217842013325 and parameters: {'tau': 0.5926572938995835}. Best is trial 77 with value: 2.44177021742014.\u001b[0m\n"
     ]
    },
    {
     "name": "stdout",
     "output_type": "stream",
     "text": [
      "Number of finished trials: 100\n",
      "Best trial: {'tau': 0.24895668909536303}\n",
      "Best score: 2.44177021742014\n"
     ]
    }
   ],
   "source": [
    "studyLsa = optuna.create_study(direction='minimize')\n",
    "studyLsa.optimize(lambda trial : objective_lsa(trial, error_smape), n_trials=100)\n",
    "\n",
    "print('Number of finished trials:', len(studyLsa.trials))\n",
    "print('Best trial:', studyLsa.best_trial.params)\n",
    "print('Best score:', studyLsa.best_trial.value)"
   ]
  },
  {
   "cell_type": "code",
   "execution_count": 30,
   "id": "d325d15b",
   "metadata": {
    "scrolled": true
   },
   "outputs": [
    {
     "name": "stderr",
     "output_type": "stream",
     "text": [
      "\u001b[32m[I 2022-03-23 17:56:03,406]\u001b[0m A new study created in memory with name: no-name-0c073c74-d5f4-45cd-bc8e-a29627602965\u001b[0m\n",
      "\u001b[32m[I 2022-03-23 17:56:03,422]\u001b[0m Trial 0 finished with value: 0.02352238267266621 and parameters: {'tau': 0.15899379607949532}. Best is trial 0 with value: 0.02352238267266621.\u001b[0m\n",
      "\u001b[32m[I 2022-03-23 17:56:03,437]\u001b[0m Trial 1 finished with value: 0.023527916939002122 and parameters: {'tau': 0.49144797652515504}. Best is trial 0 with value: 0.02352238267266621.\u001b[0m\n",
      "\u001b[32m[I 2022-03-23 17:56:03,455]\u001b[0m Trial 2 finished with value: 0.02353474144479634 and parameters: {'tau': 0.7160760368073406}. Best is trial 0 with value: 0.02352238267266621.\u001b[0m\n",
      "\u001b[32m[I 2022-03-23 17:56:03,474]\u001b[0m Trial 3 finished with value: 0.02352724499802409 and parameters: {'tau': 0.4676450794216238}. Best is trial 0 with value: 0.02352238267266621.\u001b[0m\n",
      "\u001b[32m[I 2022-03-23 17:56:03,491]\u001b[0m Trial 4 finished with value: 0.023523401517392854 and parameters: {'tau': 0.3121924168451616}. Best is trial 0 with value: 0.02352238267266621.\u001b[0m\n",
      "\u001b[32m[I 2022-03-23 17:56:03,507]\u001b[0m Trial 5 finished with value: 0.02353763632405443 and parameters: {'tau': 0.8065954119283547}. Best is trial 0 with value: 0.02352238267266621.\u001b[0m\n",
      "\u001b[32m[I 2022-03-23 17:56:03,524]\u001b[0m Trial 6 finished with value: 0.02353340785599972 and parameters: {'tau': 0.6737198266135335}. Best is trial 0 with value: 0.02352238267266621.\u001b[0m\n",
      "\u001b[32m[I 2022-03-23 17:56:03,542]\u001b[0m Trial 7 finished with value: 0.023538575251496125 and parameters: {'tau': 0.8356268748952308}. Best is trial 0 with value: 0.02352238267266621.\u001b[0m\n",
      "\u001b[32m[I 2022-03-23 17:56:03,562]\u001b[0m Trial 8 finished with value: 0.023541965054917072 and parameters: {'tau': 0.9394484433024162}. Best is trial 0 with value: 0.02352238267266621.\u001b[0m\n",
      "\u001b[32m[I 2022-03-23 17:56:03,581]\u001b[0m Trial 9 finished with value: 0.023538798760674415 and parameters: {'tau': 0.8425178093869995}. Best is trial 0 with value: 0.02352238267266621.\u001b[0m\n",
      "\u001b[32m[I 2022-03-23 17:56:03,602]\u001b[0m Trial 10 finished with value: 0.02355976063912155 and parameters: {'tau': 0.022140547249168585}. Best is trial 0 with value: 0.02352238267266621.\u001b[0m\n",
      "\u001b[32m[I 2022-03-23 17:56:03,622]\u001b[0m Trial 11 finished with value: 0.023522274643607344 and parameters: {'tau': 0.1653467207899763}. Best is trial 11 with value: 0.023522274643607344.\u001b[0m\n",
      "\u001b[32m[I 2022-03-23 17:56:03,642]\u001b[0m Trial 12 finished with value: 0.023525616142343053 and parameters: {'tau': 0.0961634194113898}. Best is trial 11 with value: 0.023522274643607344.\u001b[0m\n",
      "\u001b[32m[I 2022-03-23 17:56:03,665]\u001b[0m Trial 13 finished with value: 0.02352206984586966 and parameters: {'tau': 0.21399999915788281}. Best is trial 13 with value: 0.02352206984586966.\u001b[0m\n",
      "\u001b[32m[I 2022-03-23 17:56:03,691]\u001b[0m Trial 14 finished with value: 0.023522182993551532 and parameters: {'tau': 0.23142560510319377}. Best is trial 13 with value: 0.02352206984586966.\u001b[0m\n",
      "\u001b[32m[I 2022-03-23 17:56:03,714]\u001b[0m Trial 15 finished with value: 0.023523392379929564 and parameters: {'tau': 0.31173455579405984}. Best is trial 13 with value: 0.02352206984586966.\u001b[0m\n",
      "\u001b[32m[I 2022-03-23 17:56:03,739]\u001b[0m Trial 16 finished with value: 0.023523906440448206 and parameters: {'tau': 0.33623914614603506}. Best is trial 13 with value: 0.02352206984586966.\u001b[0m\n",
      "\u001b[32m[I 2022-03-23 17:56:03,759]\u001b[0m Trial 17 finished with value: 0.02352212379589147 and parameters: {'tau': 0.22370629845403786}. Best is trial 13 with value: 0.02352206984586966.\u001b[0m\n",
      "\u001b[32m[I 2022-03-23 17:56:03,782]\u001b[0m Trial 18 finished with value: 0.02352550732496166 and parameters: {'tau': 0.40300379281919946}. Best is trial 13 with value: 0.02352206984586966.\u001b[0m\n",
      "\u001b[32m[I 2022-03-23 17:56:03,806]\u001b[0m Trial 19 finished with value: 0.023530270679477997 and parameters: {'tau': 0.5716336236667623}. Best is trial 13 with value: 0.02352206984586966.\u001b[0m\n",
      "\u001b[32m[I 2022-03-23 17:56:03,827]\u001b[0m Trial 20 finished with value: 0.02365207908365918 and parameters: {'tau': 0.0047540675774068175}. Best is trial 13 with value: 0.02352206984586966.\u001b[0m\n",
      "\u001b[32m[I 2022-03-23 17:56:03,851]\u001b[0m Trial 21 finished with value: 0.023522198702177463 and parameters: {'tau': 0.23322604190489643}. Best is trial 13 with value: 0.02352206984586966.\u001b[0m\n",
      "\u001b[32m[I 2022-03-23 17:56:03,872]\u001b[0m Trial 22 finished with value: 0.023522038398396575 and parameters: {'tau': 0.19887063184201048}. Best is trial 22 with value: 0.023522038398396575.\u001b[0m\n",
      "\u001b[32m[I 2022-03-23 17:56:03,892]\u001b[0m Trial 23 finished with value: 0.02352295523426109 and parameters: {'tau': 0.13765930443419672}. Best is trial 22 with value: 0.023522038398396575.\u001b[0m\n",
      "\u001b[32m[I 2022-03-23 17:56:03,912]\u001b[0m Trial 24 finished with value: 0.02352224538712964 and parameters: {'tau': 0.23817202095446946}. Best is trial 22 with value: 0.023522038398396575.\u001b[0m\n",
      "\u001b[32m[I 2022-03-23 17:56:03,936]\u001b[0m Trial 25 finished with value: 0.023525116454109717 and parameters: {'tau': 0.3875802812450185}. Best is trial 22 with value: 0.023522038398396575.\u001b[0m\n",
      "\u001b[32m[I 2022-03-23 17:56:03,957]\u001b[0m Trial 26 finished with value: 0.02353476788842163 and parameters: {'tau': 0.052031477273388166}. Best is trial 22 with value: 0.023522038398396575.\u001b[0m\n",
      "\u001b[32m[I 2022-03-23 17:56:03,981]\u001b[0m Trial 27 finished with value: 0.023530351214758594 and parameters: {'tau': 0.5743103482751211}. Best is trial 22 with value: 0.023522038398396575.\u001b[0m\n",
      "\u001b[32m[I 2022-03-23 17:56:04,007]\u001b[0m Trial 28 finished with value: 0.023522210718469685 and parameters: {'tau': 0.2345516965378753}. Best is trial 22 with value: 0.023522038398396575.\u001b[0m\n",
      "\u001b[32m[I 2022-03-23 17:56:04,029]\u001b[0m Trial 29 finished with value: 0.02352309947193089 and parameters: {'tau': 0.13384073931045304}. Best is trial 22 with value: 0.023522038398396575.\u001b[0m\n",
      "\u001b[32m[I 2022-03-23 17:56:04,051]\u001b[0m Trial 30 finished with value: 0.023522067536102236 and parameters: {'tau': 0.1869159832822035}. Best is trial 22 with value: 0.023522038398396575.\u001b[0m\n",
      "\u001b[32m[I 2022-03-23 17:56:04,075]\u001b[0m Trial 31 finished with value: 0.02352223437228393 and parameters: {'tau': 0.16816175218176535}. Best is trial 22 with value: 0.023522038398396575.\u001b[0m\n",
      "\u001b[32m[I 2022-03-23 17:56:04,097]\u001b[0m Trial 32 finished with value: 0.023525807848201255 and parameters: {'tau': 0.09435882982657183}. Best is trial 22 with value: 0.023522038398396575.\u001b[0m\n",
      "\u001b[32m[I 2022-03-23 17:56:04,123]\u001b[0m Trial 33 finished with value: 0.023523079962528122 and parameters: {'tau': 0.29542875912905187}. Best is trial 22 with value: 0.023522038398396575.\u001b[0m\n",
      "\u001b[32m[I 2022-03-23 17:56:04,145]\u001b[0m Trial 34 finished with value: 0.023526464061364997 and parameters: {'tau': 0.43924536572538575}. Best is trial 22 with value: 0.023522038398396575.\u001b[0m\n",
      "\u001b[32m[I 2022-03-23 17:56:04,167]\u001b[0m Trial 35 finished with value: 0.023522064467801636 and parameters: {'tau': 0.21268842484624645}. Best is trial 22 with value: 0.023522038398396575.\u001b[0m\n",
      "\u001b[32m[I 2022-03-23 17:56:04,190]\u001b[0m Trial 36 finished with value: 0.023524225580099246 and parameters: {'tau': 0.35046252471379347}. Best is trial 22 with value: 0.023522038398396575.\u001b[0m\n",
      "\u001b[32m[I 2022-03-23 17:56:04,214]\u001b[0m Trial 37 finished with value: 0.023529206364418197 and parameters: {'tau': 0.07170065323083569}. Best is trial 22 with value: 0.023522038398396575.\u001b[0m\n",
      "\u001b[32m[I 2022-03-23 17:56:04,239]\u001b[0m Trial 38 finished with value: 0.02352279099924573 and parameters: {'tau': 0.2788226720962486}. Best is trial 22 with value: 0.023522038398396575.\u001b[0m\n",
      "\u001b[32m[I 2022-03-23 17:56:04,261]\u001b[0m Trial 39 finished with value: 0.023522093649796103 and parameters: {'tau': 0.18230475985837125}. Best is trial 22 with value: 0.023522038398396575.\u001b[0m\n",
      "\u001b[32m[I 2022-03-23 17:56:04,284]\u001b[0m Trial 40 finished with value: 0.02352863805903978 and parameters: {'tau': 0.5164759235120471}. Best is trial 22 with value: 0.023522038398396575.\u001b[0m\n",
      "\u001b[32m[I 2022-03-23 17:56:04,309]\u001b[0m Trial 41 finished with value: 0.023522161971728964 and parameters: {'tau': 0.17423288510520418}. Best is trial 22 with value: 0.023522038398396575.\u001b[0m\n",
      "\u001b[32m[I 2022-03-23 17:56:04,333]\u001b[0m Trial 42 finished with value: 0.02352205395747837 and parameters: {'tau': 0.19027350441506993}. Best is trial 22 with value: 0.023522038398396575.\u001b[0m\n",
      "\u001b[32m[I 2022-03-23 17:56:04,360]\u001b[0m Trial 43 finished with value: 0.023525799508943273 and parameters: {'tau': 0.09443542040089278}. Best is trial 22 with value: 0.023522038398396575.\u001b[0m\n"
     ]
    },
    {
     "name": "stderr",
     "output_type": "stream",
     "text": [
      "\u001b[32m[I 2022-03-23 17:56:04,381]\u001b[0m Trial 44 finished with value: 0.02352267892816338 and parameters: {'tau': 0.2717986596386774}. Best is trial 22 with value: 0.023522038398396575.\u001b[0m\n",
      "\u001b[32m[I 2022-03-23 17:56:04,405]\u001b[0m Trial 45 finished with value: 0.023524642080170792 and parameters: {'tau': 0.3682150261999625}. Best is trial 22 with value: 0.023522038398396575.\u001b[0m\n",
      "\u001b[32m[I 2022-03-23 17:56:04,425]\u001b[0m Trial 46 finished with value: 0.023522048991706044 and parameters: {'tau': 0.19189138709987041}. Best is trial 22 with value: 0.023522038398396575.\u001b[0m\n",
      "\u001b[32m[I 2022-03-23 17:56:04,443]\u001b[0m Trial 47 finished with value: 0.023541393939415248 and parameters: {'tau': 0.03904047343254788}. Best is trial 22 with value: 0.023522038398396575.\u001b[0m\n",
      "\u001b[32m[I 2022-03-23 17:56:04,465]\u001b[0m Trial 48 finished with value: 0.02352342693871739 and parameters: {'tau': 0.12637678198297758}. Best is trial 22 with value: 0.023522038398396575.\u001b[0m\n",
      "\u001b[32m[I 2022-03-23 17:56:04,485]\u001b[0m Trial 49 finished with value: 0.023535591306815557 and parameters: {'tau': 0.7428309911092772}. Best is trial 22 with value: 0.023522038398396575.\u001b[0m\n",
      "\u001b[32m[I 2022-03-23 17:56:04,505]\u001b[0m Trial 50 finished with value: 0.023522039747179556 and parameters: {'tau': 0.2027627444053813}. Best is trial 22 with value: 0.023522038398396575.\u001b[0m\n",
      "\u001b[32m[I 2022-03-23 17:56:04,523]\u001b[0m Trial 51 finished with value: 0.02352203860408347 and parameters: {'tau': 0.20117120603238806}. Best is trial 22 with value: 0.023522038398396575.\u001b[0m\n",
      "\u001b[32m[I 2022-03-23 17:56:04,542]\u001b[0m Trial 52 finished with value: 0.023523425533093868 and parameters: {'tau': 0.31339113782871086}. Best is trial 22 with value: 0.023522038398396575.\u001b[0m\n",
      "\u001b[32m[I 2022-03-23 17:56:04,561]\u001b[0m Trial 53 finished with value: 0.023522585790550873 and parameters: {'tau': 0.26561495731321466}. Best is trial 22 with value: 0.023522038398396575.\u001b[0m\n",
      "\u001b[32m[I 2022-03-23 17:56:04,580]\u001b[0m Trial 54 finished with value: 0.023522041397344384 and parameters: {'tau': 0.2041337007775606}. Best is trial 22 with value: 0.023522038398396575.\u001b[0m\n",
      "\u001b[32m[I 2022-03-23 17:56:04,597]\u001b[0m Trial 55 finished with value: 0.023524230802947278 and parameters: {'tau': 0.11248394346522263}. Best is trial 22 with value: 0.023522038398396575.\u001b[0m\n",
      "\u001b[32m[I 2022-03-23 17:56:04,615]\u001b[0m Trial 56 finished with value: 0.023522038275220123 and parameters: {'tau': 0.1998575579690669}. Best is trial 56 with value: 0.023522038275220123.\u001b[0m\n",
      "\u001b[32m[I 2022-03-23 17:56:04,634]\u001b[0m Trial 57 finished with value: 0.02352582391569357 and parameters: {'tau': 0.4152090641569662}. Best is trial 56 with value: 0.023522038275220123.\u001b[0m\n",
      "\u001b[32m[I 2022-03-23 17:56:04,654]\u001b[0m Trial 58 finished with value: 0.023523992519106286 and parameters: {'tau': 0.3401378807900076}. Best is trial 56 with value: 0.023522038275220123.\u001b[0m\n",
      "\u001b[32m[I 2022-03-23 17:56:04,675]\u001b[0m Trial 59 finished with value: 0.023522591273520736 and parameters: {'tau': 0.14958721556597357}. Best is trial 56 with value: 0.023522038275220123.\u001b[0m\n",
      "\u001b[32m[I 2022-03-23 17:56:04,693]\u001b[0m Trial 60 finished with value: 0.023541771886227445 and parameters: {'tau': 0.9335678145371377}. Best is trial 56 with value: 0.023522038275220123.\u001b[0m\n",
      "\u001b[32m[I 2022-03-23 17:56:04,713]\u001b[0m Trial 61 finished with value: 0.023522551739638277 and parameters: {'tau': 0.263258923025838}. Best is trial 56 with value: 0.023522038275220123.\u001b[0m\n",
      "\u001b[32m[I 2022-03-23 17:56:04,732]\u001b[0m Trial 62 finished with value: 0.023522038336530958 and parameters: {'tau': 0.1991660231833752}. Best is trial 56 with value: 0.023522038275220123.\u001b[0m\n",
      "\u001b[32m[I 2022-03-23 17:56:04,753]\u001b[0m Trial 63 finished with value: 0.023522044715666993 and parameters: {'tau': 0.20607597482441714}. Best is trial 56 with value: 0.023522038275220123.\u001b[0m\n",
      "\u001b[32m[I 2022-03-23 17:56:04,773]\u001b[0m Trial 64 finished with value: 0.023522296894126236 and parameters: {'tau': 0.24311540144596164}. Best is trial 56 with value: 0.023522038275220123.\u001b[0m\n",
      "\u001b[32m[I 2022-03-23 17:56:04,793]\u001b[0m Trial 65 finished with value: 0.02353292976200599 and parameters: {'tau': 0.05721382258649313}. Best is trial 56 with value: 0.023522038275220123.\u001b[0m\n",
      "\u001b[32m[I 2022-03-23 17:56:04,812]\u001b[0m Trial 66 finished with value: 0.023523432595901148 and parameters: {'tau': 0.3137420291888536}. Best is trial 56 with value: 0.023522038275220123.\u001b[0m\n",
      "\u001b[32m[I 2022-03-23 17:56:04,829]\u001b[0m Trial 67 finished with value: 0.023522046840026 and parameters: {'tau': 0.20705379586710973}. Best is trial 56 with value: 0.023522038275220123.\u001b[0m\n",
      "\u001b[32m[I 2022-03-23 17:56:04,849]\u001b[0m Trial 68 finished with value: 0.023522629784147615 and parameters: {'tau': 0.14811374643725767}. Best is trial 56 with value: 0.023522038275220123.\u001b[0m\n",
      "\u001b[32m[I 2022-03-23 17:56:04,871]\u001b[0m Trial 69 finished with value: 0.023574763003420166 and parameters: {'tau': 0.015685971954185113}. Best is trial 56 with value: 0.023522038275220123.\u001b[0m\n",
      "\u001b[32m[I 2022-03-23 17:56:04,891]\u001b[0m Trial 70 finished with value: 0.0235268235968818 and parameters: {'tau': 0.08600503718590262}. Best is trial 56 with value: 0.023522038275220123.\u001b[0m\n",
      "\u001b[32m[I 2022-03-23 17:56:04,911]\u001b[0m Trial 71 finished with value: 0.023522053074961625 and parameters: {'tau': 0.20940817647330354}. Best is trial 56 with value: 0.023522038275220123.\u001b[0m\n",
      "\u001b[32m[I 2022-03-23 17:56:04,930]\u001b[0m Trial 72 finished with value: 0.023522319251263316 and parameters: {'tau': 0.245131153003117}. Best is trial 56 with value: 0.023522038275220123.\u001b[0m\n",
      "\u001b[32m[I 2022-03-23 17:56:04,952]\u001b[0m Trial 73 finished with value: 0.023522056071183507 and parameters: {'tau': 0.21036573455275764}. Best is trial 56 with value: 0.023522038275220123.\u001b[0m\n",
      "\u001b[32m[I 2022-03-23 17:56:04,974]\u001b[0m Trial 74 finished with value: 0.023523938319449874 and parameters: {'tau': 0.11699503965667027}. Best is trial 56 with value: 0.023522038275220123.\u001b[0m\n",
      "\u001b[32m[I 2022-03-23 17:56:05,002]\u001b[0m Trial 75 finished with value: 0.023522427523345064 and parameters: {'tau': 0.15671779029430194}. Best is trial 56 with value: 0.023522038275220123.\u001b[0m\n",
      "\u001b[32m[I 2022-03-23 17:56:05,026]\u001b[0m Trial 76 finished with value: 0.023522998192395155 and parameters: {'tau': 0.2909092714861084}. Best is trial 56 with value: 0.023522038275220123.\u001b[0m\n",
      "\u001b[32m[I 2022-03-23 17:56:05,048]\u001b[0m Trial 77 finished with value: 0.023522046240542983 and parameters: {'tau': 0.20679505714814886}. Best is trial 56 with value: 0.023522038275220123.\u001b[0m\n",
      "\u001b[32m[I 2022-03-23 17:56:05,067]\u001b[0m Trial 78 finished with value: 0.023522331309165583 and parameters: {'tau': 0.24619203577513482}. Best is trial 56 with value: 0.023522038275220123.\u001b[0m\n",
      "\u001b[32m[I 2022-03-23 17:56:05,086]\u001b[0m Trial 79 finished with value: 0.023522292247475974 and parameters: {'tau': 0.16420697511311466}. Best is trial 56 with value: 0.023522038275220123.\u001b[0m\n",
      "\u001b[32m[I 2022-03-23 17:56:05,104]\u001b[0m Trial 80 finished with value: 0.02352313138185589 and parameters: {'tau': 0.2982110171255082}. Best is trial 56 with value: 0.023522038275220123.\u001b[0m\n",
      "\u001b[32m[I 2022-03-23 17:56:05,123]\u001b[0m Trial 81 finished with value: 0.02352205334135015 and parameters: {'tau': 0.2095006825930229}. Best is trial 56 with value: 0.023522038275220123.\u001b[0m\n",
      "\u001b[32m[I 2022-03-23 17:56:05,143]\u001b[0m Trial 82 finished with value: 0.02352204343859686 and parameters: {'tau': 0.1942647594579049}. Best is trial 56 with value: 0.023522038275220123.\u001b[0m\n",
      "\u001b[32m[I 2022-03-23 17:56:05,162]\u001b[0m Trial 83 finished with value: 0.023523295634081905 and parameters: {'tau': 0.12919830340129268}. Best is trial 56 with value: 0.023522038275220123.\u001b[0m\n",
      "\u001b[32m[I 2022-03-23 17:56:05,177]\u001b[0m Trial 84 finished with value: 0.023522071617713962 and parameters: {'tau': 0.18608089887001544}. Best is trial 56 with value: 0.023522038275220123.\u001b[0m\n",
      "\u001b[32m[I 2022-03-23 17:56:05,194]\u001b[0m Trial 85 finished with value: 0.023522446044600416 and parameters: {'tau': 0.25553268891344944}. Best is trial 56 with value: 0.023522038275220123.\u001b[0m\n",
      "\u001b[32m[I 2022-03-23 17:56:05,212]\u001b[0m Trial 86 finished with value: 0.023532849336011175 and parameters: {'tau': 0.6558242067156206}. Best is trial 56 with value: 0.023522038275220123.\u001b[0m\n",
      "\u001b[32m[I 2022-03-23 17:56:05,230]\u001b[0m Trial 87 finished with value: 0.02352215177508019 and parameters: {'tau': 0.22757519599983037}. Best is trial 56 with value: 0.023522038275220123.\u001b[0m\n"
     ]
    },
    {
     "name": "stderr",
     "output_type": "stream",
     "text": [
      "\u001b[32m[I 2022-03-23 17:56:05,248]\u001b[0m Trial 88 finished with value: 0.023522439254716466 and parameters: {'tau': 0.15614902171592537}. Best is trial 56 with value: 0.023522038275220123.\u001b[0m\n",
      "\u001b[32m[I 2022-03-23 17:56:05,268]\u001b[0m Trial 89 finished with value: 0.023522801782565515 and parameters: {'tau': 0.2794775612747763}. Best is trial 56 with value: 0.023522038275220123.\u001b[0m\n",
      "\u001b[32m[I 2022-03-23 17:56:05,287]\u001b[0m Trial 90 finished with value: 0.023524436658222115 and parameters: {'tau': 0.35956027933846724}. Best is trial 56 with value: 0.023522038275220123.\u001b[0m\n",
      "\u001b[32m[I 2022-03-23 17:56:05,307]\u001b[0m Trial 91 finished with value: 0.02352203905908921 and parameters: {'tau': 0.19758496563224268}. Best is trial 56 with value: 0.023522038275220123.\u001b[0m\n",
      "\u001b[32m[I 2022-03-23 17:56:05,328]\u001b[0m Trial 92 finished with value: 0.02352214880248148 and parameters: {'tau': 0.17554224093870258}. Best is trial 56 with value: 0.023522038275220123.\u001b[0m\n",
      "\u001b[32m[I 2022-03-23 17:56:05,349]\u001b[0m Trial 93 finished with value: 0.023524763828600637 and parameters: {'tau': 0.1053859824647289}. Best is trial 56 with value: 0.023522038275220123.\u001b[0m\n",
      "\u001b[32m[I 2022-03-23 17:56:05,368]\u001b[0m Trial 94 finished with value: 0.02352204097132222 and parameters: {'tau': 0.195775788116658}. Best is trial 56 with value: 0.023522038275220123.\u001b[0m\n",
      "\u001b[32m[I 2022-03-23 17:56:05,387]\u001b[0m Trial 95 finished with value: 0.02352281366732927 and parameters: {'tau': 0.14183666927811792}. Best is trial 56 with value: 0.023522038275220123.\u001b[0m\n",
      "\u001b[32m[I 2022-03-23 17:56:05,408]\u001b[0m Trial 96 finished with value: 0.0235288448772085 and parameters: {'tau': 0.07352867167617305}. Best is trial 56 with value: 0.023522038275220123.\u001b[0m\n",
      "\u001b[32m[I 2022-03-23 17:56:05,429]\u001b[0m Trial 97 finished with value: 0.023522164967374182 and parameters: {'tau': 0.22925123861948174}. Best is trial 56 with value: 0.023522038275220123.\u001b[0m\n",
      "\u001b[32m[I 2022-03-23 17:56:05,448]\u001b[0m Trial 98 finished with value: 0.02352346168582747 and parameters: {'tau': 0.31518321115637593}. Best is trial 56 with value: 0.023522038275220123.\u001b[0m\n",
      "\u001b[32m[I 2022-03-23 17:56:05,468]\u001b[0m Trial 99 finished with value: 0.023522046191151433 and parameters: {'tau': 0.1929780582532758}. Best is trial 56 with value: 0.023522038275220123.\u001b[0m\n"
     ]
    },
    {
     "name": "stdout",
     "output_type": "stream",
     "text": [
      "Number of finished trials: 100\n",
      "Best trial: {'tau': 0.1998575579690669}\n",
      "Best score: 0.023522038275220123\n"
     ]
    }
   ],
   "source": [
    "studyLsa = optuna.create_study(direction='minimize')\n",
    "studyLsa.optimize(lambda trial : objective_lsa(trial, error_nrmse), n_trials=100)\n",
    "\n",
    "print('Number of finished trials:', len(studyLsa.trials))\n",
    "print('Best trial:', studyLsa.best_trial.params)\n",
    "print('Best score:', studyLsa.best_trial.value)"
   ]
  },
  {
   "cell_type": "code",
   "execution_count": 31,
   "id": "4226af0b",
   "metadata": {},
   "outputs": [
    {
     "data": {
      "text/plain": [
       "[Text(0.5, 0, 'tau'), Text(0, 0.5, 'error')]"
      ]
     },
     "execution_count": 31,
     "metadata": {},
     "output_type": "execute_result"
    },
    {
     "data": {
      "image/png": "[encoded data removed]",
      "text/plain": [
       "<Figure size 1080x720 with 2 Axes>"
      ]
     },
     "metadata": {
      "needs_background": "light"
     },
     "output_type": "display_data"
    }
   ],
   "source": [
    "trials_lsa = sorted(studyLsa.trials_dataframe()['params_tau'].tolist())\n",
    "predictions_mse = []\n",
    "predictions_smape = []\n",
    "for tau in trials_lsa:\n",
    "    lsa = least_squares_approximation(x_train, y_train, tau)\n",
    "    predictions_mse.append(error_mse(lsa))\n",
    "    predictions_smape.append(error_smape(lsa))\n",
    "\n",
    "fig, (ax1, ax2) = plt.subplots(1, 2, figsize=(15,10))\n",
    "ax1.plot(trials_lsa, predictions_mse)\n",
    "ax2.plot(trials_lsa, predictions_smape)\n",
    "ax1.set_title('MSE')\n",
    "ax2.set_title('SMAPE')\n",
    "ax1.set(xlabel='tau', ylabel='error')\n",
    "ax2.set(xlabel='tau', ylabel='error')"
   ]
  },
  {
   "cell_type": "code",
   "execution_count": null,
   "id": "a9d3df40",
   "metadata": {},
   "outputs": [],
   "source": []
  }
 ],
 "metadata": {
  "kernelspec": {
   "display_name": "Python 3 (ipykernel)",
   "language": "python",
   "name": "python3"
  },
  "language_info": {
   "codemirror_mode": {
    "name": "ipython",
    "version": 3
   },
   "file_extension": ".py",
   "mimetype": "text/x-python",
   "name": "python",
   "nbconvert_exporter": "python",
   "pygments_lexer": "ipython3",
   "version": "3.9.10"
  }
 },
 "nbformat": 4,
 "nbformat_minor": 5
}
