{
 "cells": [
  {
   "cell_type": "code",
   "execution_count": 1,
   "id": "f3982f0e",
   "metadata": {},
   "outputs": [],
   "source": [
    "%use krangl"
   ]
  },
  {
   "cell_type": "code",
   "execution_count": 2,
   "id": "0de2fca6",
   "metadata": {
    "scrolled": true
   },
   "outputs": [
    {
     "data": {
      "text/html": [
       "<html><body><table><tr><th style=\"text-align:left\">class</th><th style=\"text-align:left\">Alcohol</th><th style=\"text-align:left\">Malic_acid</th><th style=\"text-align:left\">Ash</th><th style=\"text-align:left\">Alcalinity_of_ash</th><th style=\"text-align:left\">Magnesium</th><th style=\"text-align:left\">Total_phenols</th><th style=\"text-align:left\">Flavanoids</th><th style=\"text-align:left\">Nonflavanoid_phenols</th><th style=\"text-align:left\">Proanthocyanins</th><th style=\"text-align:left\">Color_intensity</th><th style=\"text-align:left\">Hue</th><th style=\"text-align:left\">OD280%2FOD315_of_diluted_wines</th><th style=\"text-align:left\">Proline</th></tr><tr><td style=\"text-align:left\" title=\"1\">1</td><td style=\"text-align:left\" title=\"14.23\">14.23</td><td style=\"text-align:left\" title=\"1.71\">1.71</td><td style=\"text-align:left\" title=\"2.43\">2.43</td><td style=\"text-align:left\" title=\"15.6\">15.6</td><td style=\"text-align:left\" title=\"127\">127</td><td style=\"text-align:left\" title=\"2.8\">2.8</td><td style=\"text-align:left\" title=\"3.06\">3.06</td><td style=\"text-align:left\" title=\"0.28\">0.28</td><td style=\"text-align:left\" title=\"2.29\">2.29</td><td style=\"text-align:left\" title=\"5.64\">5.64</td><td style=\"text-align:left\" title=\"1.04\">1.04</td><td style=\"text-align:left\" title=\"3.92\">3.92</td><td style=\"text-align:left\" title=\"1065\">1065</td></tr><tr><td style=\"text-align:left\" title=\"1\">1</td><td style=\"text-align:left\" title=\"13.2\">13.2</td><td style=\"text-align:left\" title=\"1.78\">1.78</td><td style=\"text-align:left\" title=\"2.14\">2.14</td><td style=\"text-align:left\" title=\"11.2\">11.2</td><td style=\"text-align:left\" title=\"100\">100</td><td style=\"text-align:left\" title=\"2.65\">2.65</td><td style=\"text-align:left\" title=\"2.76\">2.76</td><td style=\"text-align:left\" title=\"0.26\">0.26</td><td style=\"text-align:left\" title=\"1.28\">1.28</td><td style=\"text-align:left\" title=\"4.38\">4.38</td><td style=\"text-align:left\" title=\"1.05\">1.05</td><td style=\"text-align:left\" title=\"3.4\">3.4</td><td style=\"text-align:left\" title=\"1050\">1050</td></tr><tr><td style=\"text-align:left\" title=\"1\">1</td><td style=\"text-align:left\" title=\"13.16\">13.16</td><td style=\"text-align:left\" title=\"2.36\">2.36</td><td style=\"text-align:left\" title=\"2.67\">2.67</td><td style=\"text-align:left\" title=\"18.6\">18.6</td><td style=\"text-align:left\" title=\"101\">101</td><td style=\"text-align:left\" title=\"2.8\">2.8</td><td style=\"text-align:left\" title=\"3.24\">3.24</td><td style=\"text-align:left\" title=\"0.3\">0.3</td><td style=\"text-align:left\" title=\"2.81\">2.81</td><td style=\"text-align:left\" title=\"5.68\">5.68</td><td style=\"text-align:left\" title=\"1.03\">1.03</td><td style=\"text-align:left\" title=\"3.17\">3.17</td><td style=\"text-align:left\" title=\"1185\">1185</td></tr><tr><td style=\"text-align:left\" title=\"1\">1</td><td style=\"text-align:left\" title=\"14.37\">14.37</td><td style=\"text-align:left\" title=\"1.95\">1.95</td><td style=\"text-align:left\" title=\"2.5\">2.5</td><td style=\"text-align:left\" title=\"16.8\">16.8</td><td style=\"text-align:left\" title=\"113\">113</td><td style=\"text-align:left\" title=\"3.85\">3.85</td><td style=\"text-align:left\" title=\"3.49\">3.49</td><td style=\"text-align:left\" title=\"0.24\">0.24</td><td style=\"text-align:left\" title=\"2.18\">2.18</td><td style=\"text-align:left\" title=\"7.8\">7.8</td><td style=\"text-align:left\" title=\"0.86\">0.86</td><td style=\"text-align:left\" title=\"3.45\">3.45</td><td style=\"text-align:left\" title=\"1480\">1480</td></tr><tr><td style=\"text-align:left\" title=\"1\">1</td><td style=\"text-align:left\" title=\"13.24\">13.24</td><td style=\"text-align:left\" title=\"2.59\">2.59</td><td style=\"text-align:left\" title=\"2.87\">2.87</td><td style=\"text-align:left\" title=\"21.0\">21.0</td><td style=\"text-align:left\" title=\"118\">118</td><td style=\"text-align:left\" title=\"2.8\">2.8</td><td style=\"text-align:left\" title=\"2.69\">2.69</td><td style=\"text-align:left\" title=\"0.39\">0.39</td><td style=\"text-align:left\" title=\"1.82\">1.82</td><td style=\"text-align:left\" title=\"4.32\">4.32</td><td style=\"text-align:left\" title=\"1.04\">1.04</td><td style=\"text-align:left\" title=\"2.93\">2.93</td><td style=\"text-align:left\" title=\"735\">735</td></tr></table><p>Shape: 5 x 14. \n",
       "</p></body></html>"
      ]
     },
     "execution_count": 2,
     "metadata": {},
     "output_type": "execute_result"
    }
   ],
   "source": [
    "val df = DataFrame.readCSV(\"./dataset_wine.csv\")\n",
    "df.head()"
   ]
  },
  {
   "cell_type": "code",
   "execution_count": 3,
   "id": "41c62dce",
   "metadata": {},
   "outputs": [
    {
     "data": {
      "text/html": [
       "<html><body><table><tr><th style=\"text-align:left\">Name</th><th style=\"text-align:left\">Type</th><th style=\"text-align:left\">Values</th></tr></tr><td style=\"text-align:left\">class</td><td style=\"text-align:left\">[Int]</td><td style=\"text-align:left\">1, 1, 1, 1, 1, 1, 1, 1, 1, 1, 1, 1, 1, 1, 1, 1, 1, 1, 1, 1, 1, 1, 1, 1, 1, 1, 1, 1, 1, 1, 1, 1, 1, 1...</td></tr></tr><td style=\"text-align:left\">Alcohol</td><td style=\"text-align:left\">[Dbl]</td><td style=\"text-align:left\">14,23, 13,2, 13,16, 14,37, 13,24, 14,2, 14,39, 14,06, 14,83, 13,86, 14,1, 14,12, 13,75, 14,75, 14,38...</td></tr></tr><td style=\"text-align:left\">Malic_acid</td><td style=\"text-align:left\">[Dbl]</td><td style=\"text-align:left\">1,71, 1,78, 2,36, 1,95, 2,59, 1,76, 1,87, 2,15, 1,64, 1,35, 2,16, 1,48, 1,73, 1,73, 1,87, 1,81, 1,92...</td></tr></tr><td style=\"text-align:left\">Ash</td><td style=\"text-align:left\">[Dbl]</td><td style=\"text-align:left\">2,43, 2,14, 2,67, 2,5, 2,87, 2,45, 2,45, 2,61, 2,17, 2,27, 2,3, 2,32, 2,41, 2,39, 2,38, 2,7, 2,72, 2...</td></tr></tr><td style=\"text-align:left\">Alcalinity_of_ash</td><td style=\"text-align:left\">[Dbl]</td><td style=\"text-align:left\">15,6, 11,2, 18,6, 16,8, 21, 15,2, 14,6, 17,6, 14, 16, 18, 16,8, 16, 11,4, 12, 17,2, 20, 20, 16,5, 15...</td></tr></tr><td style=\"text-align:left\">Magnesium</td><td style=\"text-align:left\">[Int]</td><td style=\"text-align:left\">127, 100, 101, 113, 118, 112, 96, 121, 97, 98, 105, 95, 89, 91, 102, 112, 120, 115, 108, 116, 126, 1...</td></tr></tr><td style=\"text-align:left\">Total_phenols</td><td style=\"text-align:left\">[Dbl]</td><td style=\"text-align:left\">2,8, 2,65, 2,8, 3,85, 2,8, 3,27, 2,5, 2,6, 2,8, 2,98, 2,95, 2,2, 2,6, 3,1, 3,3, 2,85, 2,8, 2,95, 3,3...</td></tr></tr><td style=\"text-align:left\">Flavanoids</td><td style=\"text-align:left\">[Dbl]</td><td style=\"text-align:left\">3,06, 2,76, 3,24, 3,49, 2,69, 3,39, 2,52, 2,51, 2,98, 3,15, 3,32, 2,43, 2,76, 3,69, 3,64, 2,91, 3,14...</td></tr></tr><td style=\"text-align:left\">Nonflavanoid_phenols</td><td style=\"text-align:left\">[Dbl]</td><td style=\"text-align:left\">0,28, 0,26, 0,3, 0,24, 0,39, 0,34, 0,3, 0,31, 0,29, 0,22, 0,22, 0,26, 0,29, 0,43, 0,29, 0,3, 0,33, 0...</td></tr></tr><td style=\"text-align:left\">Proanthocyanins</td><td style=\"text-align:left\">[Dbl]</td><td style=\"text-align:left\">2,29, 1,28, 2,81, 2,18, 1,82, 1,97, 1,98, 1,25, 1,98, 1,85, 2,38, 1,57, 1,81, 2,81, 2,96, 1,46, 1,97...</td></tr></tr><td style=\"text-align:left\">Color_intensity</td><td style=\"text-align:left\">[Dbl]</td><td style=\"text-align:left\">5,64, 4,38, 5,68, 7,8, 4,32, 6,75, 5,25, 5,05, 5,2, 7,22, 5,75, 5, 5,6, 5,4, 7,5, 7,3, 6,2, 6,6, 8,7...</td></tr></tr><td style=\"text-align:left\">Hue</td><td style=\"text-align:left\">[Dbl]</td><td style=\"text-align:left\">1,04, 1,05, 1,03, 0,86, 1,04, 1,05, 1,02, 1,06, 1,08, 1,01, 1,25, 1,17, 1,15, 1,25, 1,2, 1,28, 1,07,...</td></tr></tr><td style=\"text-align:left\">OD280%2FOD315_of_diluted_wines</td><td style=\"text-align:left\">[Dbl]</td><td style=\"text-align:left\">3,92, 3,4, 3,17, 3,45, 2,93, 2,85, 3,58, 3,58, 2,85, 3,55, 3,17, 2,82, 2,9, 2,73, 3, 2,88, 2,65, 2,5...</td></tr></tr><td style=\"text-align:left\">Proline</td><td style=\"text-align:left\">[Int]</td><td style=\"text-align:left\">1065, 1050, 1185, 1480, 735, 1450, 1290, 1295, 1045, 1045, 1510, 1280, 1320, 1150, 1547, 1310, 1280,...</td></tr></table>DataFrame with 178 observations\n",
       "</body></html>"
      ]
     },
     "execution_count": 3,
     "metadata": {},
     "output_type": "execute_result"
    }
   ],
   "source": [
    "df.schema()"
   ]
  },
  {
   "cell_type": "code",
   "execution_count": 4,
   "id": "0fe7b01f",
   "metadata": {},
   "outputs": [
    {
     "data": {
      "text/plain": [
       "3"
      ]
     },
     "execution_count": 4,
     "metadata": {},
     "output_type": "execute_result"
    }
   ],
   "source": [
    "val classes: Array<Int> = df.cols[0].values().map { it.toString().toInt() }.toTypedArray() \n",
    "val sizeClasses = classes.maxOrNull()\n",
    "sizeClasses"
   ]
  },
  {
   "cell_type": "code",
   "execution_count": 5,
   "id": "ae34bc0b",
   "metadata": {},
   "outputs": [
    {
     "data": {
      "text/plain": [
       "178"
      ]
     },
     "execution_count": 5,
     "metadata": {},
     "output_type": "execute_result"
    }
   ],
   "source": [
    "val sizeDf = df.nrow\n",
    "sizeDf"
   ]
  },
  {
   "cell_type": "code",
   "execution_count": 6,
   "id": "b5c91a9a",
   "metadata": {},
   "outputs": [
    {
     "data": {
      "text/html": [
       "<html><body><table><tr><th style=\"text-align:left\">Alcohol</th><th style=\"text-align:left\">Malic_acid</th><th style=\"text-align:left\">Ash</th><th style=\"text-align:left\">Alcalinity_of_ash</th><th style=\"text-align:left\">Magnesium</th><th style=\"text-align:left\">Total_phenols</th><th style=\"text-align:left\">Flavanoids</th><th style=\"text-align:left\">Nonflavanoid_phenols</th><th style=\"text-align:left\">Proanthocyanins</th><th style=\"text-align:left\">Color_intensity</th><th style=\"text-align:left\">Hue</th><th style=\"text-align:left\">OD280%2FOD315_of_diluted_wines</th><th style=\"text-align:left\">Proline</th></tr><tr><td style=\"text-align:left\" title=\"14.23\">14.23</td><td style=\"text-align:left\" title=\"1.71\">1.71</td><td style=\"text-align:left\" title=\"2.43\">2.43</td><td style=\"text-align:left\" title=\"15.6\">15.6</td><td style=\"text-align:left\" title=\"127\">127</td><td style=\"text-align:left\" title=\"2.8\">2.8</td><td style=\"text-align:left\" title=\"3.06\">3.06</td><td style=\"text-align:left\" title=\"0.28\">0.28</td><td style=\"text-align:left\" title=\"2.29\">2.29</td><td style=\"text-align:left\" title=\"5.64\">5.64</td><td style=\"text-align:left\" title=\"1.04\">1.04</td><td style=\"text-align:left\" title=\"3.92\">3.92</td><td style=\"text-align:left\" title=\"1065\">1065</td></tr><tr><td style=\"text-align:left\" title=\"13.2\">13.2</td><td style=\"text-align:left\" title=\"1.78\">1.78</td><td style=\"text-align:left\" title=\"2.14\">2.14</td><td style=\"text-align:left\" title=\"11.2\">11.2</td><td style=\"text-align:left\" title=\"100\">100</td><td style=\"text-align:left\" title=\"2.65\">2.65</td><td style=\"text-align:left\" title=\"2.76\">2.76</td><td style=\"text-align:left\" title=\"0.26\">0.26</td><td style=\"text-align:left\" title=\"1.28\">1.28</td><td style=\"text-align:left\" title=\"4.38\">4.38</td><td style=\"text-align:left\" title=\"1.05\">1.05</td><td style=\"text-align:left\" title=\"3.4\">3.4</td><td style=\"text-align:left\" title=\"1050\">1050</td></tr><tr><td style=\"text-align:left\" title=\"13.16\">13.16</td><td style=\"text-align:left\" title=\"2.36\">2.36</td><td style=\"text-align:left\" title=\"2.67\">2.67</td><td style=\"text-align:left\" title=\"18.6\">18.6</td><td style=\"text-align:left\" title=\"101\">101</td><td style=\"text-align:left\" title=\"2.8\">2.8</td><td style=\"text-align:left\" title=\"3.24\">3.24</td><td style=\"text-align:left\" title=\"0.3\">0.3</td><td style=\"text-align:left\" title=\"2.81\">2.81</td><td style=\"text-align:left\" title=\"5.68\">5.68</td><td style=\"text-align:left\" title=\"1.03\">1.03</td><td style=\"text-align:left\" title=\"3.17\">3.17</td><td style=\"text-align:left\" title=\"1185\">1185</td></tr><tr><td style=\"text-align:left\" title=\"14.37\">14.37</td><td style=\"text-align:left\" title=\"1.95\">1.95</td><td style=\"text-align:left\" title=\"2.5\">2.5</td><td style=\"text-align:left\" title=\"16.8\">16.8</td><td style=\"text-align:left\" title=\"113\">113</td><td style=\"text-align:left\" title=\"3.85\">3.85</td><td style=\"text-align:left\" title=\"3.49\">3.49</td><td style=\"text-align:left\" title=\"0.24\">0.24</td><td style=\"text-align:left\" title=\"2.18\">2.18</td><td style=\"text-align:left\" title=\"7.8\">7.8</td><td style=\"text-align:left\" title=\"0.86\">0.86</td><td style=\"text-align:left\" title=\"3.45\">3.45</td><td style=\"text-align:left\" title=\"1480\">1480</td></tr><tr><td style=\"text-align:left\" title=\"13.24\">13.24</td><td style=\"text-align:left\" title=\"2.59\">2.59</td><td style=\"text-align:left\" title=\"2.87\">2.87</td><td style=\"text-align:left\" title=\"21.0\">21.0</td><td style=\"text-align:left\" title=\"118\">118</td><td style=\"text-align:left\" title=\"2.8\">2.8</td><td style=\"text-align:left\" title=\"2.69\">2.69</td><td style=\"text-align:left\" title=\"0.39\">0.39</td><td style=\"text-align:left\" title=\"1.82\">1.82</td><td style=\"text-align:left\" title=\"4.32\">4.32</td><td style=\"text-align:left\" title=\"1.04\">1.04</td><td style=\"text-align:left\" title=\"2.93\">2.93</td><td style=\"text-align:left\" title=\"735\">735</td></tr></table><p>Shape: 5 x 13. \n",
       "</p></body></html>"
      ]
     },
     "execution_count": 6,
     "metadata": {},
     "output_type": "execute_result"
    }
   ],
   "source": [
    "val dfObjects = df.remove(\"class\")\n",
    "dfObjects.head()"
   ]
  },
  {
   "cell_type": "code",
   "execution_count": 10,
   "id": "1c2f3b73",
   "metadata": {},
   "outputs": [],
   "source": [
    "val minMax:List<Pair<Double, Double>> = dfObjects.cols.map { Pair(it.min()!!, it.max()!!) }\n",
    "\n",
    "val objects = Array<List<Double>>(sizeDf, { \n",
    "    dfObjects.row(it).values.mapIndexed { i, el ->  (el.toString().toDouble() - minMax[i].first) /  (minMax[i].second - minMax[i].first)}\n",
    "    })"
   ]
  },
  {
   "cell_type": "code",
   "execution_count": 11,
   "id": "f142594d",
   "metadata": {},
   "outputs": [],
   "source": [
    "val metrics = listOf(\"manhattan\", \"euclidean\", \"chebyshev\")\n",
    "val cores = listOf(\"uniform\", \"triangular\", \"epanechnikov\", \"quartic\")\n",
    "val windowTypes = listOf(\"fixed\", \"variable\")\n",
    "\n",
    "fun metric(name: String): (List<Double>, List<Double>) -> Double = when (name) {\n",
    "    \"manhattan\" -> { a, b -> (a zip b).map { abs(it.first - it.second) }.reduce(Double::plus) }\n",
    "    \"euclidean\" -> { a, b ->\n",
    "        sqrt((a zip b).map { (it.first - it.second) * (it.first - it.second) }.reduce(Double::plus))\n",
    "    }\n",
    "    \"chebyshev\" -> { a, b -> (a zip b).map { abs(it.first - it.second) }.reduce(::max) }\n",
    "    else -> throw RuntimeException(\"No data dist\")\n",
    "}\n",
    "\n",
    "fun core(name: String): (u: Double) -> Double = when (name) {\n",
    "    \"uniform\" -> { u -> if (u < 1.0) 0.5 else 0.0 }\n",
    "    \"triangular\" -> { u -> if (u < 1.0) 1.0 - u else 0.0 }\n",
    "    \"epanechnikov\" -> { u -> if (u < 1.0) 0.75 * (1 - (u * u)) else 0.0 }\n",
    "    \"quartic\" -> { u -> if (u < 1.0) (15.0 / 16.0) * (1.0 - u * u).pow(2) else 0.0 }\n",
    "    else -> throw RuntimeException(\"No data dist\")\n",
    "}"
   ]
  },
  {
   "cell_type": "code",
   "execution_count": 12,
   "id": "2b0044c6",
   "metadata": {},
   "outputs": [],
   "source": [
    "fun oneHot(sizeDf: Int, sizeCl: Int, classes: Array<Int>): Array<IntArray> = Array(sizeDf) { i ->\n",
    "    IntArray(sizeCl) { if (classes[i] == it + 1) 1 else 0 } \n",
    "}"
   ]
  },
  {
   "cell_type": "code",
   "execution_count": 13,
   "id": "6580fc9f",
   "metadata": {},
   "outputs": [],
   "source": [
    "val resOneHot = oneHot(sizeDf, sizeClasses, classes)"
   ]
  },
  {
   "cell_type": "code",
   "execution_count": 14,
   "id": "79f2ebdd",
   "metadata": {},
   "outputs": [],
   "source": [
    "import java.lang.RuntimeException\n",
    "import kotlin.math.abs\n",
    "import kotlin.math.max\n",
    "import kotlin.math.sqrt\n",
    "\n",
    "class NadarayWatson(\n",
    "    private val classes: Array<Int>,\n",
    "    private val objects: Array<List<Double>>,\n",
    "    private val resOneHot: Array<IntArray>,\n",
    "    private val metric: (List<Double>, List<Double>) -> Double,\n",
    "    private val core: (Double) -> Double,\n",
    "    private val windowType: String,\n",
    "    private val sizeClasses: Int\n",
    ") {\n",
    "    private val `R(D)`: Double\n",
    "    private val sizeDf = objects.size\n",
    "\n",
    "    private companion object {\n",
    "        const val eps = 10e-10\n",
    "    }\n",
    "\n",
    "    init {\n",
    "        var rD = 0.0\n",
    "\n",
    "        (objects.indices).forEach { i ->\n",
    "            (i + 1 until objects.size).forEach { j ->\n",
    "                rD = max(rD, metric(objects[i], objects[j]))\n",
    "            }\n",
    "        }\n",
    "\n",
    "        `R(D)` = rD\n",
    "    }\n",
    "\n",
    "\n",
    "    fun solve(): Double {\n",
    "        val D = sqrt(sizeDf.toDouble())\n",
    "        var solution = 0.0\n",
    "\n",
    "        when (windowType) {\n",
    "            \"fixed\" -> {\n",
    "                var h = `R(D)` / D;\n",
    "                val step = `R(D)` / D\n",
    "                while ((`R(D)` - h) > eps) {\n",
    "                    solution = max(solution, localSolve(h))\n",
    "                    h += step\n",
    "                }\n",
    "            }\n",
    "            \"variable\" -> {\n",
    "                 (1 .. D.toInt()).forEach { solution = max(solution, localSolve(it.toDouble())) }\n",
    "            }\n",
    "            else -> throw RuntimeException(\"No data window type\")\n",
    "        }\n",
    "        return solution\n",
    "    }\n",
    "\n",
    "    fun localSolve(h: Double): Double {\n",
    "        val confusionMatrix: Array<DoubleArray> = Array(sizeClasses) { DoubleArray(sizeClasses) }\n",
    "        val classesCount = DoubleArray(sizeDf)\n",
    "\n",
    "        (0 until sizeDf).forEach {\n",
    "            val oneHot = leaveOneHot(it, h)\n",
    "            val `class` =  getClass(oneHot)\n",
    "            confusionMatrix[classes[it] - 1][`class` - 1]++\n",
    "            classesCount[classes[it] - 1]++\n",
    "        }\n",
    "\n",
    "        return `f-score`(confusionMatrix, classesCount)\n",
    "    }\n",
    "\n",
    "    private fun getClass(cl: Array<Double>): Int {\n",
    "        var mx = 0\n",
    "        (cl.indices).forEach {\n",
    "            mx = if (cl[it] > cl[mx]) it else mx\n",
    "        }\n",
    "\n",
    "        return mx + 1\n",
    "    }\n",
    "\n",
    "    private fun isZero(z: Double) = abs(z) < eps\n",
    "\n",
    "    private fun precision(tp: Double, fp: Double) = if (isZero(tp + fp)) 0.0 else tp / (tp + fp)\n",
    "\n",
    "    private fun recall(tp: Double, fn: Double) = if (isZero(tp + fn)) 0.0 else tp / (tp + fn)\n",
    "\n",
    "    private fun `f-score`(precision: Double, recall: Double): Double =\n",
    "        if (isZero(precision + recall)) 0.0 else 2.0 * precision * recall / (precision + recall)\n",
    "\n",
    "    private data class Point(\n",
    "        val coordinates: List<Double>,\n",
    "        var y: Int,\n",
    "        val dist: Double\n",
    "    )\n",
    "\n",
    "    private fun nadarayWatsonFixed(i: Int, y: Int, h: Double): Double {\n",
    "        val `data` = objects.mapIndexed { it, p -> Point(p, resOneHot[it][y], metric(p, objects[i])) }\n",
    "        `data`[i].y = 0\n",
    "        val denominator = `data`.mapIndexed { j, it -> if (i == j) 0.0 else core(it.dist / h) }.reduce(Double::plus)\n",
    "        val numerator = `data`.mapIndexed { j, it -> if (i == j) 0.0  else it.y * core(it.dist / h) }.reduce(Double::plus)\n",
    "\n",
    "        return if (denominator < eps) data.map { it.y }.reduce(Int::plus).toDouble() / data.size\n",
    "            else  numerator / denominator \n",
    "    }\n",
    "\n",
    "    private fun nadarayWatsonVariable(i: Int, y: Int, k: Int): Double {\n",
    "        val data = objects.map { p -> Point(p, y, metric(p, objects[i])) }.sortedBy { it.dist }.subList(1, objects.size)\n",
    "        val h = data[k].dist\n",
    "\n",
    "        return nadarayWatsonFixed(i, y, h)\n",
    "    }\n",
    "\n",
    "\n",
    "    private fun leaveOneHot(i: Int, h: Double): Array<Double> = Array(sizeClasses) {\n",
    "        return@Array when (windowType) {\n",
    "            \"fixed\" -> nadarayWatsonFixed(i, it, h)\n",
    "            \"variable\" -> nadarayWatsonVariable(i, it, h.toInt())\n",
    "            else -> throw RuntimeException(\"No data window type\")\n",
    "        }\n",
    "    }\n",
    "\n",
    "    private data class Triple(val tp: Double, val fp: Double, val fn: Double)\n",
    "\n",
    "    private fun fpCount(cm: Array<DoubleArray>, i: Int): Double {\n",
    "        var res = 0.0\n",
    "        for (j in cm.indices) if (j != i) res += cm[j][i]\n",
    "        \n",
    "        return res\n",
    "    }\n",
    "\n",
    "    private fun fnCount(cm: DoubleArray, i: Int): Double {\n",
    "        var res = 0.0\n",
    "        for (j in cm.indices) if (j != i) res += cm[j]\n",
    "        \n",
    "        return res\n",
    "    }\n",
    "\n",
    "    private fun `f-score`(confusionMatrix: Array<DoubleArray>, countClass: DoubleArray): Double {\n",
    "        val all = countClass.reduce(Double::plus)\n",
    "\n",
    "        return Array(sizeClasses) {\n",
    "            Triple(\n",
    "                confusionMatrix[it][it],\n",
    "                fpCount(confusionMatrix, it),\n",
    "                fnCount(confusionMatrix[it], it)\n",
    "            )\n",
    "        }.map {\n",
    "            Pair(\n",
    "                precision(it.tp, it.fp),\n",
    "                recall(it.tp, it.fn)\n",
    "            )\n",
    "        }.mapIndexed { i, it ->\n",
    "            `f-score`(it.first, it.second) * countClass[i]\n",
    "        }.reduce(Double::plus) / all\n",
    "    }\n",
    "}"
   ]
  },
  {
   "cell_type": "code",
   "execution_count": 15,
   "id": "f9fe5bac",
   "metadata": {},
   "outputs": [
    {
     "name": "stdout",
     "output_type": "stream",
     "text": [
      "metric: manhattan, core: uniform, windowType: fixed.\n",
      "max f-score = 0.977410695592355\n",
      "metric: manhattan, core: uniform, windowType: variable.\n",
      "max f-score = 0.9831024479956075\n",
      "metric: manhattan, core: triangular, windowType: fixed.\n",
      "max f-score = 0.9831024479956075\n",
      "metric: manhattan, core: triangular, windowType: variable.\n",
      "max f-score = 0.9660316235538238\n",
      "metric: manhattan, core: epanechnikov, windowType: fixed.\n",
      "max f-score = 0.9831024479956075\n",
      "metric: manhattan, core: epanechnikov, windowType: variable.\n",
      "max f-score = 0.9660316235538238\n",
      "metric: manhattan, core: quartic, windowType: fixed.\n",
      "max f-score = 0.9774403017265568\n",
      "metric: manhattan, core: quartic, windowType: variable.\n",
      "max f-score = 0.9717211088202108\n",
      "metric: euclidean, core: uniform, windowType: fixed.\n",
      "max f-score = 0.9717874929756182\n",
      "metric: euclidean, core: uniform, windowType: variable.\n",
      "max f-score = 0.977410695592355\n",
      "metric: euclidean, core: triangular, windowType: fixed.\n",
      "max f-score = 0.9774612092027822\n",
      "metric: euclidean, core: triangular, windowType: variable.\n",
      "max f-score = 0.971746518742746\n",
      "metric: euclidean, core: epanechnikov, windowType: fixed.\n",
      "max f-score = 0.971746518742746\n",
      "metric: euclidean, core: epanechnikov, windowType: variable.\n",
      "max f-score = 0.971746518742746\n",
      "metric: euclidean, core: quartic, windowType: fixed.\n",
      "max f-score = 0.977410695592355\n",
      "metric: euclidean, core: quartic, windowType: variable.\n",
      "max f-score = 0.9603129696694559\n",
      "metric: chebyshev, core: uniform, windowType: fixed.\n",
      "max f-score = 0.9604882038999868\n",
      "metric: chebyshev, core: uniform, windowType: variable.\n",
      "max f-score = 0.9489213371512137\n",
      "metric: chebyshev, core: triangular, windowType: fixed.\n",
      "max f-score = 0.966126553210439\n",
      "metric: chebyshev, core: triangular, windowType: variable.\n",
      "max f-score = 0.9490104311759062\n",
      "metric: chebyshev, core: epanechnikov, windowType: fixed.\n",
      "max f-score = 0.966126553210439\n",
      "metric: chebyshev, core: epanechnikov, windowType: variable.\n",
      "max f-score = 0.9490104311759062\n",
      "metric: chebyshev, core: quartic, windowType: fixed.\n",
      "max f-score = 0.9660316235538238\n",
      "metric: chebyshev, core: quartic, windowType: variable.\n",
      "max f-score = 0.9548325622383785\n",
      "The best paramenters: metric: manhattan, core: uniform, windowType: variable. Max f-score: 0.9831024479956075.\n"
     ]
    }
   ],
   "source": [
    "var mx = 0.0 \n",
    "val ans = Array<String>(3) {\"\"}\n",
    "for (metric in metrics) {\n",
    "    for (core in cores) {\n",
    "        for (windowType in windowTypes) {\n",
    "            println(\"metric: $metric, core: $core, windowType: $windowType.\")\n",
    "            val fScore = NadarayWatson(\n",
    "                classes,\n",
    "                objects,\n",
    "                resOneHot,\n",
    "                metric(metric),\n",
    "                core(core),\n",
    "                windowType,\n",
    "                sizeClasses\n",
    "            ).solve()\n",
    "            println(\"max f-score = $fScore\")\n",
    "            if (fScore > mx) {\n",
    "                mx = fScore\n",
    "                ans[0] = metric; ans[1] = core; ans[2] = windowType \n",
    "            }\n",
    "        }\n",
    "    }\n",
    "}\n",
    "\n",
    "println(\"The best paramenters: metric: ${ans[0]}, core: ${ans[1]}, windowType: ${ans[2]}. Max f-score: $mx.\")"
   ]
  },
  {
   "cell_type": "code",
   "execution_count": 16,
   "id": "8eb359a4",
   "metadata": {},
   "outputs": [],
   "source": [
    "val y: MutableList<Double> = mutableListOf()\n",
    "val x: MutableList<Double> = mutableListOf()\n",
    "\n",
    "val D = sqrt(sizeDf.toDouble())\n",
    "val nw = NadarayWatson(\n",
    "                classes,\n",
    "                objects,\n",
    "                resOneHot,\n",
    "                metric(\"manhattan\"),\n",
    "                core(\"uniform\"),\n",
    "                \"variable\",\n",
    "                sizeClasses\n",
    "            )\n",
    "(1 .. D.toInt()).forEach { x.add(it.toDouble()); y.add(nw.localSolve(it.toDouble())) }"
   ]
  },
  {
   "cell_type": "code",
   "execution_count": 17,
   "id": "36e287a4",
   "metadata": {},
   "outputs": [
    {
     "data": {
      "text/html": [
       "   <div id=\"C2YZ6G\"></div>\n",
       "   <script type=\"text/javascript\" data-lets-plot-script=\"library\">\n",
       "       if(!window.letsPlotCallQueue) {\n",
       "           window.letsPlotCallQueue = [];\n",
       "       }; \n",
       "       window.letsPlotCall = function(f) {\n",
       "           window.letsPlotCallQueue.push(f);\n",
       "       };\n",
       "       (function() {\n",
       "           var script = document.createElement(\"script\");\n",
       "           script.type = \"text/javascript\";\n",
       "           script.src = \"https://cdn.jsdelivr.net/gh/JetBrains/lets-plot@v2.2.1/js-package/distr/lets-plot.min.js\";\n",
       "           script.onload = function() {\n",
       "               window.letsPlotCall = function(f) {f();};\n",
       "               window.letsPlotCallQueue.forEach(function(f) {f();});\n",
       "               window.letsPlotCallQueue = [];\n",
       "               \n",
       "               \n",
       "           };\n",
       "           script.onerror = function(event) {\n",
       "               window.letsPlotCall = function(f) {};\n",
       "               window.letsPlotCallQueue = [];\n",
       "               var div = document.createElement(\"div\");\n",
       "               div.style.color = 'darkred';\n",
       "               div.textContent = 'Error loading Lets-Plot JS';\n",
       "               document.getElementById(\"C2YZ6G\").appendChild(div);\n",
       "           };\n",
       "           var e = document.getElementById(\"C2YZ6G\");\n",
       "           e.appendChild(script);\n",
       "       })();\n",
       "   </script>"
      ]
     },
     "metadata": {},
     "output_type": "display_data"
    },
    {
     "data": {
      "text/html": [
       "   <div id=\"tRmobb\"></div>\n",
       "   <script type=\"text/javascript\" data-lets-plot-script=\"plot\">\n",
       "       (function() {\n",
       "           var plotSpec={\n",
       "\"mapping\":{\n",
       "},\n",
       "\"data\":{\n",
       "\"x\":[1.0,2.0,3.0,4.0,5.0,6.0,7.0,8.0,9.0,10.0,11.0,12.0,13.0],\n",
       "\"y\":[0.9602783530026117,0.9604990699326762,0.9660316235538238,0.9717948737851385,0.9660128746456331,0.9604118003468551,0.9660128746456331,0.9660316235538238,0.977410695592355,0.977410695592355,0.9831024479956075,0.9774403017265568,0.9830867820512499]\n",
       "},\n",
       "\"ggsize\":{\n",
       "\"width\":700,\n",
       "\"height\":400\n",
       "},\n",
       "\"kind\":\"plot\",\n",
       "\"scales\":[],\n",
       "\"layers\":[{\n",
       "\"mapping\":{\n",
       "\"x\":\"x\",\n",
       "\"y\":\"y\"\n",
       "},\n",
       "\"stat\":\"identity\",\n",
       "\"color\":\"dark-green\",\n",
       "\"size\":4.0,\n",
       "\"data\":{\n",
       "},\n",
       "\"position\":\"identity\",\n",
       "\"geom\":\"point\"\n",
       "}]\n",
       "};\n",
       "           var plotContainer = document.getElementById(\"tRmobb\");\n",
       "           window.letsPlotCall(function() {{\n",
       "               LetsPlot.buildPlotFromProcessedSpecs(plotSpec, -1, -1, plotContainer);\n",
       "           }});\n",
       "       })();    \n",
       "   </script>"
      ]
     },
     "execution_count": 17,
     "metadata": {},
     "output_type": "execute_result"
    }
   ],
   "source": [
    "%use lets-plot\n",
    "\n",
    "val p = lets_plot(mapOf(\"x\" to x, \"y\" to y)) + ggsize(700, 400) + geomPoint(\n",
    "        color = \"dark-green\",\n",
    "        size = 4.0\n",
    "    ) { x = \"x\"; y = \"y\" }\n",
    "p"
   ]
  },
  {
   "cell_type": "code",
   "execution_count": null,
   "id": "a1d15a3c",
   "metadata": {},
   "outputs": [],
   "source": []
  }
 ],
 "metadata": {
  "kernelspec": {
   "display_name": "Kotlin",
   "language": "kotlin",
   "name": "kotlin"
  },
  "language_info": {
   "codemirror_mode": "text/x-kotlin",
   "file_extension": ".kt",
   "mimetype": "text/x-kotlin",
   "name": "kotlin",
   "nbconvert_exporter": "",
   "pygments_lexer": "kotlin",
   "version": "1.7.0-dev-1825"
  }
 },
 "nbformat": 4,
 "nbformat_minor": 5
}